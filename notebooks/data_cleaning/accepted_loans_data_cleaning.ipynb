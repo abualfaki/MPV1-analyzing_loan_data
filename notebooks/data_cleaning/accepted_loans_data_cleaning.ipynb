{
 "cells": [
  {
   "cell_type": "code",
   "execution_count": 92,
   "id": "fba7d9d5",
   "metadata": {},
   "outputs": [
    {
     "name": "stderr",
     "output_type": "stream",
     "text": [
      "/var/folders/yj/v54tzbn14gb70ts6s0j5s3xm0000gn/T/ipykernel_17159/3863113262.py:4: DtypeWarning: Columns (0,19,49,59,118,129,130,131,134,135,136,139,145,146,147) have mixed types. Specify dtype option on import or set low_memory=False.\n",
      "  accepted_df = pd.read_csv(\"/Users/abubakaral-faki/Documents/Data Project/MPV1/data/raw/accepted_2007_to_2018Q4.csv\")\n"
     ]
    }
   ],
   "source": [
    "import pandas as pd\n",
    "\n",
    "#Convert accepted_loans data to Panda DataFrame\n",
    "accepted_df = pd.read_csv(\"/Users/abubakaral-faki/Documents/Data Project/MPV1/data/raw/accepted_2007_to_2018Q4.csv\")"
   ]
  },
  {
   "cell_type": "code",
   "execution_count": 93,
   "id": "2cefbad9",
   "metadata": {},
   "outputs": [
    {
     "name": "stdout",
     "output_type": "stream",
     "text": [
      "         id  member_id  loan_amnt  funded_amnt  funded_amnt_inv        term  \\\n",
      "0  68407277        NaN     3600.0       3600.0           3600.0   36 months   \n",
      "1  68355089        NaN    24700.0      24700.0          24700.0   36 months   \n",
      "2  68341763        NaN    20000.0      20000.0          20000.0   60 months   \n",
      "3  66310712        NaN    35000.0      35000.0          35000.0   60 months   \n",
      "4  68476807        NaN    10400.0      10400.0          10400.0   60 months   \n",
      "\n",
      "   int_rate  installment grade sub_grade  ... hardship_payoff_balance_amount  \\\n",
      "0     13.99       123.03     C        C4  ...                            NaN   \n",
      "1     11.99       820.28     C        C1  ...                            NaN   \n",
      "2     10.78       432.66     B        B4  ...                            NaN   \n",
      "3     14.85       829.90     C        C5  ...                            NaN   \n",
      "4     22.45       289.91     F        F1  ...                            NaN   \n",
      "\n",
      "  hardship_last_payment_amount disbursement_method  debt_settlement_flag  \\\n",
      "0                          NaN                Cash                     N   \n",
      "1                          NaN                Cash                     N   \n",
      "2                          NaN                Cash                     N   \n",
      "3                          NaN                Cash                     N   \n",
      "4                          NaN                Cash                     N   \n",
      "\n",
      "  debt_settlement_flag_date settlement_status settlement_date  \\\n",
      "0                       NaN               NaN             NaN   \n",
      "1                       NaN               NaN             NaN   \n",
      "2                       NaN               NaN             NaN   \n",
      "3                       NaN               NaN             NaN   \n",
      "4                       NaN               NaN             NaN   \n",
      "\n",
      "  settlement_amount settlement_percentage settlement_term  \n",
      "0               NaN                   NaN             NaN  \n",
      "1               NaN                   NaN             NaN  \n",
      "2               NaN                   NaN             NaN  \n",
      "3               NaN                   NaN             NaN  \n",
      "4               NaN                   NaN             NaN  \n",
      "\n",
      "[5 rows x 151 columns]\n"
     ]
    }
   ],
   "source": [
    "#create a copy of data frame to work with temporarily before applying changes to original 'accepted_df' DataFrame\n",
    "accepted_df_copy = pd.DataFrame(accepted_df)\n",
    "\n",
    "print(accepted_df_copy.head())"
   ]
  },
  {
   "cell_type": "code",
   "execution_count": 94,
   "id": "2241a8f6",
   "metadata": {},
   "outputs": [],
   "source": [
    "# Created data sample to open inn excel\n",
    "\n",
    "#output_path = '/Users/abubakaral-faki/Documents/Data Project/MPV1/temp_files/accepted_df_copy.csv'\n",
    "\n",
    "#accepted_df_copy.head(10000).to_csv(output_path, index = False)"
   ]
  },
  {
   "cell_type": "markdown",
   "id": "624e469d",
   "metadata": {},
   "source": [
    "### Create a CSV of each column and it's datatype"
   ]
  },
  {
   "cell_type": "code",
   "execution_count": 95,
   "id": "1d7d0ecb",
   "metadata": {},
   "outputs": [
    {
     "name": "stdout",
     "output_type": "stream",
     "text": [
      "                 Variables Data Type\n",
      "0                       id    object\n",
      "1                member_id   float64\n",
      "2                loan_amnt   float64\n",
      "3              funded_amnt   float64\n",
      "4          funded_amnt_inv   float64\n",
      "..                     ...       ...\n",
      "146      settlement_status    object\n",
      "147        settlement_date    object\n",
      "148      settlement_amount   float64\n",
      "149  settlement_percentage   float64\n",
      "150        settlement_term   float64\n",
      "\n",
      "[151 rows x 2 columns]\n",
      "Successfully saved variable_data_types_df as a csv.\n"
     ]
    }
   ],
   "source": [
    "# Get data types of each variable\n",
    "variable_data_types_df = accepted_df.dtypes.reset_index()\n",
    "\n",
    "# Rename columns\n",
    "variable_data_types_df.columns = ['Variables', 'Data Type']\n",
    "print(variable_data_types_df)\n",
    "\n",
    "#Save as csv\n",
    "try:\n",
    "    file_path = '/Users/abubakaral-faki/Documents/Data Project/MPV1/temp_files/variables_data_type.csv'\n",
    "    \n",
    "    variable_data_types_df.to_csv(file_path, index = False)\n",
    "    print(\"Successfully saved variable_data_types_df as a csv.\")\n",
    "\n",
    "except Exception as e:\n",
    "    print(e)"
   ]
  },
  {
   "cell_type": "markdown",
   "id": "44a0550f",
   "metadata": {},
   "source": [
    "## Convert Date columns to Date Data Types"
   ]
  },
  {
   "cell_type": "code",
   "execution_count": 96,
   "id": "e022d546",
   "metadata": {},
   "outputs": [
    {
     "name": "stdout",
     "output_type": "stream",
     "text": [
      "11\n"
     ]
    }
   ],
   "source": [
    "# Convert Date_columns to Date Data types\n",
    "date_columns = ['issue_d', 'earliest_cr_line', 'last_pymnt_d', 'next_pymnt_d',\n",
    "                'last_credit_pull_d', 'sec_app_earliest_cr_line', 'hardship_start_date',\n",
    "                'hardship_end_date', 'payment_plan_start_date', 'debt_settlement_flag_date', 'settlement_date']\n",
    "\n",
    "print(len(date_columns))"
   ]
  },
  {
   "cell_type": "code",
   "execution_count": 97,
   "id": "4add6a6a",
   "metadata": {},
   "outputs": [
    {
     "data": {
      "text/plain": [
       "68     Sep-2017\n",
       "99     Nov-2017\n",
       "105    Jan-2018\n",
       "143    May-2018\n",
       "144    Sep-2017\n",
       "Name: settlement_date, dtype: object"
      ]
     },
     "execution_count": 97,
     "metadata": {},
     "output_type": "execute_result"
    }
   ],
   "source": [
    "# Check format of date before converting to date objects\n",
    "\n",
    "# We use dropna to drop all missing values in a columns because sometimes the first few rows have missing values\n",
    "\n",
    "accepted_df.settlement_date.dropna().head() # Date format \"%b-$Y\""
   ]
  },
  {
   "cell_type": "markdown",
   "id": "cbcfec36",
   "metadata": {},
   "source": [
    "## Check if all dates in each column for the same format"
   ]
  },
  {
   "cell_type": "code",
   "execution_count": 98,
   "id": "ad3e486f",
   "metadata": {},
   "outputs": [
    {
     "name": "stdout",
     "output_type": "stream",
     "text": [
      "Column 'issue_d' follows format '%b-%Y': True\n",
      "Column 'earliest_cr_line' follows format '%b-%Y': True\n",
      "Column 'last_pymnt_d' follows format '%b-%Y': True\n",
      "Column 'next_pymnt_d' follows format '%b-%Y': True\n",
      "Column 'last_credit_pull_d' follows format '%b-%Y': True\n",
      "Column 'sec_app_earliest_cr_line' follows format '%b-%Y': True\n",
      "Column 'hardship_start_date' follows format '%b-%Y': True\n",
      "Column 'hardship_end_date' follows format '%b-%Y': True\n",
      "Column 'payment_plan_start_date' follows format '%b-%Y': True\n",
      "Column 'debt_settlement_flag_date' follows format '%b-%Y': True\n",
      "Column 'settlement_date' follows format '%b-%Y': True\n"
     ]
    }
   ],
   "source": [
    "# Function to check format of dat columns\n",
    "def validate_date_format(series, date_format = '%b-%Y'):\n",
    "    try:\n",
    "        pd.to_datetime(series, format = date_format, errors = 'raise')\n",
    "        return True\n",
    "    except ValueError:\n",
    "        return False\n",
    "    \n",
    "#Check all columns\n",
    "validation_results = {col: validate_date_format(accepted_df[col]) for col in date_columns}\n",
    "\n",
    "# Display results of validate_results\n",
    "\n",
    "for column, is_valid in validation_results.items():\n",
    "    print(f\"Column '{column}' follows format '%b-%Y': {is_valid}\")\n",
    "\n"
   ]
  },
  {
   "cell_type": "markdown",
   "id": "0e98ae21",
   "metadata": {},
   "source": [
    "## Convert all date_columns to datetime64"
   ]
  },
  {
   "cell_type": "code",
   "execution_count": 99,
   "id": "177deebe",
   "metadata": {},
   "outputs": [
    {
     "name": "stdout",
     "output_type": "stream",
     "text": [
      "0   2015-12-01\n",
      "1   2015-12-01\n",
      "2   2015-12-01\n",
      "3   2015-12-01\n",
      "4   2015-12-01\n",
      "Name: issue_d, dtype: datetime64[ns]\n"
     ]
    }
   ],
   "source": [
    "# Specify the correct format: %b for abbreviated month name, %Y for 4-digit year\n",
    "date_format = \"%b-%Y\"\n",
    "\n",
    "# Convert date columns efficiently using the specified format\n",
    "accepted_df_copy[date_columns] = accepted_df_copy[date_columns].apply(lambda col: pd.to_datetime(col,format =  date_format, errors = 'coerce'))\n",
    "\n",
    "print(accepted_df_copy.issue_d.head())"
   ]
  },
  {
   "cell_type": "code",
   "execution_count": 100,
   "id": "c3fc42f9",
   "metadata": {},
   "outputs": [
    {
     "data": {
      "text/plain": [
       "issue_d                      datetime64[ns]\n",
       "earliest_cr_line             datetime64[ns]\n",
       "last_pymnt_d                 datetime64[ns]\n",
       "next_pymnt_d                 datetime64[ns]\n",
       "last_credit_pull_d           datetime64[ns]\n",
       "sec_app_earliest_cr_line     datetime64[ns]\n",
       "hardship_start_date          datetime64[ns]\n",
       "hardship_end_date            datetime64[ns]\n",
       "payment_plan_start_date      datetime64[ns]\n",
       "debt_settlement_flag_date    datetime64[ns]\n",
       "settlement_date              datetime64[ns]\n",
       "dtype: object"
      ]
     },
     "execution_count": 100,
     "metadata": {},
     "output_type": "execute_result"
    }
   ],
   "source": [
    "# Check if all date columns are in date format\n",
    "accepted_df_copy[date_columns].dtypes"
   ]
  },
  {
   "cell_type": "code",
   "execution_count": 101,
   "id": "d9b13ca7",
   "metadata": {},
   "outputs": [
    {
     "name": "stdout",
     "output_type": "stream",
     "text": [
      "68    2017-09-01\n",
      "99    2017-11-01\n",
      "105   2018-01-01\n",
      "143   2018-05-01\n",
      "144   2017-09-01\n",
      "Name: settlement_date, dtype: datetime64[ns]\n"
     ]
    }
   ],
   "source": [
    "# Check format of date columns\n",
    "print(accepted_df_copy.settlement_date.dropna().head())"
   ]
  },
  {
   "cell_type": "markdown",
   "id": "14b37f6d",
   "metadata": {},
   "source": [
    "## Convert categorical columns to 'category' type"
   ]
  },
  {
   "cell_type": "code",
   "execution_count": 102,
   "id": "ba40d5f0",
   "metadata": {},
   "outputs": [],
   "source": [
    "# Convert Categorical columns to category\n",
    "\n",
    "categorical_columns = ['term', 'grade', 'sub_grade', 'emp_length', 'home_ownership',\n",
    "                       'verification_status', 'loan_status', 'pymnt_plan', 'purpose'\n",
    "                       ,'addr_state', 'initial_list_status', 'application_type',\n",
    "                       'hardship_flag', 'hardship_type', 'hardship_reason', 'hardship_status',\n",
    "                       'hardship_loan_status', 'disbursement_method', 'debt_settlement_flag',\n",
    "                       'settlement_status']\n",
    "\n",
    "accepted_df_copy[categorical_columns] = accepted_df_copy[categorical_columns].apply(lambda col: col.astype('category'))"
   ]
  },
  {
   "cell_type": "code",
   "execution_count": 103,
   "id": "931f077a",
   "metadata": {},
   "outputs": [
    {
     "data": {
      "text/plain": [
       "term                    category\n",
       "grade                   category\n",
       "sub_grade               category\n",
       "emp_length              category\n",
       "home_ownership          category\n",
       "verification_status     category\n",
       "loan_status             category\n",
       "pymnt_plan              category\n",
       "purpose                 category\n",
       "addr_state              category\n",
       "initial_list_status     category\n",
       "application_type        category\n",
       "hardship_flag           category\n",
       "hardship_type           category\n",
       "hardship_reason         category\n",
       "hardship_status         category\n",
       "hardship_loan_status    category\n",
       "disbursement_method     category\n",
       "debt_settlement_flag    category\n",
       "settlement_status       category\n",
       "dtype: object"
      ]
     },
     "execution_count": 103,
     "metadata": {},
     "output_type": "execute_result"
    }
   ],
   "source": [
    "# Check if categorical columns are of categorical data type\n",
    "\n",
    "accepted_df_copy[categorical_columns].dtypes"
   ]
  },
  {
   "cell_type": "code",
   "execution_count": 104,
   "id": "d9b4d963",
   "metadata": {},
   "outputs": [
    {
     "data": {
      "text/plain": [
       "0          Debt consolidation\n",
       "1                    Business\n",
       "2                         NaN\n",
       "3          Debt consolidation\n",
       "4              Major purchase\n",
       "                  ...        \n",
       "2260696                   NaN\n",
       "2260697    Debt consolidation\n",
       "2260698                   NaN\n",
       "2260699                   NaN\n",
       "2260700                   NaN\n",
       "Name: title, Length: 2260701, dtype: object"
      ]
     },
     "execution_count": 104,
     "metadata": {},
     "output_type": "execute_result"
    }
   ],
   "source": [
    "# the title column will require some cleaning because the categories appear in a messiy format so I am converting \n",
    "# back to a string\n",
    "\n",
    "'''\n",
    "['\\tcredit_card', '\\tdebt_consolidation', '\\thouse', '\\tother', ..., 'zxcvb', '~Life Reorganization~', \n",
    "'~Summer Fun~', 'îîMY FIRST CAR îî']\n",
    "\n",
    "'''\n",
    "\n",
    "accepted_df_copy['title']"
   ]
  },
  {
   "cell_type": "markdown",
   "id": "37d33d86",
   "metadata": {},
   "source": [
    "### Convert 'id' column to int"
   ]
  },
  {
   "cell_type": "code",
   "execution_count": 105,
   "id": "b98a0f7f",
   "metadata": {},
   "outputs": [
    {
     "name": "stdout",
     "output_type": "stream",
     "text": [
      "count      2260701\n",
      "unique     2260701\n",
      "top       68407277\n",
      "freq             1\n",
      "Name: id, dtype: int64\n"
     ]
    },
    {
     "data": {
      "text/plain": [
       "\"This code below didn't work because there is a row that is a string representing this value;\\n 'Total amount funded in policy code 1: 6417608175'\\n\""
      ]
     },
     "execution_count": 105,
     "metadata": {},
     "output_type": "execute_result"
    }
   ],
   "source": [
    "#Convert the id column to int\n",
    "\n",
    "#check if 'id' column has any missing values\n",
    "print(accepted_df_copy['id'].describe())\n",
    "\n",
    "#convert id column from objext(text) to int\n",
    "\n",
    "'''This code below didn't work because there is a row that is a string representing this value;\n",
    " 'Total amount funded in policy code 1: 6417608175'\n",
    "'''\n",
    "\n",
    "# accepted_df_copy['id'] = accepted_df_copy['id'].astype(int)"
   ]
  },
  {
   "cell_type": "code",
   "execution_count": 106,
   "id": "1fdc50d5",
   "metadata": {},
   "outputs": [],
   "source": [
    "# find problematic row in 'id' column stopping it from being an int column\n",
    "problematic_row = accepted_df_copy[accepted_df_copy['id'] == 'Total amount funded in policy code 1: 6417608175'].index\n",
    "\n",
    "# Remove problematics row\n",
    "accepted_df_copy = accepted_df_copy.drop(index = problematic_row[0])"
   ]
  },
  {
   "cell_type": "code",
   "execution_count": 107,
   "id": "c10a37fa",
   "metadata": {},
   "outputs": [
    {
     "name": "stdout",
     "output_type": "stream",
     "text": [
      "32 non-int rows identified\n",
      "\n",
      "\n",
      "421096     Total amount funded in policy code 2: 1944088810\n",
      "528961     Total amount funded in policy code 1: 1741781700\n",
      "528962      Total amount funded in policy code 2: 564202131\n",
      "651664     Total amount funded in policy code 1: 1791201400\n",
      "651665      Total amount funded in policy code 2: 651669342\n",
      "749520     Total amount funded in policy code 1: 1443412975\n",
      "749521      Total amount funded in policy code 2: 511988838\n",
      "877716     Total amount funded in policy code 1: 2063142975\n",
      "877717      Total amount funded in policy code 2: 823319310\n",
      "983169     Total amount funded in policy code 1: 1538432075\n",
      "983170      Total amount funded in policy code 2: 608903141\n",
      "1117058    Total amount funded in policy code 1: 2087217200\n",
      "1117059     Total amount funded in policy code 2: 662815446\n",
      "1352689    Total amount funded in policy code 1: 3503840175\n",
      "1352690     Total amount funded in policy code 2: 873652739\n",
      "1481103    Total amount funded in policy code 1: 2050909275\n",
      "1481104     Total amount funded in policy code 2: 820109297\n",
      "1611877    Total amount funded in policy code 1: 2080429200\n",
      "1611878     Total amount funded in policy code 2: 737901574\n",
      "1651665            Loans that do not meet the credit policy\n",
      "1654415     Total amount funded in policy code 1: 460296150\n",
      "1654416             Total amount funded in policy code 2: 0\n",
      "1751196    Total amount funded in policy code 1: 1437969475\n",
      "1751197     Total amount funded in policy code 2: 520780182\n",
      "1939379    Total amount funded in policy code 1: 2700702175\n",
      "1939380      Total amount funded in policy code 2: 81866225\n",
      "2038501    Total amount funded in policy code 1: 1404586950\n",
      "2038502     Total amount funded in policy code 2: 567447023\n",
      "2157151    Total amount funded in policy code 1: 1817354125\n",
      "2157152     Total amount funded in policy code 2: 620899600\n",
      "2260699    Total amount funded in policy code 1: 1465324575\n",
      "2260700     Total amount funded in policy code 2: 521953170\n",
      "Name: id, dtype: object\n"
     ]
    }
   ],
   "source": [
    "# identify all rows in 'id' column that are not of type int\n",
    "\n",
    "non_int_rows = accepted_df_copy[~accepted_df_copy['id'].apply(lambda x: str(x).isdigit())] #33 rows\n",
    "\n",
    "print(len(non_int_rows['id']), 'non-int rows identified')\n",
    "print('\\n')\n",
    "print(non_int_rows['id'])"
   ]
  },
  {
   "cell_type": "code",
   "execution_count": 108,
   "id": "1367d3c4",
   "metadata": {},
   "outputs": [
    {
     "name": "stdout",
     "output_type": "stream",
     "text": [
      "All columns associated with non-int rows in 'id' columns are empty\n"
     ]
    }
   ],
   "source": [
    "# check if all columns associated with the non_int_rows in 'id' column are empty\n",
    "\n",
    "col_not_empty = non_int_rows.drop(columns=['id']).isna().all(axis=1)\n",
    "\n",
    "if (col_not_empty.all() == True):\n",
    "    print('All columns associated with non-int rows in \\'id\\' columns are empty')\n",
    "else:\n",
    "    print('All columns associated with non-int rows in \\'id\\' columns are\\'nt empty')"
   ]
  },
  {
   "cell_type": "code",
   "execution_count": 109,
   "id": "00a4b551",
   "metadata": {},
   "outputs": [
    {
     "name": "stdout",
     "output_type": "stream",
     "text": [
      "accepted_df shape before removing rows: (2260700, 151)\n",
      "\n",
      "Index([ 421096,  528961,  528962,  651664,  651665,  749520,  749521,  877716,\n",
      "        877717,  983169,  983170, 1117058, 1117059, 1352689, 1352690, 1481103,\n",
      "       1481104, 1611877, 1611878, 1651665, 1654415, 1654416, 1751196, 1751197,\n",
      "       1939379, 1939380, 2038501, 2038502, 2157151, 2157152, 2260699, 2260700],\n",
      "      dtype='int64')\n",
      "32 rows to remove\n",
      "\n",
      "\n",
      "32 successfully dropped\n",
      "\n",
      "\n",
      "accepted_df shape after removing rows: (2260668, 151)\n"
     ]
    }
   ],
   "source": [
    "# Drop all non-int rows in id column\n",
    "\n",
    "#Get shape of accepted_df Dataframe before dropping rows\n",
    "print('accepted_df shape before removing rows:', accepted_df_copy.shape)\n",
    "\n",
    "\n",
    "# Step 1 - Get index of non-int rows in 'id' column to drop\n",
    "nonint_rows_todrop = non_int_rows.index\n",
    "\n",
    "print()\n",
    "print(nonint_rows_todrop)\n",
    "print(len(nonint_rows_todrop), 'rows to remove\\n\\n')\n",
    "\n",
    "# Step 2 - remove non-int rows in 'id' column from accepted_df_copy\n",
    "\n",
    "accepted_df_copy = accepted_df_copy.drop(index = nonint_rows_todrop)\n",
    "print(len(nonint_rows_todrop), 'successfully dropped\\n\\n')\n",
    "\n",
    "# Step 3 - Check accepted_df shape to confirm if 32 rows were dropped\n",
    "\n",
    "print('accepted_df shape after removing rows:', accepted_df_copy.shape)\n"
   ]
  },
  {
   "cell_type": "code",
   "execution_count": 110,
   "id": "0ace5091",
   "metadata": {},
   "outputs": [
    {
     "data": {
      "text/html": [
       "<div>\n",
       "<style scoped>\n",
       "    .dataframe tbody tr th:only-of-type {\n",
       "        vertical-align: middle;\n",
       "    }\n",
       "\n",
       "    .dataframe tbody tr th {\n",
       "        vertical-align: top;\n",
       "    }\n",
       "\n",
       "    .dataframe thead th {\n",
       "        text-align: right;\n",
       "    }\n",
       "</style>\n",
       "<table border=\"1\" class=\"dataframe\">\n",
       "  <thead>\n",
       "    <tr style=\"text-align: right;\">\n",
       "      <th></th>\n",
       "      <th>id</th>\n",
       "      <th>member_id</th>\n",
       "      <th>loan_amnt</th>\n",
       "      <th>funded_amnt</th>\n",
       "      <th>funded_amnt_inv</th>\n",
       "      <th>term</th>\n",
       "      <th>int_rate</th>\n",
       "      <th>installment</th>\n",
       "      <th>grade</th>\n",
       "      <th>sub_grade</th>\n",
       "      <th>...</th>\n",
       "      <th>hardship_payoff_balance_amount</th>\n",
       "      <th>hardship_last_payment_amount</th>\n",
       "      <th>disbursement_method</th>\n",
       "      <th>debt_settlement_flag</th>\n",
       "      <th>debt_settlement_flag_date</th>\n",
       "      <th>settlement_status</th>\n",
       "      <th>settlement_date</th>\n",
       "      <th>settlement_amount</th>\n",
       "      <th>settlement_percentage</th>\n",
       "      <th>settlement_term</th>\n",
       "    </tr>\n",
       "  </thead>\n",
       "  <tbody>\n",
       "  </tbody>\n",
       "</table>\n",
       "<p>0 rows × 151 columns</p>\n",
       "</div>"
      ],
      "text/plain": [
       "Empty DataFrame\n",
       "Columns: [id, member_id, loan_amnt, funded_amnt, funded_amnt_inv, term, int_rate, installment, grade, sub_grade, emp_title, emp_length, home_ownership, annual_inc, verification_status, issue_d, loan_status, pymnt_plan, url, desc, purpose, title, zip_code, addr_state, dti, delinq_2yrs, earliest_cr_line, fico_range_low, fico_range_high, inq_last_6mths, mths_since_last_delinq, mths_since_last_record, open_acc, pub_rec, revol_bal, revol_util, total_acc, initial_list_status, out_prncp, out_prncp_inv, total_pymnt, total_pymnt_inv, total_rec_prncp, total_rec_int, total_rec_late_fee, recoveries, collection_recovery_fee, last_pymnt_d, last_pymnt_amnt, next_pymnt_d, last_credit_pull_d, last_fico_range_high, last_fico_range_low, collections_12_mths_ex_med, mths_since_last_major_derog, policy_code, application_type, annual_inc_joint, dti_joint, verification_status_joint, acc_now_delinq, tot_coll_amt, tot_cur_bal, open_acc_6m, open_act_il, open_il_12m, open_il_24m, mths_since_rcnt_il, total_bal_il, il_util, open_rv_12m, open_rv_24m, max_bal_bc, all_util, total_rev_hi_lim, inq_fi, total_cu_tl, inq_last_12m, acc_open_past_24mths, avg_cur_bal, bc_open_to_buy, bc_util, chargeoff_within_12_mths, delinq_amnt, mo_sin_old_il_acct, mo_sin_old_rev_tl_op, mo_sin_rcnt_rev_tl_op, mo_sin_rcnt_tl, mort_acc, mths_since_recent_bc, mths_since_recent_bc_dlq, mths_since_recent_inq, mths_since_recent_revol_delinq, num_accts_ever_120_pd, num_actv_bc_tl, num_actv_rev_tl, num_bc_sats, num_bc_tl, num_il_tl, num_op_rev_tl, ...]\n",
       "Index: []\n",
       "\n",
       "[0 rows x 151 columns]"
      ]
     },
     "execution_count": 110,
     "metadata": {},
     "output_type": "execute_result"
    }
   ],
   "source": [
    "# Check if we still have non-int rows in 'id' column\n",
    "\n",
    "accepted_df_copy[~accepted_df_copy['id'].apply(lambda row: str(row).isdigit())] #Should return an empty DF"
   ]
  },
  {
   "cell_type": "code",
   "execution_count": 111,
   "id": "06fd5774",
   "metadata": {},
   "outputs": [],
   "source": [
    "# Soooo now we can finally Convert 'id' column to integer\n",
    "accepted_df_copy['id'] = accepted_df_copy['id'].astype(int)"
   ]
  },
  {
   "cell_type": "code",
   "execution_count": 112,
   "id": "c50e64aa",
   "metadata": {},
   "outputs": [
    {
     "name": "stdout",
     "output_type": "stream",
     "text": [
      "<class 'pandas.core.series.Series'>\n",
      "Index: 2260668 entries, 0 to 2260698\n",
      "Series name: id\n",
      "Non-Null Count    Dtype\n",
      "--------------    -----\n",
      "2260668 non-null  int64\n",
      "dtypes: int64(1)\n",
      "memory usage: 34.5 MB\n"
     ]
    }
   ],
   "source": [
    "accepted_df_copy['id'].info()"
   ]
  },
  {
   "cell_type": "markdown",
   "id": "e34da039",
   "metadata": {},
   "source": [
    "### Check for other variables of type 'object' so we can convert to the right type if necessary"
   ]
  },
  {
   "cell_type": "code",
   "execution_count": 113,
   "id": "23dd9a26",
   "metadata": {},
   "outputs": [
    {
     "name": "stdout",
     "output_type": "stream",
     "text": [
      "                     variable    type\n",
      "10                  emp_title  object\n",
      "18                        url  object\n",
      "19                       desc  object\n",
      "21                      title  object\n",
      "22                   zip_code  object\n",
      "59  verification_status_joint  object\n"
     ]
    }
   ],
   "source": [
    "#Get data types of all variables and convert it to a DataFrame\n",
    "new_data_types = pd.DataFrame(accepted_df_copy.dtypes)\n",
    "\n",
    "# Reset index of Dataframe\n",
    "new_data_types = new_data_types.reset_index()\n",
    "\n",
    "#define column names\n",
    "new_data_types.columns = ['variable', 'type']\n",
    "\n",
    "#Get variables that are type 'object'\n",
    "object_vars = new_data_types[new_data_types['type'] == 'object']\n",
    "\n",
    "#Get all types\n",
    "#new_data_types['type'] = new_data_types['type'].astype('category')\n",
    "\n",
    "print(object_vars)\n"
   ]
  },
  {
   "cell_type": "code",
   "execution_count": 114,
   "id": "8cb725c9",
   "metadata": {},
   "outputs": [],
   "source": [
    "#print(new_data_types['type'].cat.categories)"
   ]
  },
  {
   "cell_type": "markdown",
   "id": "162bca34",
   "metadata": {},
   "source": [
    "## Cleaning emp_title column\n",
    "\n",
    "Convert emp_title to categorical variable and remove leading whitespaces from category names"
   ]
  },
  {
   "cell_type": "code",
   "execution_count": 115,
   "id": "e11d82cd",
   "metadata": {
    "scrolled": true
   },
   "outputs": [
    {
     "data": {
      "text/plain": [
       "Index(['\\tCFO', '\\tMultimedia Supervisor', '\\tSlot technician',\n",
       "       '\\tVP - Operations', ' ', ' \\tASR II', ' \\tAdv Mtr Proj Fld Rep',\n",
       "       ' \\tAuto Body Repair', ' \\tDriver', ' \\tEmployee Strategies Manager',\n",
       "       ...\n",
       "       'zueck transportation', 'zulily', '{Owner}Truck Driver',\n",
       "       '| Principal Business Solution Architect|',\n",
       "       'År.  Technical Illustrator', '​Associate Tech Support Analyst',\n",
       "       '​Financial Analyst', '​License Compliance Investigator',\n",
       "       '​Senior IT Field Support', '👨‍🍳 '],\n",
       "      dtype='object', length=512694)"
      ]
     },
     "execution_count": 115,
     "metadata": {},
     "output_type": "execute_result"
    }
   ],
   "source": [
    "# Convert emp_title to category or leave as oject\n",
    "accepted_df_copy['emp_title'] = accepted_df_copy['emp_title'].astype('category')\n",
    "\n",
    "#Check type of emp_title\n",
    "accepted_df_copy['emp_title'].cat.categories"
   ]
  },
  {
   "cell_type": "code",
   "execution_count": 116,
   "id": "8afe64b6",
   "metadata": {},
   "outputs": [],
   "source": [
    "#Export Categories to CSV file for manual check\n",
    "\n",
    "file_path = '/Users/abubakaral-faki/Documents/Data Project/MPV1/temp_files/emp_title_categories.csv'\n",
    "\n",
    "categories = accepted_df_copy['emp_title'].cat.categories\n",
    "\n",
    "pd.DataFrame({'job_titles': categories}).to_csv(file_path, index = False)"
   ]
  },
  {
   "cell_type": "markdown",
   "id": "e49a72bf",
   "metadata": {},
   "source": [
    "From a quick overview of the CSV file I saw:\n",
    "\n",
    "1.) numbers as job_titles\n",
    "2.) job titles containing emojis\n",
    "3.) duplicate Job_titles with spelling or formating differences\n",
    "4.) text like this 'ÄãFinancial Analyst'\n",
    "5.) Leading white spaces represented by '\\t'"
   ]
  },
  {
   "cell_type": "code",
   "execution_count": 117,
   "id": "c13dbda2",
   "metadata": {},
   "outputs": [],
   "source": [
    "# Convert 'emp_title' back to Object in Panadas\n",
    "\n",
    "accepted_df_copy['emp_title'] = accepted_df_copy['emp_title'].astype(str)"
   ]
  },
  {
   "cell_type": "code",
   "execution_count": 118,
   "id": "4a646dc3",
   "metadata": {},
   "outputs": [
    {
     "name": "stdout",
     "output_type": "stream",
     "text": [
      "0                                    leadman\n",
      "1                                   Engineer\n",
      "2                               truck driver\n",
      "3                Information Systems Officer\n",
      "4                        Contract Specialist\n",
      "5                       Veterinary Tecnician\n",
      "6    Vice President of Recruiting Operations\n",
      "7                                road driver\n",
      "8                            SERVICE MANAGER\n",
      "9                             Vendor liaison\n",
      "Name: emp_title, dtype: object\n"
     ]
    }
   ],
   "source": [
    "# Remove Leadning White spaces\n",
    "accepted_df_copy['emp_title'] = accepted_df_copy['emp_title'].str.strip()\n",
    "\n",
    "print(accepted_df_copy['emp_title'].head(10))"
   ]
  },
  {
   "cell_type": "code",
   "execution_count": 119,
   "id": "441a3423",
   "metadata": {},
   "outputs": [
    {
     "data": {
      "text/plain": [
       "dtype('O')"
      ]
     },
     "execution_count": 119,
     "metadata": {},
     "output_type": "execute_result"
    }
   ],
   "source": [
    "accepted_df_copy['emp_title'].dtype"
   ]
  },
  {
   "cell_type": "code",
   "execution_count": 120,
   "id": "af9c5f23",
   "metadata": {},
   "outputs": [
    {
     "name": "stdout",
     "output_type": "stream",
     "text": [
      "<class 'pandas.core.series.Series'>\n",
      "Index: 2260668 entries, 0 to 2260698\n",
      "Series name: emp_title\n",
      "Non-Null Count    Dtype \n",
      "--------------    ----- \n",
      "2260668 non-null  object\n",
      "dtypes: object(1)\n",
      "memory usage: 34.5+ MB\n"
     ]
    }
   ],
   "source": [
    "accepted_df_copy['emp_title'].info()"
   ]
  },
  {
   "cell_type": "code",
   "execution_count": 121,
   "id": "9d877359",
   "metadata": {},
   "outputs": [
    {
     "data": {
      "text/plain": [
       "emp_title\n",
       "nan                   166969\n",
       "Teacher                40969\n",
       "Manager                37014\n",
       "Owner                  23556\n",
       "Supervisor             17686\n",
       "Registered Nurse       17027\n",
       "Driver                 16039\n",
       "RN                     15202\n",
       "Sales                  14173\n",
       "Project Manager        11545\n",
       "Office Manager         10367\n",
       "General Manager         9917\n",
       "Director                9864\n",
       "owner                   8717\n",
       "President               8384\n",
       "Engineer                7745\n",
       "manager                 7323\n",
       "teacher                 6840\n",
       "Vice President          6831\n",
       "Operations Manager      6610\n",
       "Name: count, dtype: int64"
      ]
     },
     "execution_count": 121,
     "metadata": {},
     "output_type": "execute_result"
    }
   ],
   "source": [
    "accepted_df_copy['emp_title'].value_counts()[:20]"
   ]
  },
  {
   "cell_type": "code",
   "execution_count": 122,
   "id": "e8631889",
   "metadata": {},
   "outputs": [
    {
     "data": {
      "text/plain": [
       "0"
      ]
     },
     "execution_count": 122,
     "metadata": {},
     "output_type": "execute_result"
    }
   ],
   "source": [
    "# Check for number of missing values in 'emp_title'\n",
    "accepted_df_copy['emp_title'].isna().sum()"
   ]
  },
  {
   "cell_type": "code",
   "execution_count": 124,
   "id": "6176d935",
   "metadata": {},
   "outputs": [],
   "source": [
    "# Fill in 'nan' with 'NaN'\n",
    "\n",
    "accepted_df_copy['emp_title'] = accepted_df_copy['emp_title'].replace([pd.NA], 'nan')"
   ]
  },
  {
   "cell_type": "code",
   "execution_count": 125,
   "id": "d49504de",
   "metadata": {},
   "outputs": [
    {
     "data": {
      "text/plain": [
       "0"
      ]
     },
     "execution_count": 125,
     "metadata": {},
     "output_type": "execute_result"
    }
   ],
   "source": [
    "# Check Number of missing values in 'emp_title' after replace 'nan' string with NaN\n",
    "accepted_df_copy['emp_title'].isna().sum()"
   ]
  },
  {
   "cell_type": "code",
   "execution_count": 126,
   "id": "2ee7a12f",
   "metadata": {},
   "outputs": [
    {
     "name": "stdout",
     "output_type": "stream",
     "text": [
      "<class 'pandas.core.indexes.base.Index'>\n"
     ]
    }
   ],
   "source": [
    "print(type(categories))"
   ]
  },
  {
   "cell_type": "markdown",
   "id": "6733bd5f",
   "metadata": {},
   "source": [
    "### Removing numbers that are job titles"
   ]
  },
  {
   "cell_type": "code",
   "execution_count": 127,
   "id": "a507437f",
   "metadata": {},
   "outputs": [
    {
     "name": "stdout",
     "output_type": "stream",
     "text": [
      "['0132', '03', '0301', '0321', '04', '1', '10', '1052', '1099', '11', '112', '12', '121000', '13', '14', '1400', '14000', '15', '15000', '16', '17', '1811', '19', '2', '20', '21', '22', '25', '25312', '3', '30', '30005', '30304', '36000', '37', '38645', '4', '45000', '48000', '5', '553742017', '59106', '6', '6048', '7', '8', '9', '911', '9652651']\n",
      "\n",
      "There are  49 job titles as numbers\n"
     ]
    }
   ],
   "source": [
    "#all job_titles as numbers in emp_title\n",
    "\n",
    "number_job_titles = [title for title in categories if str(title).isdigit() == True]\n",
    "\n",
    "print(number_job_titles)\n",
    "\n",
    "print('\\nThere are ', len(number_job_titles), 'job titles as numbers')"
   ]
  },
  {
   "cell_type": "code",
   "execution_count": 128,
   "id": "c78c9f37",
   "metadata": {},
   "outputs": [
    {
     "name": "stdout",
     "output_type": "stream",
     "text": [
      "emp_title\n",
      "1            13\n",
      "3            12\n",
      "8             9\n",
      "5             8\n",
      "12            7\n",
      "10            7\n",
      "11            6\n",
      "4             4\n",
      "2             4\n",
      "911           4\n",
      "20            3\n",
      "15            3\n",
      "14            3\n",
      "6             3\n",
      "21            2\n",
      "17            2\n",
      "112           2\n",
      "16            2\n",
      "7             1\n",
      "1052          1\n",
      "0132          1\n",
      "04            1\n",
      "25312         1\n",
      "30304         1\n",
      "1811          1\n",
      "9652651       1\n",
      "30            1\n",
      "553742017     1\n",
      "121000        1\n",
      "1400          1\n",
      "36000         1\n",
      "37            1\n",
      "1099          1\n",
      "30005         1\n",
      "59106         1\n",
      "03            1\n",
      "38645         1\n",
      "19            1\n",
      "6153          1\n",
      "15000         1\n",
      "9             1\n",
      "25            1\n",
      "45000         1\n",
      "48000         1\n",
      "0321          1\n",
      "22            1\n",
      "14000         1\n",
      "6048          1\n",
      "0301          1\n",
      "13            1\n",
      "Name: count, dtype: int64\n"
     ]
    }
   ],
   "source": [
    "#Check frequency of numeric Job_title to check if they are important\n",
    "\n",
    "numeric_titles = accepted_df_copy[accepted_df_copy['emp_title'].str.isdigit()]\n",
    "\n",
    "print(numeric_titles['emp_title'].value_counts())"
   ]
  },
  {
   "cell_type": "code",
   "execution_count": 129,
   "id": "5e08fb02",
   "metadata": {},
   "outputs": [],
   "source": [
    "#Remove numeric titles expect for 911 and 112 as those are emergency numbers\n",
    "\n",
    "import re\n",
    "keep_titles = ['911', '112']\n",
    "\n",
    "\n",
    "def remove_numeric_job_tiles(title):\n",
    "    \n",
    "    if pd.isna(title): #Handle Missing Values to avoid errors\n",
    "        return False\n",
    "    \n",
    "    #Covert title to string\n",
    "    title_str = str(title).strip()\n",
    "    \n",
    "    # Check if record is '911' or '112'\n",
    "    if title_str in keep_titles:\n",
    "        return True\n",
    "    \n",
    "    # Check job titles that have numbers in them e.g. '2nd pressman'\n",
    "    if re.search(r'\\d+', title_str) and not title_str.isdigit():\n",
    "        return True \n",
    "    \n",
    "    return not title_str.isdigit()\n",
    "\n",
    "\n",
    "# Apply remove_numeric_job_tiles function\n",
    "accepted_df_copy = accepted_df_copy[accepted_df_copy['emp_title'].apply(remove_numeric_job_tiles)]"
   ]
  },
  {
   "cell_type": "code",
   "execution_count": 130,
   "id": "05d73ff7",
   "metadata": {},
   "outputs": [
    {
     "name": "stdout",
     "output_type": "stream",
     "text": [
      "16225      911\n",
      "116912     112\n",
      "755033     911\n",
      "900893     911\n",
      "1465253    112\n",
      "1696755    911\n",
      "Name: emp_title, dtype: object\n"
     ]
    }
   ],
   "source": [
    "#Check if we only have 6 numeric titles  \n",
    "# - Recall we had six '911'titles and two '112' titles\n",
    "\n",
    "print(accepted_df_copy['emp_title'][accepted_df_copy['emp_title'].str.isdigit() == True])"
   ]
  },
  {
   "cell_type": "code",
   "execution_count": 131,
   "id": "581bb127",
   "metadata": {},
   "outputs": [],
   "source": [
    "#Normalize Titles\n",
    "\n",
    "#Make a copy of the orginal dataframe using 'accepted_df.copy' to avoid editing parent DF'\n",
    "accepted_df_copy['emp_title'] = accepted_df_copy['emp_title'].str.lower()"
   ]
  },
  {
   "cell_type": "code",
   "execution_count": 132,
   "id": "91e7819c",
   "metadata": {},
   "outputs": [
    {
     "data": {
      "text/plain": [
       "emp_title\n",
       "nan                 166969\n",
       "teacher              48460\n",
       "manager              45852\n",
       "owner                33591\n",
       "registered nurse     23354\n",
       "                     ...  \n",
       "flight attendant      2048\n",
       "loan officer          2024\n",
       "underwriter           2015\n",
       "sales rep             2003\n",
       "bus driver            2002\n",
       "Name: count, Length: 100, dtype: int64"
      ]
     },
     "execution_count": 132,
     "metadata": {},
     "output_type": "execute_result"
    }
   ],
   "source": [
    "accepted_df_copy['emp_title'].value_counts().head(100)"
   ]
  },
  {
   "cell_type": "markdown",
   "id": "3bccbc1c",
   "metadata": {},
   "source": [
    "## Identify duplicate Job titles in 'emp_title' columns using Fuzzy Matching Algorithm"
   ]
  },
  {
   "cell_type": "code",
   "execution_count": 133,
   "id": "edf3c67e",
   "metadata": {},
   "outputs": [
    {
     "name": "stderr",
     "output_type": "stream",
     "text": [
      "Processing Titles: 100%|██████████████| 411763/411763 [00:43<00:00, 9389.83it/s]\n"
     ]
    }
   ],
   "source": [
    "import json\n",
    "from rapidfuzz import fuzz, process\n",
    "from tqdm import tqdm\n",
    "\n",
    "def find_similar_titles_sorted(df, column_name, chunk_size=1000, similarity_threshold=90):\n",
    "    \"\"\"\n",
    "    Identify job titles that are similar but contain spelling errors using sorted sampling.\n",
    "\n",
    "    Args:\n",
    "        df (pd.DataFrame): The DataFrame containing the dataset.\n",
    "        column_name (str): The column containing job titles to analyze.\n",
    "        chunk_size (int): The size of chunks to process for analysis.\n",
    "        similarity_threshold (int): The threshold for considering titles as similar.\n",
    "\n",
    "    Returns:\n",
    "        dict: A dictionary of similar job titles.\n",
    "    \"\"\"\n",
    "    # Get unique job titles and sort them alphabetically\n",
    "    unique_titles = sorted(df[column_name].unique())\n",
    "\n",
    "    # Split the sorted titles into chunks\n",
    "    title_chunks = [unique_titles[i:i + chunk_size] for i in range(0, len(unique_titles), chunk_size)]\n",
    "\n",
    "    # Initialize a single progress bar for all chunks\n",
    "    total_titles = len(unique_titles)\n",
    "    similar_titles = {}\n",
    "    with tqdm(total=total_titles, desc=\"Processing Titles\") as pbar:\n",
    "        for chunk in title_chunks:\n",
    "            for title in chunk:\n",
    "                matches = process.extract(title, chunk, scorer=fuzz.ratio, limit=5)\n",
    "                similar_titles[title] = [match[0] for match in matches if match[1] >= similarity_threshold and match[0] != title]\n",
    "                pbar.update(1)\n",
    "\n",
    "    # Filter out job titles with no close matches\n",
    "    similar_titles = {key: value for key, value in similar_titles.items() if value}\n",
    "\n",
    "    return similar_titles\n",
    "\n",
    "# Example usage\n",
    "similar_titles = find_similar_titles_sorted(accepted_df_copy, 'emp_title', chunk_size=1000, similarity_threshold=90)\n",
    "with open('/Users/abubakaral-faki/Documents/similar_titles_sorted.json', 'w') as f:\n",
    "     json.dump(similar_titles, f)"
   ]
  },
  {
   "cell_type": "code",
   "execution_count": 134,
   "id": "61821c2a",
   "metadata": {},
   "outputs": [
    {
     "name": "stderr",
     "output_type": "stream",
     "text": [
      "IOPub data rate exceeded.\n",
      "The notebook server will temporarily stop sending output\n",
      "to the client in order to avoid crashing it.\n",
      "To change this limit, set the config variable\n",
      "`--NotebookApp.iopub_data_rate_limit`.\n",
      "\n",
      "Current values:\n",
      "NotebookApp.iopub_data_rate_limit=1000000.0 (bytes/sec)\n",
      "NotebookApp.rate_limit_window=3.0 (secs)\n",
      "\n"
     ]
    }
   ],
   "source": [
    "# Display the results\n",
    "for title, matches in similar_titles.items():\n",
    "    print(f\"'{title}' is similar to: {matches}\")"
   ]
  },
  {
   "cell_type": "code",
   "execution_count": 135,
   "id": "1bb9085e",
   "metadata": {},
   "outputs": [
    {
     "data": {
      "text/plain": [
       "emp_title\n",
       "nan                         166969\n",
       "teacher                      48460\n",
       "manager                      45852\n",
       "owner                        33591\n",
       "registered nurse             23354\n",
       "supervisor                   22306\n",
       "driver                       22267\n",
       "sales                        18984\n",
       "rn                           17196\n",
       "office manager               14231\n",
       "project manager              13842\n",
       "general manager              13317\n",
       "truck driver                 12797\n",
       "director                     10595\n",
       "president                     9826\n",
       "engineer                      8978\n",
       "sales manager                 8532\n",
       "operations manager            8183\n",
       "police officer                7675\n",
       "vice president                7625\n",
       "technician                    7437\n",
       "nurse                         7358\n",
       "store manager                 7265\n",
       "administrative assistant      7213\n",
       "accountant                    6891\n",
       "mechanic                      6548\n",
       "attorney                      6375\n",
       "account manager               6285\n",
       "assistant manager             6027\n",
       "server                        5764\n",
       "executive assistant           5186\n",
       "customer service              5106\n",
       "analyst                       5009\n",
       "electrician                   4965\n",
       "foreman                       4740\n",
       "branch manager                4636\n",
       "paralegal                     4549\n",
       "operator                      4482\n",
       "software engineer             4314\n",
       "machine operator              4243\n",
       "maintenance                   4115\n",
       "consultant                    3899\n",
       "program manager               3891\n",
       "ceo                           3818\n",
       "controller                    3774\n",
       "clerk                         3747\n",
       "superintendent                3679\n",
       "administrator                 3615\n",
       "account executive             3423\n",
       "principal                     3283\n",
       "Name: count, dtype: int64"
      ]
     },
     "execution_count": 135,
     "metadata": {},
     "output_type": "execute_result"
    }
   ],
   "source": [
    "accepted_df_copy['emp_title'].value_counts()[:50]"
   ]
  },
  {
   "cell_type": "code",
   "execution_count": 136,
   "id": "af5c5bba",
   "metadata": {},
   "outputs": [
    {
     "name": "stdout",
     "output_type": "stream",
     "text": [
      "Similar titles saved to '/Users/abubakaral-faki/Documents/Data Project/MPV1/temp_files/similar_titles.json'\n"
     ]
    }
   ],
   "source": [
    "import json\n",
    "\n",
    "# Define the file path\n",
    "file_path = '/Users/abubakaral-faki/Documents/Data Project/MPV1/temp_files/similar_titles.json'\n",
    "\n",
    "# Save the similar titles to the JSON file\n",
    "with open(file_path, 'w') as file:\n",
    "    json.dump(similar_titles, file, indent=4)\n",
    "\n",
    "print(f\"Similar titles saved to '{file_path}'\")\n"
   ]
  },
  {
   "cell_type": "code",
   "execution_count": 137,
   "id": "2ff80b97",
   "metadata": {},
   "outputs": [],
   "source": [
    "# Convert emp_title back to object type so we can remove \\t\n",
    "accepted_df_copy['emp_title'] = accepted_df_copy['emp_title'].astype(str)\n",
    "\n",
    "# Remove white spaces\n",
    "accepted_df_copy['emp_title'] = accepted_df_copy['emp_title'].str.strip()\n",
    "\n",
    "# Convert 'emp_title' column to category type\n",
    "accepted_df_copy['emp_title'] = accepted_df_copy['emp_title'].astype('category')\n",
    "\n",
    "# Category types\n",
    "categories = accepted_df_copy['emp_title'].cat.categories\n",
    "\n",
    "#Save as csv\n",
    "\n",
    "file_path = '/Users/abubakaral-faki/Documents/Data Project/MPV1/temp_files/emp_title_categories.csv'\n",
    "\n",
    "pd.DataFrame({'job_titles':categories}).to_csv(file_path, index = False)"
   ]
  },
  {
   "cell_type": "markdown",
   "id": "e99f747f",
   "metadata": {},
   "source": [
    "### Change 'url' column to the right datatype or drop it if not needed"
   ]
  },
  {
   "cell_type": "code",
   "execution_count": 138,
   "id": "5717d1ea",
   "metadata": {},
   "outputs": [
    {
     "data": {
      "text/html": [
       "<div>\n",
       "<style scoped>\n",
       "    .dataframe tbody tr th:only-of-type {\n",
       "        vertical-align: middle;\n",
       "    }\n",
       "\n",
       "    .dataframe tbody tr th {\n",
       "        vertical-align: top;\n",
       "    }\n",
       "\n",
       "    .dataframe thead th {\n",
       "        text-align: right;\n",
       "    }\n",
       "</style>\n",
       "<table border=\"1\" class=\"dataframe\">\n",
       "  <thead>\n",
       "    <tr style=\"text-align: right;\">\n",
       "      <th></th>\n",
       "      <th>id</th>\n",
       "      <th>url</th>\n",
       "    </tr>\n",
       "  </thead>\n",
       "  <tbody>\n",
       "    <tr>\n",
       "      <th>0</th>\n",
       "      <td>68407277</td>\n",
       "      <td>https://lendingclub.com/browse/loanDetail.action?loan_id=68407277</td>\n",
       "    </tr>\n",
       "    <tr>\n",
       "      <th>1</th>\n",
       "      <td>68355089</td>\n",
       "      <td>https://lendingclub.com/browse/loanDetail.action?loan_id=68355089</td>\n",
       "    </tr>\n",
       "    <tr>\n",
       "      <th>2</th>\n",
       "      <td>68341763</td>\n",
       "      <td>https://lendingclub.com/browse/loanDetail.action?loan_id=68341763</td>\n",
       "    </tr>\n",
       "    <tr>\n",
       "      <th>3</th>\n",
       "      <td>66310712</td>\n",
       "      <td>https://lendingclub.com/browse/loanDetail.action?loan_id=66310712</td>\n",
       "    </tr>\n",
       "    <tr>\n",
       "      <th>4</th>\n",
       "      <td>68476807</td>\n",
       "      <td>https://lendingclub.com/browse/loanDetail.action?loan_id=68476807</td>\n",
       "    </tr>\n",
       "  </tbody>\n",
       "</table>\n",
       "</div>"
      ],
      "text/plain": [
       "         id                                                                url\n",
       "0  68407277  https://lendingclub.com/browse/loanDetail.action?loan_id=68407277\n",
       "1  68355089  https://lendingclub.com/browse/loanDetail.action?loan_id=68355089\n",
       "2  68341763  https://lendingclub.com/browse/loanDetail.action?loan_id=68341763\n",
       "3  66310712  https://lendingclub.com/browse/loanDetail.action?loan_id=66310712\n",
       "4  68476807  https://lendingclub.com/browse/loanDetail.action?loan_id=68476807"
      ]
     },
     "execution_count": 138,
     "metadata": {},
     "output_type": "execute_result"
    }
   ],
   "source": [
    "#Inspect url Column\n",
    "pd.set_option('display.max_colwidth', None) #make sure pandas doesn't truncate the url column\n",
    "\n",
    "\n",
    "accepted_df_copy[['id', 'url']].head(5)"
   ]
  },
  {
   "cell_type": "markdown",
   "id": "fc57c38a",
   "metadata": {},
   "source": [
    "Seems like the 'url' gets info for each specific 'id'. \n",
    "\n",
    "Let's check if the id from the id column matches the id in\n",
    "in the url"
   ]
  },
  {
   "cell_type": "code",
   "execution_count": 139,
   "id": "45b75072",
   "metadata": {},
   "outputs": [],
   "source": [
    "# Extract the loan_id from the url using a regular expression\n",
    "extracted_id = accepted_df_copy['url'].str.extract(r'loan_id=(\\d+)')"
   ]
  },
  {
   "cell_type": "code",
   "execution_count": 140,
   "id": "98d805e1",
   "metadata": {},
   "outputs": [
    {
     "name": "stdout",
     "output_type": "stream",
     "text": [
      "          0\n",
      "0  68407277\n",
      "1  68355089\n",
      "2  68341763\n",
      "3  66310712\n",
      "4  68476807\n",
      "<class 'pandas.core.series.Series'>\n"
     ]
    }
   ],
   "source": [
    "#Check if the id was extracted correctly from the url\n",
    "print(extracted_id.head())\n",
    "\n",
    "# Check type of extracted_id\n",
    "print(type(extracted_id[0]))"
   ]
  },
  {
   "cell_type": "markdown",
   "id": "c70fb844",
   "metadata": {},
   "source": [
    "#### Convert extracted_id to same datatype as 'id'\n"
   ]
  },
  {
   "cell_type": "code",
   "execution_count": 141,
   "id": "d62e3890",
   "metadata": {},
   "outputs": [
    {
     "name": "stdout",
     "output_type": "stream",
     "text": [
      "Type of 'id' column is int64\n",
      "Type of 'extracted_id' is int64\n"
     ]
    }
   ],
   "source": [
    "#Check dtype of id column\n",
    "print('Type of \\'id\\' column is', accepted_df_copy['id'].dtype)\n",
    "\n",
    "#Change dtype of extracted_id columns to 'int'\n",
    "extracted_id[0] = extracted_id[0].astype('int')\n",
    "\n",
    "#Check dtype of extracted_id column\n",
    "print('Type of \\'extracted_id\\' is', extracted_id[0].dtype)"
   ]
  },
  {
   "cell_type": "code",
   "execution_count": 142,
   "id": "2436cf33",
   "metadata": {},
   "outputs": [
    {
     "name": "stdout",
     "output_type": "stream",
     "text": [
      "True\n"
     ]
    }
   ],
   "source": [
    "#Check if all id's between 'extracted_id' column and 'id' column match\n",
    "\n",
    "all_match = (accepted_df_copy['id'] == extracted_id[0]).all()\n",
    "\n",
    "print(all_match)"
   ]
  },
  {
   "cell_type": "markdown",
   "id": "7d436436",
   "metadata": {},
   "source": [
    "#### We can drop url column since there no mismatches"
   ]
  },
  {
   "cell_type": "code",
   "execution_count": 143,
   "id": "4a6cc854",
   "metadata": {},
   "outputs": [
    {
     "name": "stdout",
     "output_type": "stream",
     "text": [
      "Shape before drop:  (2260548, 151)\n"
     ]
    }
   ],
   "source": [
    "# Shape before dropping 'url'\n",
    "print('Shape before drop: ', accepted_df_copy.shape)"
   ]
  },
  {
   "cell_type": "code",
   "execution_count": 144,
   "id": "fb21994d",
   "metadata": {},
   "outputs": [],
   "source": [
    "# Drop 'url' column\n",
    "accepted_df_copy = accepted_df_copy.drop('url', axis = 1)"
   ]
  },
  {
   "cell_type": "code",
   "execution_count": 145,
   "id": "97cea891",
   "metadata": {},
   "outputs": [
    {
     "name": "stdout",
     "output_type": "stream",
     "text": [
      "Shape after drop:  (2260548, 150)\n"
     ]
    }
   ],
   "source": [
    "# Shape after dropping 'url'\n",
    "print('Shape after drop: ', accepted_df_copy.shape)"
   ]
  },
  {
   "cell_type": "markdown",
   "id": "f6925160",
   "metadata": {},
   "source": [
    "### Inspect 'desc' column and change 'desc' column to the right datatype if needed"
   ]
  },
  {
   "cell_type": "markdown",
   "id": "c37b7973",
   "metadata": {},
   "source": [
    "'desc' contains information about the loan description wriiten by the borrower."
   ]
  },
  {
   "cell_type": "code",
   "execution_count": 146,
   "id": "0fcf17b9",
   "metadata": {},
   "outputs": [
    {
     "name": "stdout",
     "output_type": "stream",
     "text": [
      "0    NaN\n",
      "1    NaN\n",
      "2    NaN\n",
      "3    NaN\n",
      "4    NaN\n",
      "Name: desc, dtype: object\n",
      "object\n"
     ]
    }
   ],
   "source": [
    "print(accepted_df_copy['desc'].head())\n",
    "\n",
    "print(accepted_df_copy['desc'].dtype)\n"
   ]
  },
  {
   "cell_type": "markdown",
   "id": "79ade6c7",
   "metadata": {},
   "source": [
    "#### Notes from code above\n",
    "From checking the data type of 'desc' and the first few rows it seems this column might be empty.\n",
    "\n",
    "'desc' contains information about the loan description form the borrower.\n",
    "\n",
    "We will rename this column to make it more intuitive to understand."
   ]
  },
  {
   "cell_type": "code",
   "execution_count": 147,
   "id": "fd681b28",
   "metadata": {},
   "outputs": [
    {
     "name": "stdout",
     "output_type": "stream",
     "text": [
      "<class 'pandas.core.series.Series'>\n",
      "Index: 2260548 entries, 0 to 2260698\n",
      "Series name: desc\n",
      "Non-Null Count   Dtype \n",
      "--------------   ----- \n",
      "126059 non-null  object\n",
      "dtypes: object(1)\n",
      "memory usage: 34.5+ MB\n",
      "None\n"
     ]
    }
   ],
   "source": [
    "#Check if all values in the 'desc' column are all NaN\n",
    "\n",
    "print(accepted_df_copy['desc'].info())"
   ]
  },
  {
   "cell_type": "code",
   "execution_count": 148,
   "id": "04039ffc",
   "metadata": {},
   "outputs": [
    {
     "name": "stdout",
     "output_type": "stream",
     "text": [
      "2134489\n"
     ]
    }
   ],
   "source": [
    "#count nuber of Null Values in 'desc' column\n",
    "\n",
    "print(accepted_df_copy['desc'].isna().sum())"
   ]
  },
  {
   "cell_type": "code",
   "execution_count": 149,
   "id": "7cf2d4b5",
   "metadata": {},
   "outputs": [],
   "source": [
    "#Change name of column 'desc' to 'loan_purpose'\n",
    "accepted_df_copy = accepted_df_copy.rename(columns = {'desc': 'loan_purpose'}) "
   ]
  },
  {
   "cell_type": "code",
   "execution_count": 150,
   "id": "389af3a5",
   "metadata": {},
   "outputs": [
    {
     "name": "stdout",
     "output_type": "stream",
     "text": [
      "<class 'pandas.core.series.Series'>\n",
      "Index: 2260548 entries, 0 to 2260698\n",
      "Series name: loan_purpose\n",
      "Non-Null Count   Dtype \n",
      "--------------   ----- \n",
      "126059 non-null  object\n",
      "dtypes: object(1)\n",
      "memory usage: 34.5+ MB\n"
     ]
    }
   ],
   "source": [
    "#Check if name change happened\n",
    "\n",
    "accepted_df_copy['loan_purpose'].info()"
   ]
  },
  {
   "cell_type": "code",
   "execution_count": 151,
   "id": "c3258331",
   "metadata": {},
   "outputs": [
    {
     "name": "stdout",
     "output_type": "stream",
     "text": [
      "2134489\n"
     ]
    }
   ],
   "source": [
    "#Check for missing values in 'desc'/'loan_purpose'\n",
    "print(accepted_df_copy['loan_purpose'].isna().sum())"
   ]
  },
  {
   "cell_type": "code",
   "execution_count": 152,
   "id": "56d30c85",
   "metadata": {},
   "outputs": [
    {
     "data": {
      "text/plain": [
       "array([nan,\n",
       "       'We knew that using our credit cards to finance an adoption would squeeze us, but then medical and other unexpected expenses made the situation almost impossible. We are a stable family in a stable community. We just need to break a cycle of debt that is getting worse.',\n",
       "       \"I had a bad year two years ago, with some late and missed payments. I'm doing much better now, but I've got fees and some higher interest bits that have added up on top of the other stuff, and it's a little crazy. I'm hoping doing it thru Lending Club will make it easier - and cheaper - to pay off.\",\n",
       "       ...,\n",
       "       'This loan will be used solely to consolidate credit card debts accrued while wife was/is unemployed.',\n",
       "       'I have recently purchased and built a new home that I have always dreamed of having.  I would like to complete the project by putting a hottub in my backyard, however; I am not happy with the rate I  have been offered from GE to finance the spa.  I am paying cash for all other improvements, but this is the final phase and finishing touch to my happiness.  I am in the process of consolidating a lot of debt, and went through a minor period of financial woes, but through determination and hard work I have managed to rebound.  My income is fantastic, and I would pay cash for the item, but would like to reserve the money I have saved for future issues if they should arise.  I am a college graduate, responsible, and work for a very good company that is stable in this very unstable market.  I plan to repay this loan in less than 12 months with a 4th quarter bonus I will be receiving.  Thank you for your consideration.',\n",
       "       'To whom it may concern,     Hello, my name is David McLean.  I am requesting a loan to consolidate some high interest revolving credit.    The interest rates go anywhere from 14-29.9%.  I am a very reliable person that meets his obligations and pays his debts.   In nearly 15 years, I have not missed or been late on a payment except once due to an oversight.   I have a stable life and home with a good job of nearly 6yrs with plans of retiring from there.  Thank you for your thoughtful consideration.'],\n",
       "      dtype=object)"
      ]
     },
     "execution_count": 152,
     "metadata": {},
     "output_type": "execute_result"
    }
   ],
   "source": [
    "accepted_df_copy['loan_purpose'].unique()"
   ]
  },
  {
   "cell_type": "code",
   "execution_count": 155,
   "id": "7426e9a0",
   "metadata": {},
   "outputs": [],
   "source": [
    "# Save a Version of the dataset with all columns cleaned except 'title' and 'employee'\n",
    "file_path = \"/Users/abubakaral-faki/Documents/Data Project/MPV1/data/interim/v1-accepeed.csv\"\n",
    "\n",
    "accepted_df_copy.to_csv(file_path, index = False)"
   ]
  },
  {
   "cell_type": "markdown",
   "id": "c46212bd",
   "metadata": {},
   "source": [
    "### Inspect 'title' column and change 'title' column to categorical data type if needed"
   ]
  },
  {
   "cell_type": "code",
   "execution_count": 1,
   "id": "222dda04",
   "metadata": {},
   "outputs": [
    {
     "name": "stderr",
     "output_type": "stream",
     "text": [
      "/var/folders/yj/v54tzbn14gb70ts6s0j5s3xm0000gn/T/ipykernel_11949/640563226.py:3: DtypeWarning: Columns (18,48,58,117,128,129,130,133,134,135,138,144,145,146) have mixed types. Specify dtype option on import or set low_memory=False.\n",
      "  accepted_df_v1 = pd.read_csv(\"/Users/abubakaral-faki/Documents/Data Project/MPV1/data/interim/v1-accepeed.csv\")\n"
     ]
    }
   ],
   "source": [
    "import pandas as pd\n",
    "\n",
    "accepted_df_v1 = pd.read_csv(\"/Users/abubakaral-faki/Documents/Data Project/MPV1/data/interim/v1-accepeed.csv\")"
   ]
  },
  {
   "cell_type": "code",
   "execution_count": 2,
   "id": "63ed5442",
   "metadata": {},
   "outputs": [
    {
     "data": {
      "text/html": [
       "<div>\n",
       "<style scoped>\n",
       "    .dataframe tbody tr th:only-of-type {\n",
       "        vertical-align: middle;\n",
       "    }\n",
       "\n",
       "    .dataframe tbody tr th {\n",
       "        vertical-align: top;\n",
       "    }\n",
       "\n",
       "    .dataframe thead th {\n",
       "        text-align: right;\n",
       "    }\n",
       "</style>\n",
       "<table border=\"1\" class=\"dataframe\">\n",
       "  <thead>\n",
       "    <tr style=\"text-align: right;\">\n",
       "      <th></th>\n",
       "      <th>id</th>\n",
       "      <th>member_id</th>\n",
       "      <th>loan_amnt</th>\n",
       "      <th>funded_amnt</th>\n",
       "      <th>funded_amnt_inv</th>\n",
       "      <th>term</th>\n",
       "      <th>int_rate</th>\n",
       "      <th>installment</th>\n",
       "      <th>grade</th>\n",
       "      <th>sub_grade</th>\n",
       "      <th>...</th>\n",
       "      <th>hardship_payoff_balance_amount</th>\n",
       "      <th>hardship_last_payment_amount</th>\n",
       "      <th>disbursement_method</th>\n",
       "      <th>debt_settlement_flag</th>\n",
       "      <th>debt_settlement_flag_date</th>\n",
       "      <th>settlement_status</th>\n",
       "      <th>settlement_date</th>\n",
       "      <th>settlement_amount</th>\n",
       "      <th>settlement_percentage</th>\n",
       "      <th>settlement_term</th>\n",
       "    </tr>\n",
       "  </thead>\n",
       "  <tbody>\n",
       "    <tr>\n",
       "      <th>0</th>\n",
       "      <td>68407277</td>\n",
       "      <td>NaN</td>\n",
       "      <td>3600.0</td>\n",
       "      <td>3600.0</td>\n",
       "      <td>3600.0</td>\n",
       "      <td>36 months</td>\n",
       "      <td>13.99</td>\n",
       "      <td>123.03</td>\n",
       "      <td>C</td>\n",
       "      <td>C4</td>\n",
       "      <td>...</td>\n",
       "      <td>NaN</td>\n",
       "      <td>NaN</td>\n",
       "      <td>Cash</td>\n",
       "      <td>N</td>\n",
       "      <td>NaN</td>\n",
       "      <td>NaN</td>\n",
       "      <td>NaN</td>\n",
       "      <td>NaN</td>\n",
       "      <td>NaN</td>\n",
       "      <td>NaN</td>\n",
       "    </tr>\n",
       "    <tr>\n",
       "      <th>1</th>\n",
       "      <td>68355089</td>\n",
       "      <td>NaN</td>\n",
       "      <td>24700.0</td>\n",
       "      <td>24700.0</td>\n",
       "      <td>24700.0</td>\n",
       "      <td>36 months</td>\n",
       "      <td>11.99</td>\n",
       "      <td>820.28</td>\n",
       "      <td>C</td>\n",
       "      <td>C1</td>\n",
       "      <td>...</td>\n",
       "      <td>NaN</td>\n",
       "      <td>NaN</td>\n",
       "      <td>Cash</td>\n",
       "      <td>N</td>\n",
       "      <td>NaN</td>\n",
       "      <td>NaN</td>\n",
       "      <td>NaN</td>\n",
       "      <td>NaN</td>\n",
       "      <td>NaN</td>\n",
       "      <td>NaN</td>\n",
       "    </tr>\n",
       "    <tr>\n",
       "      <th>2</th>\n",
       "      <td>68341763</td>\n",
       "      <td>NaN</td>\n",
       "      <td>20000.0</td>\n",
       "      <td>20000.0</td>\n",
       "      <td>20000.0</td>\n",
       "      <td>60 months</td>\n",
       "      <td>10.78</td>\n",
       "      <td>432.66</td>\n",
       "      <td>B</td>\n",
       "      <td>B4</td>\n",
       "      <td>...</td>\n",
       "      <td>NaN</td>\n",
       "      <td>NaN</td>\n",
       "      <td>Cash</td>\n",
       "      <td>N</td>\n",
       "      <td>NaN</td>\n",
       "      <td>NaN</td>\n",
       "      <td>NaN</td>\n",
       "      <td>NaN</td>\n",
       "      <td>NaN</td>\n",
       "      <td>NaN</td>\n",
       "    </tr>\n",
       "    <tr>\n",
       "      <th>3</th>\n",
       "      <td>66310712</td>\n",
       "      <td>NaN</td>\n",
       "      <td>35000.0</td>\n",
       "      <td>35000.0</td>\n",
       "      <td>35000.0</td>\n",
       "      <td>60 months</td>\n",
       "      <td>14.85</td>\n",
       "      <td>829.90</td>\n",
       "      <td>C</td>\n",
       "      <td>C5</td>\n",
       "      <td>...</td>\n",
       "      <td>NaN</td>\n",
       "      <td>NaN</td>\n",
       "      <td>Cash</td>\n",
       "      <td>N</td>\n",
       "      <td>NaN</td>\n",
       "      <td>NaN</td>\n",
       "      <td>NaN</td>\n",
       "      <td>NaN</td>\n",
       "      <td>NaN</td>\n",
       "      <td>NaN</td>\n",
       "    </tr>\n",
       "    <tr>\n",
       "      <th>4</th>\n",
       "      <td>68476807</td>\n",
       "      <td>NaN</td>\n",
       "      <td>10400.0</td>\n",
       "      <td>10400.0</td>\n",
       "      <td>10400.0</td>\n",
       "      <td>60 months</td>\n",
       "      <td>22.45</td>\n",
       "      <td>289.91</td>\n",
       "      <td>F</td>\n",
       "      <td>F1</td>\n",
       "      <td>...</td>\n",
       "      <td>NaN</td>\n",
       "      <td>NaN</td>\n",
       "      <td>Cash</td>\n",
       "      <td>N</td>\n",
       "      <td>NaN</td>\n",
       "      <td>NaN</td>\n",
       "      <td>NaN</td>\n",
       "      <td>NaN</td>\n",
       "      <td>NaN</td>\n",
       "      <td>NaN</td>\n",
       "    </tr>\n",
       "  </tbody>\n",
       "</table>\n",
       "<p>5 rows × 150 columns</p>\n",
       "</div>"
      ],
      "text/plain": [
       "         id  member_id  loan_amnt  funded_amnt  funded_amnt_inv        term  \\\n",
       "0  68407277        NaN     3600.0       3600.0           3600.0   36 months   \n",
       "1  68355089        NaN    24700.0      24700.0          24700.0   36 months   \n",
       "2  68341763        NaN    20000.0      20000.0          20000.0   60 months   \n",
       "3  66310712        NaN    35000.0      35000.0          35000.0   60 months   \n",
       "4  68476807        NaN    10400.0      10400.0          10400.0   60 months   \n",
       "\n",
       "   int_rate  installment grade sub_grade  ... hardship_payoff_balance_amount  \\\n",
       "0     13.99       123.03     C        C4  ...                            NaN   \n",
       "1     11.99       820.28     C        C1  ...                            NaN   \n",
       "2     10.78       432.66     B        B4  ...                            NaN   \n",
       "3     14.85       829.90     C        C5  ...                            NaN   \n",
       "4     22.45       289.91     F        F1  ...                            NaN   \n",
       "\n",
       "  hardship_last_payment_amount disbursement_method  debt_settlement_flag  \\\n",
       "0                          NaN                Cash                     N   \n",
       "1                          NaN                Cash                     N   \n",
       "2                          NaN                Cash                     N   \n",
       "3                          NaN                Cash                     N   \n",
       "4                          NaN                Cash                     N   \n",
       "\n",
       "  debt_settlement_flag_date settlement_status settlement_date  \\\n",
       "0                       NaN               NaN             NaN   \n",
       "1                       NaN               NaN             NaN   \n",
       "2                       NaN               NaN             NaN   \n",
       "3                       NaN               NaN             NaN   \n",
       "4                       NaN               NaN             NaN   \n",
       "\n",
       "  settlement_amount settlement_percentage settlement_term  \n",
       "0               NaN                   NaN             NaN  \n",
       "1               NaN                   NaN             NaN  \n",
       "2               NaN                   NaN             NaN  \n",
       "3               NaN                   NaN             NaN  \n",
       "4               NaN                   NaN             NaN  \n",
       "\n",
       "[5 rows x 150 columns]"
      ]
     },
     "execution_count": 2,
     "metadata": {},
     "output_type": "execute_result"
    }
   ],
   "source": [
    "accepted_df_v1.head()"
   ]
  },
  {
   "cell_type": "code",
   "execution_count": 4,
   "id": "8693126c",
   "metadata": {},
   "outputs": [
    {
     "name": "stdout",
     "output_type": "stream",
     "text": [
      "<class 'pandas.core.series.Series'>\n",
      "RangeIndex: 2260548 entries, 0 to 2260547\n",
      "Series name: title\n",
      "Non-Null Count    Dtype \n",
      "--------------    ----- \n",
      "2237224 non-null  object\n",
      "dtypes: object(1)\n",
      "memory usage: 17.2+ MB\n",
      "None\n"
     ]
    }
   ],
   "source": [
    "print(accepted_df_v1['title'].info())"
   ]
  },
  {
   "cell_type": "code",
   "execution_count": 5,
   "id": "ce08fe69",
   "metadata": {},
   "outputs": [
    {
     "name": "stdout",
     "output_type": "stream",
     "text": [
      "count                2237224\n",
      "unique                 63150\n",
      "top       Debt consolidation\n",
      "freq                 1153227\n",
      "Name: title, dtype: object\n"
     ]
    }
   ],
   "source": [
    "print(accepted_df_v1['title'].describe())"
   ]
  },
  {
   "cell_type": "code",
   "execution_count": 6,
   "id": "379c3927",
   "metadata": {},
   "outputs": [
    {
     "data": {
      "text/plain": [
       "array(['Debt consolidation', 'Business', nan, ..., 'takeitaway',\n",
       "       'Creditt Card Loan', 'debt reduction/hone updates'], dtype=object)"
      ]
     },
     "execution_count": 6,
     "metadata": {},
     "output_type": "execute_result"
    }
   ],
   "source": [
    "# Number of unique job titles before normalizing\n",
    "\n",
    "accepted_df_v1['title'].unique()"
   ]
  },
  {
   "cell_type": "markdown",
   "id": "c7671f1e",
   "metadata": {},
   "source": [
    "Seems like we have duplicate titles. E.g. 'Debt consolidation' vs 'debt consolidation'"
   ]
  },
  {
   "cell_type": "code",
   "execution_count": 7,
   "id": "dcb3d78a",
   "metadata": {},
   "outputs": [
    {
     "data": {
      "text/plain": [
       "array(['leadman', 'engineer', 'truck driver', ...,\n",
       "       'group enviromental manager', 'sr. photo producer',\n",
       "       'exec dir internal audit'], dtype=object)"
      ]
     },
     "execution_count": 7,
     "metadata": {},
     "output_type": "execute_result"
    }
   ],
   "source": [
    "accepted_df_v1['emp_title'].unique()"
   ]
  },
  {
   "cell_type": "code",
   "execution_count": 8,
   "id": "8a8b9003",
   "metadata": {},
   "outputs": [
    {
     "data": {
      "text/plain": [
       "emp_title\n",
       "teacher                                     48460\n",
       "manager                                     45852\n",
       "owner                                       33591\n",
       "registered nurse                            23354\n",
       "supervisor                                  22306\n",
       "                                            ...  \n",
       "animal care tech 2                              1\n",
       "food corriditor manger                          1\n",
       "special worker                                  1\n",
       "assistant vice president - mortgage comp        1\n",
       "exec dir internal audit                         1\n",
       "Name: count, Length: 411760, dtype: int64"
      ]
     },
     "execution_count": 8,
     "metadata": {},
     "output_type": "execute_result"
    }
   ],
   "source": [
    "accepted_df_v1['emp_title'].value_counts()"
   ]
  },
  {
   "cell_type": "code",
   "execution_count": 9,
   "id": "166ccc2b",
   "metadata": {},
   "outputs": [
    {
     "data": {
      "text/plain": [
       "0                              leadman\n",
       "1                             engineer\n",
       "2                         truck driver\n",
       "3          information systems officer\n",
       "4                  contract specialist\n",
       "                      ...             \n",
       "2260543                  unit operator\n",
       "2260544         database administrator\n",
       "2260545                 vice president\n",
       "2260546                program manager\n",
       "2260547    customer service technician\n",
       "Name: emp_title, Length: 2093574, dtype: object"
      ]
     },
     "execution_count": 9,
     "metadata": {},
     "output_type": "execute_result"
    }
   ],
   "source": [
    "accepted_df_v1[~accepted_df_v1['emp_title'].isna()]['emp_title']"
   ]
  },
  {
   "cell_type": "code",
   "execution_count": 10,
   "id": "9ab43b87",
   "metadata": {},
   "outputs": [
    {
     "name": "stdout",
     "output_type": "stream",
     "text": [
      "File successfully exported\n"
     ]
    }
   ],
   "source": [
    "# Save all job titles as csv for manual inspection\n",
    "\n",
    "file_path = '/Users/abubakaral-faki/Documents/Data Project/MPV1/temp_files/loan_titles.csv'\n",
    "\n",
    "accepted_df_v1['title'].value_counts().to_csv(file_path, index = True)\n",
    "\n",
    "print('File successfully exported')\n",
    "\n",
    "#accepted_df_copy.head(10000).to_csv(output_path, index = False)"
   ]
  },
  {
   "cell_type": "markdown",
   "id": "708daf38",
   "metadata": {},
   "source": [
    "### Create function to normalize text"
   ]
  },
  {
   "cell_type": "code",
   "execution_count": 11,
   "id": "5cf9c295",
   "metadata": {},
   "outputs": [],
   "source": [
    "# Step 1: Normalize the titles\n",
    "\n",
    "def normalize_text(text):\n",
    "    if pd.isnull(text):  # Handle NaN or None\n",
    "        return \"\"\n",
    "    return str(text).lower().strip()\n",
    "    \n",
    "accepted_df_v1['title'] = accepted_df_v1['title'].apply(normalize_text)"
   ]
  },
  {
   "cell_type": "code",
   "execution_count": 12,
   "id": "fceddc1a",
   "metadata": {},
   "outputs": [
    {
     "data": {
      "text/plain": [
       "51789"
      ]
     },
     "execution_count": 12,
     "metadata": {},
     "output_type": "execute_result"
    }
   ],
   "source": [
    "# Number of unique job titles after normalizing\n",
    "\n",
    "len(accepted_df_v1['title'].value_counts())"
   ]
  },
  {
   "cell_type": "code",
   "execution_count": 13,
   "id": "5a6afd9d",
   "metadata": {},
   "outputs": [
    {
     "name": "stdout",
     "output_type": "stream",
     "text": [
      "0          debt consolidation\n",
      "1                    business\n",
      "2                            \n",
      "3          debt consolidation\n",
      "4              major purchase\n",
      "5          debt consolidation\n",
      "6          debt consolidation\n",
      "7              major purchase\n",
      "8     credit card refinancing\n",
      "9     credit card refinancing\n",
      "10         debt consolidation\n",
      "11         debt consolidation\n",
      "12                           \n",
      "13         debt consolidation\n",
      "14         debt consolidation\n",
      "15    credit card refinancing\n",
      "16         debt consolidation\n",
      "17         debt consolidation\n",
      "18    credit card refinancing\n",
      "19         debt consolidation\n",
      "Name: title, dtype: object\n"
     ]
    }
   ],
   "source": [
    "print(accepted_df_v1['title'].head(20))"
   ]
  },
  {
   "cell_type": "markdown",
   "id": "a362b2bb",
   "metadata": {},
   "source": [
    "Looks like we have missing values as string. We will replace 'nan' values with NaN\n"
   ]
  },
  {
   "cell_type": "code",
   "execution_count": 14,
   "id": "f42c429d",
   "metadata": {},
   "outputs": [
    {
     "name": "stdout",
     "output_type": "stream",
     "text": [
      "0\n"
     ]
    }
   ],
   "source": [
    "# Number of values equal to 'nan'\n",
    "\n",
    "print(len(accepted_df_v1[accepted_df_v1['title'] =='nan']['title']))"
   ]
  },
  {
   "cell_type": "code",
   "execution_count": 15,
   "id": "501d7bd0",
   "metadata": {},
   "outputs": [
    {
     "data": {
      "text/plain": [
       "0"
      ]
     },
     "execution_count": 15,
     "metadata": {},
     "output_type": "execute_result"
    }
   ],
   "source": [
    "# Number of Missing values before replacing 'nan' strings to NaN values\n",
    "\n",
    "accepted_df_v1['title'].isna().sum()"
   ]
  },
  {
   "cell_type": "code",
   "execution_count": 16,
   "id": "bfcc52ac",
   "metadata": {},
   "outputs": [],
   "source": [
    "# Replace 'nan' strings to NaN values\n",
    "\n",
    "accepted_df_v1['title'] = accepted_df_v1['title'].replace([pd.NA,\"\"], \"nan\")"
   ]
  },
  {
   "cell_type": "code",
   "execution_count": 17,
   "id": "eb9b982f",
   "metadata": {},
   "outputs": [
    {
     "data": {
      "text/plain": [
       "0"
      ]
     },
     "execution_count": 17,
     "metadata": {},
     "output_type": "execute_result"
    }
   ],
   "source": [
    "# Number of Missing values before converting\n",
    "accepted_df_v1['title'].isna().sum()"
   ]
  },
  {
   "cell_type": "markdown",
   "id": "c8817f60",
   "metadata": {},
   "source": [
    "### Define Fuzz function to find filter rows for different kinds of loans"
   ]
  },
  {
   "cell_type": "code",
   "execution_count": 18,
   "id": "84cbd53f",
   "metadata": {},
   "outputs": [],
   "source": [
    "# Step 2: Find titles with the word 'consolidation' in it\n",
    "\n",
    "from rapidfuzz import fuzz, process\n",
    "\n",
    "def fuzzy_match_keyword(text, keyword  = 'consolidation', threshold = 75):\n",
    "    \n",
    "    if str(text).strip() == \"\" or pd.isna(text) or text is None:  # Ignore empty or invalid titles\n",
    "        return False   # Skip missing or empty values\n",
    "    \n",
    "    # Compute fuzzy similarity\n",
    "    return fuzz.partial_ratio(text, keyword) >= threshold"
   ]
  },
  {
   "cell_type": "markdown",
   "id": "848eba87",
   "metadata": {},
   "source": [
    "### Find loans used for consolidations"
   ]
  },
  {
   "cell_type": "code",
   "execution_count": 19,
   "id": "8529baf5",
   "metadata": {},
   "outputs": [],
   "source": [
    "# Filter rows with loans titles matching \"consolidation\"\n",
    "\n",
    "consolidation_rows = accepted_df_v1[accepted_df_v1['title'].apply(fuzzy_match_keyword)]"
   ]
  },
  {
   "cell_type": "code",
   "execution_count": 20,
   "id": "ab7d0b52",
   "metadata": {},
   "outputs": [],
   "source": [
    "# Step 4 - Extract new titles\n",
    "\n",
    "unique_consolidation_titles = consolidation_rows['title'].unique()"
   ]
  },
  {
   "cell_type": "code",
   "execution_count": 21,
   "id": "92501dd1",
   "metadata": {},
   "outputs": [
    {
     "name": "stdout",
     "output_type": "stream",
     "text": [
      "Titles Fuzzily Matching 'Consolidation':\n",
      "7613\n"
     ]
    }
   ],
   "source": [
    "print(\"Titles Fuzzily Matching 'Consolidation':\")\n",
    "print(len(unique_consolidation_titles))"
   ]
  },
  {
   "cell_type": "code",
   "execution_count": 22,
   "id": "c2cd8e90",
   "metadata": {},
   "outputs": [
    {
     "name": "stdout",
     "output_type": "stream",
     "text": [
      "Titles that fuzzily matching 'consolidation' was succesfully exported\n"
     ]
    }
   ],
   "source": [
    "# Export titles fuzzily matching 'consolidation' for manual inspect to check performance of out algorithm\n",
    "\n",
    "file_path = '/Users/abubakaral-faki/Documents/Data Project/MPV1/temp_files/consolidation_mathced_titles.csv'\n",
    "\n",
    "pd.DataFrame(unique_consolidation_titles).to_csv(file_path, index = False)\n",
    "\n",
    "print('Titles that fuzzily matching \\'consolidation\\' was succesfully exported')"
   ]
  },
  {
   "cell_type": "markdown",
   "id": "80474a3b",
   "metadata": {},
   "source": [
    "## Create Column identify loans for consolidation loans"
   ]
  },
  {
   "cell_type": "code",
   "execution_count": 23,
   "id": "968f611d",
   "metadata": {},
   "outputs": [],
   "source": [
    "accepted_df_v1['consolidations'] = accepted_df_v1[accepted_df_v1['title'].apply(fuzzy_match_keyword)]['title']"
   ]
  },
  {
   "cell_type": "code",
   "execution_count": 24,
   "id": "710f9401",
   "metadata": {},
   "outputs": [
    {
     "data": {
      "text/plain": [
       "0    debt consolidation\n",
       "1                   NaN\n",
       "2                   NaN\n",
       "3    debt consolidation\n",
       "4                   NaN\n",
       "Name: consolidations, dtype: object"
      ]
     },
     "execution_count": 24,
     "metadata": {},
     "output_type": "execute_result"
    }
   ],
   "source": [
    "accepted_df_v1['consolidations'].head()"
   ]
  },
  {
   "cell_type": "markdown",
   "id": "6ceb5ea7",
   "metadata": {},
   "source": [
    "## Create column for refinancing loans"
   ]
  },
  {
   "cell_type": "code",
   "execution_count": 25,
   "id": "65cc1334",
   "metadata": {},
   "outputs": [],
   "source": [
    "#Identify loans used for refinancing\n",
    "\n",
    "refinancing_rows = accepted_df_v1[accepted_df_v1['title'].apply(lambda x: fuzzy_match_keyword(x, keyword ='refinance'))]"
   ]
  },
  {
   "cell_type": "code",
   "execution_count": 26,
   "id": "184dc81e",
   "metadata": {},
   "outputs": [],
   "source": [
    "# Create column that identifies rows for refinancing\n",
    "\n",
    "accepted_df_v1['refinancing'] = refinancing_rows['title']"
   ]
  },
  {
   "cell_type": "code",
   "execution_count": 27,
   "id": "44cc3c0d",
   "metadata": {},
   "outputs": [
    {
     "data": {
      "text/plain": [
       "2                              nan\n",
       "8          credit card refinancing\n",
       "9          credit card refinancing\n",
       "12                             nan\n",
       "15         credit card refinancing\n",
       "                    ...           \n",
       "2260527    credit card refinancing\n",
       "2260534    credit card refinancing\n",
       "2260542    credit card refinancing\n",
       "2260545                        nan\n",
       "2260547                        nan\n",
       "Name: refinancing, Length: 522141, dtype: object"
      ]
     },
     "execution_count": 27,
     "metadata": {},
     "output_type": "execute_result"
    }
   ],
   "source": [
    "# Check rows of 'refinancing' column to see if we get expected resulted\n",
    "\n",
    "accepted_df_v1[~accepted_df_v1['refinancing'].isna()]['refinancing']"
   ]
  },
  {
   "cell_type": "code",
   "execution_count": 28,
   "id": "b0cd91d1",
   "metadata": {},
   "outputs": [
    {
     "data": {
      "text/plain": [
       "refinancing\n",
       "credit card refinancing       470091\n",
       "nan                            23324\n",
       "car financing                  20553\n",
       "credit card refinance           2539\n",
       "refinance                        691\n",
       "credit card refinance loan       320\n",
       "cc refinance                     295\n",
       "refi                             269\n",
       "credit refinance                 223\n",
       "refinance loan                   196\n",
       "Name: count, dtype: int64"
      ]
     },
     "execution_count": 28,
     "metadata": {},
     "output_type": "execute_result"
    }
   ],
   "source": [
    "# Inspect the distribution of types of refiancing\n",
    "accepted_df_v1['refinancing'].value_counts()[:10]"
   ]
  },
  {
   "cell_type": "code",
   "execution_count": 29,
   "id": "ec5ae9a5",
   "metadata": {},
   "outputs": [
    {
     "data": {
      "text/plain": [
       "1738407"
      ]
     },
     "execution_count": 29,
     "metadata": {},
     "output_type": "execute_result"
    }
   ],
   "source": [
    "# Count number of missing values\n",
    "accepted_df_v1['refinancing'].isna().sum()"
   ]
  },
  {
   "cell_type": "code",
   "execution_count": 30,
   "id": "914ad775",
   "metadata": {},
   "outputs": [
    {
     "data": {
      "text/plain": [
       "Series([], Name: refinancing, dtype: object)"
      ]
     },
     "execution_count": 30,
     "metadata": {},
     "output_type": "execute_result"
    }
   ],
   "source": [
    "# Count number of empty rows\n",
    "accepted_df_v1[accepted_df_v1['refinancing'] == \"\"]['refinancing']"
   ]
  },
  {
   "cell_type": "markdown",
   "id": "b2f4deb3",
   "metadata": {},
   "source": [
    "## Business Loan column"
   ]
  },
  {
   "cell_type": "code",
   "execution_count": 31,
   "id": "dace9387",
   "metadata": {},
   "outputs": [],
   "source": [
    "# Identify business Loans\n",
    "\n",
    "business_loans = accepted_df_v1[accepted_df_v1['title'].apply(lambda x: fuzzy_match_keyword(x, keyword  = 'business', threshold = 75))]"
   ]
  },
  {
   "cell_type": "code",
   "execution_count": 32,
   "id": "242041bc",
   "metadata": {},
   "outputs": [],
   "source": [
    "# Unique business loan titles\n",
    "\n",
    "unique_business_titles = business_loans['title'].unique()"
   ]
  },
  {
   "cell_type": "code",
   "execution_count": 33,
   "id": "15ca2df6",
   "metadata": {},
   "outputs": [],
   "source": [
    "#Export Business Loan titles for amnual inspection to check performance of fuzz algorithm\n",
    "\n",
    "file_path = '/Users/abubakaral-faki/Documents/Data Project/MPV1/temp_files/business_loans.csv'\n",
    "\n",
    "pd.DataFrame(unique_business_titles).to_csv(file_path, index = False)"
   ]
  },
  {
   "cell_type": "code",
   "execution_count": 34,
   "id": "e15600c9",
   "metadata": {},
   "outputs": [],
   "source": [
    "# Create column to identify business loans\n",
    "\n",
    "accepted_df_v1['business_loans'] = business_loans['title']"
   ]
  },
  {
   "cell_type": "markdown",
   "id": "8c03929b",
   "metadata": {},
   "source": [
    "## Home/buying loans column"
   ]
  },
  {
   "cell_type": "code",
   "execution_count": 35,
   "id": "597cb457",
   "metadata": {},
   "outputs": [],
   "source": [
    "# Identify loans used for housing\n",
    "\n",
    "home_loans = accepted_df_v1[accepted_df_v1['title'].apply(lambda x: fuzzy_match_keyword(x, keyword  = 'home', threshold = 80))]"
   ]
  },
  {
   "cell_type": "code",
   "execution_count": 36,
   "id": "03969199",
   "metadata": {},
   "outputs": [],
   "source": [
    "#create a list of unique housing loan titles\n",
    "\n",
    "unique_home_loans = home_loans['title'].unique()"
   ]
  },
  {
   "cell_type": "code",
   "execution_count": 37,
   "id": "5e4ce4e7",
   "metadata": {},
   "outputs": [],
   "source": [
    "#Export housing Loan titles for manual inspection to check performance of fuzz algorithm\n",
    "\n",
    "file_path = '/Users/abubakaral-faki/Documents/Data Project/MPV1/temp_files/unique_home_loans.csv'\n",
    "\n",
    "pd.DataFrame(unique_home_loans).to_csv(file_path, index = False)"
   ]
  },
  {
   "cell_type": "code",
   "execution_count": 38,
   "id": "bf4fd4f9",
   "metadata": {},
   "outputs": [],
   "source": [
    "accepted_df_v1['home_loans'] = home_loans['title']"
   ]
  },
  {
   "cell_type": "code",
   "execution_count": 39,
   "id": "b295c998",
   "metadata": {},
   "outputs": [
    {
     "data": {
      "text/plain": [
       "29         home improvement\n",
       "38         home improvement\n",
       "40              home buying\n",
       "54              home buying\n",
       "55         home improvement\n",
       "                 ...       \n",
       "2260452    home improvement\n",
       "2260521    home improvement\n",
       "2260537    home improvement\n",
       "2260540    home improvement\n",
       "2260543    home improvement\n",
       "Name: home_loans, Length: 159226, dtype: object"
      ]
     },
     "execution_count": 39,
     "metadata": {},
     "output_type": "execute_result"
    }
   ],
   "source": [
    "accepted_df_v1[~accepted_df_v1['home_loans'].isna()]['home_loans']"
   ]
  },
  {
   "cell_type": "markdown",
   "id": "ad0cbe2d",
   "metadata": {},
   "source": [
    "### Auto Loans column"
   ]
  },
  {
   "cell_type": "code",
   "execution_count": 40,
   "id": "5ddf0b61",
   "metadata": {},
   "outputs": [],
   "source": [
    "# Identify auto loans with Fuzzy Maatching Algorithm\n",
    "\n",
    "car_loans = accepted_df_v1[accepted_df_v1['title'].apply(lambda x: fuzzy_match_keyword(x, keyword  = 'auto', threshold = 80))]"
   ]
  },
  {
   "cell_type": "code",
   "execution_count": 41,
   "id": "d6ea4153",
   "metadata": {},
   "outputs": [],
   "source": [
    "#create a list of unique housing loan titles\n",
    "\n",
    "unique_home_loans = car_loans['title'].unique()"
   ]
  },
  {
   "cell_type": "code",
   "execution_count": 42,
   "id": "12108852",
   "metadata": {},
   "outputs": [
    {
     "data": {
      "text/plain": [
       "array(['paying off higher interest cards & auto',\n",
       "       'credit card/auto repair', 'consolidation and auto repair',\n",
       "       'high interest auto loan payoff', 'auto loan', 'auto credit card',\n",
       "       'consolidation auto amex', 'auto repair', 'auto payoff',\n",
       "       'used auto loan'], dtype=object)"
      ]
     },
     "execution_count": 42,
     "metadata": {},
     "output_type": "execute_result"
    }
   ],
   "source": [
    "# Inspect results of fuzzy matching Algorithm\n",
    "\n",
    "unique_home_loans[:10]"
   ]
  },
  {
   "cell_type": "code",
   "execution_count": 43,
   "id": "2feb0b0f",
   "metadata": {},
   "outputs": [],
   "source": [
    "# Create a column to identify auto loans\n",
    "\n",
    "accepted_df_v1['auto_loans'] = car_loans['title']"
   ]
  },
  {
   "cell_type": "markdown",
   "id": "36186ecc",
   "metadata": {},
   "source": [
    "### Inspect 'zip_code' column and chnage to categorical variable if necessary"
   ]
  },
  {
   "cell_type": "code",
   "execution_count": 44,
   "id": "1be3b985",
   "metadata": {},
   "outputs": [
    {
     "name": "stdout",
     "output_type": "stream",
     "text": [
      "0    190xx\n",
      "1    577xx\n",
      "2    605xx\n",
      "3    076xx\n",
      "4    174xx\n",
      "5    300xx\n",
      "6    550xx\n",
      "7    293xx\n",
      "8    160xx\n",
      "9    029xx\n",
      "Name: zip_code, dtype: object\n"
     ]
    }
   ],
   "source": [
    "print(accepted_df_v1['zip_code'].head(10))"
   ]
  },
  {
   "cell_type": "markdown",
   "id": "ae3b2f94",
   "metadata": {},
   "source": [
    "Seems like a portion of the zip_code was altered to preserve privacy of the user.\n",
    "\n",
    "We will be just extracting the first 3 digits in another column called 'zip_prefix'"
   ]
  },
  {
   "cell_type": "markdown",
   "id": "92ac7ed8",
   "metadata": {},
   "source": [
    "## Create new feature containing prefix of the zip_code"
   ]
  },
  {
   "cell_type": "code",
   "execution_count": 45,
   "id": "0d6957ac",
   "metadata": {},
   "outputs": [
    {
     "name": "stdout",
     "output_type": "stream",
     "text": [
      "0    190\n",
      "1    577\n",
      "2    605\n",
      "3    076\n",
      "4    174\n",
      "Name: zip_prefix, dtype: object\n"
     ]
    }
   ],
   "source": [
    "#Extract first 3 digits of the zip code\n",
    "accepted_df_v1['zip_prefix'] = accepted_df_v1['zip_code'].str[:3]\n",
    "\n",
    "#Check if first 3 digits seem to be extracted correctly\n",
    "print(accepted_df_v1['zip_prefix'].head())"
   ]
  },
  {
   "cell_type": "code",
   "execution_count": 46,
   "id": "8c5e9e9c",
   "metadata": {},
   "outputs": [
    {
     "name": "stdout",
     "output_type": "stream",
     "text": [
      "0\n"
     ]
    }
   ],
   "source": [
    "#Check if there is any x's in the extracted zip code\n",
    "contains_x = accepted_df_v1['zip_prefix'].str.contains('x')\n",
    "\n",
    "#count rows where 'x' is present\n",
    "print(contains_x.sum())"
   ]
  },
  {
   "cell_type": "code",
   "execution_count": 47,
   "id": "7dbd24c7",
   "metadata": {},
   "outputs": [
    {
     "name": "stdout",
     "output_type": "stream",
     "text": [
      "<class 'pandas.core.series.Series'>\n",
      "RangeIndex: 2260548 entries, 0 to 2260547\n",
      "Series name: zip_prefix\n",
      "Non-Null Count    Dtype \n",
      "--------------    ----- \n",
      "2260547 non-null  object\n",
      "dtypes: object(1)\n",
      "memory usage: 17.2+ MB\n"
     ]
    }
   ],
   "source": [
    "accepted_df_v1['zip_prefix'].info()"
   ]
  },
  {
   "cell_type": "markdown",
   "id": "1facc275",
   "metadata": {},
   "source": [
    "There are 956 unique zip_code prefixes so we can turn zip_prefix into a categorical variable"
   ]
  },
  {
   "cell_type": "code",
   "execution_count": 48,
   "id": "a548ddbd",
   "metadata": {},
   "outputs": [
    {
     "name": "stdout",
     "output_type": "stream",
     "text": [
      "Index(['007', '008', '009', '010', '011', '012', '013', '014', '015', '016',\n",
      "       ...\n",
      "       '990', '991', '992', '993', '994', '995', '996', '997', '998', '999'],\n",
      "      dtype='object', length=956)\n"
     ]
    }
   ],
   "source": [
    "# Change zip_prefix to categorical variable\n",
    "\n",
    "accepted_df_v1['zip_prefix'] = accepted_df_v1['zip_prefix'].astype('category')\n",
    "\n",
    "#Check if we have 956 categories\n",
    "print(accepted_df_v1['zip_prefix'].cat.categories)\n"
   ]
  },
  {
   "cell_type": "markdown",
   "id": "4b98bf9f",
   "metadata": {},
   "source": [
    "## Investigate missing values"
   ]
  },
  {
   "cell_type": "code",
   "execution_count": 49,
   "id": "307b682d",
   "metadata": {},
   "outputs": [],
   "source": [
    "missing_values = accepted_df_v1.isna().sum()"
   ]
  },
  {
   "cell_type": "code",
   "execution_count": 50,
   "id": "58e76e42",
   "metadata": {},
   "outputs": [
    {
     "data": {
      "text/plain": [
       "id                       0\n",
       "member_id          2260548\n",
       "loan_amnt                0\n",
       "funded_amnt              0\n",
       "funded_amnt_inv          0\n",
       "                    ...   \n",
       "refinancing        1738407\n",
       "business_loans     2237020\n",
       "home_loans         2101322\n",
       "auto_loans         2259943\n",
       "zip_prefix               1\n",
       "Length: 156, dtype: int64"
      ]
     },
     "execution_count": 50,
     "metadata": {},
     "output_type": "execute_result"
    }
   ],
   "source": [
    "missing_values"
   ]
  },
  {
   "cell_type": "code",
   "execution_count": 51,
   "id": "44a8279e",
   "metadata": {},
   "outputs": [],
   "source": [
    "file_path = '/Users/abubakaral-faki/Documents/Data Project/MPV1/temp_files/missing_values_in_columns.csv'\n",
    "\n",
    "missing_values.to_csv(file_path, index = True)"
   ]
  },
  {
   "cell_type": "code",
   "execution_count": 52,
   "id": "cef881e2",
   "metadata": {},
   "outputs": [
    {
     "name": "stdout",
     "output_type": "stream",
     "text": [
      "<class 'pandas.core.frame.DataFrame'>\n",
      "RangeIndex: 2260548 entries, 0 to 2260547\n",
      "Columns: 156 entries, id to zip_prefix\n",
      "dtypes: category(1), float64(113), int64(1), object(41)\n",
      "memory usage: 2.6+ GB\n"
     ]
    }
   ],
   "source": [
    "accepted_df_v1.info()"
   ]
  },
  {
   "cell_type": "code",
   "execution_count": 53,
   "id": "1789053a",
   "metadata": {},
   "outputs": [
    {
     "name": "stdout",
     "output_type": "stream",
     "text": [
      "0\n"
     ]
    }
   ],
   "source": [
    "# Check for Duplicate Rows\n",
    "\n",
    "print(accepted_df_v1.duplicated().sum())"
   ]
  },
  {
   "cell_type": "markdown",
   "id": "25c2aceb",
   "metadata": {},
   "source": [
    "## Export version 2 of dataframe"
   ]
  },
  {
   "cell_type": "code",
   "execution_count": 54,
   "id": "61b2e99e",
   "metadata": {},
   "outputs": [],
   "source": [
    "file_path = '/Users/abubakaral-faki/Documents/Data Project/MPV1/data/interim/v2_accepted_loans.csv'\n",
    "\n",
    "accepted_df_v1.to_csv(file_path, index = False)"
   ]
  },
  {
   "cell_type": "code",
   "execution_count": 55,
   "id": "67dc0bde",
   "metadata": {},
   "outputs": [
    {
     "name": "stderr",
     "output_type": "stream",
     "text": [
      "/var/folders/yj/v54tzbn14gb70ts6s0j5s3xm0000gn/T/ipykernel_11949/523791690.py:3: DtypeWarning: Columns (18,48,58,117,128,129,130,133,134,135,138,144,145,146,154) have mixed types. Specify dtype option on import or set low_memory=False.\n",
      "  accepted_df_v2 = pd.read_csv('/Users/abubakaral-faki/Documents/Data Project/MPV1/data/interim/v2_accepted_loans.csv')\n"
     ]
    }
   ],
   "source": [
    "# Load Version 2 of accepted loans dataset\n",
    "\n",
    "accepted_df_v2 = pd.read_csv('/Users/abubakaral-faki/Documents/Data Project/MPV1/data/interim/v2_accepted_loans.csv')"
   ]
  },
  {
   "cell_type": "code",
   "execution_count": 56,
   "id": "b885fc41",
   "metadata": {},
   "outputs": [
    {
     "data": {
      "text/html": [
       "<div>\n",
       "<style scoped>\n",
       "    .dataframe tbody tr th:only-of-type {\n",
       "        vertical-align: middle;\n",
       "    }\n",
       "\n",
       "    .dataframe tbody tr th {\n",
       "        vertical-align: top;\n",
       "    }\n",
       "\n",
       "    .dataframe thead th {\n",
       "        text-align: right;\n",
       "    }\n",
       "</style>\n",
       "<table border=\"1\" class=\"dataframe\">\n",
       "  <thead>\n",
       "    <tr style=\"text-align: right;\">\n",
       "      <th></th>\n",
       "      <th>id</th>\n",
       "      <th>member_id</th>\n",
       "      <th>loan_amnt</th>\n",
       "      <th>funded_amnt</th>\n",
       "      <th>funded_amnt_inv</th>\n",
       "      <th>term</th>\n",
       "      <th>int_rate</th>\n",
       "      <th>installment</th>\n",
       "      <th>grade</th>\n",
       "      <th>sub_grade</th>\n",
       "      <th>...</th>\n",
       "      <th>settlement_date</th>\n",
       "      <th>settlement_amount</th>\n",
       "      <th>settlement_percentage</th>\n",
       "      <th>settlement_term</th>\n",
       "      <th>consolidations</th>\n",
       "      <th>refinancing</th>\n",
       "      <th>business_loans</th>\n",
       "      <th>home_loans</th>\n",
       "      <th>auto_loans</th>\n",
       "      <th>zip_prefix</th>\n",
       "    </tr>\n",
       "  </thead>\n",
       "  <tbody>\n",
       "    <tr>\n",
       "      <th>0</th>\n",
       "      <td>68407277</td>\n",
       "      <td>NaN</td>\n",
       "      <td>3600.0</td>\n",
       "      <td>3600.0</td>\n",
       "      <td>3600.0</td>\n",
       "      <td>36 months</td>\n",
       "      <td>13.99</td>\n",
       "      <td>123.03</td>\n",
       "      <td>C</td>\n",
       "      <td>C4</td>\n",
       "      <td>...</td>\n",
       "      <td>NaN</td>\n",
       "      <td>NaN</td>\n",
       "      <td>NaN</td>\n",
       "      <td>NaN</td>\n",
       "      <td>debt consolidation</td>\n",
       "      <td>NaN</td>\n",
       "      <td>NaN</td>\n",
       "      <td>NaN</td>\n",
       "      <td>NaN</td>\n",
       "      <td>190.0</td>\n",
       "    </tr>\n",
       "    <tr>\n",
       "      <th>1</th>\n",
       "      <td>68355089</td>\n",
       "      <td>NaN</td>\n",
       "      <td>24700.0</td>\n",
       "      <td>24700.0</td>\n",
       "      <td>24700.0</td>\n",
       "      <td>36 months</td>\n",
       "      <td>11.99</td>\n",
       "      <td>820.28</td>\n",
       "      <td>C</td>\n",
       "      <td>C1</td>\n",
       "      <td>...</td>\n",
       "      <td>NaN</td>\n",
       "      <td>NaN</td>\n",
       "      <td>NaN</td>\n",
       "      <td>NaN</td>\n",
       "      <td>NaN</td>\n",
       "      <td>NaN</td>\n",
       "      <td>business</td>\n",
       "      <td>NaN</td>\n",
       "      <td>NaN</td>\n",
       "      <td>577.0</td>\n",
       "    </tr>\n",
       "    <tr>\n",
       "      <th>2</th>\n",
       "      <td>68341763</td>\n",
       "      <td>NaN</td>\n",
       "      <td>20000.0</td>\n",
       "      <td>20000.0</td>\n",
       "      <td>20000.0</td>\n",
       "      <td>60 months</td>\n",
       "      <td>10.78</td>\n",
       "      <td>432.66</td>\n",
       "      <td>B</td>\n",
       "      <td>B4</td>\n",
       "      <td>...</td>\n",
       "      <td>NaN</td>\n",
       "      <td>NaN</td>\n",
       "      <td>NaN</td>\n",
       "      <td>NaN</td>\n",
       "      <td>NaN</td>\n",
       "      <td>NaN</td>\n",
       "      <td>NaN</td>\n",
       "      <td>NaN</td>\n",
       "      <td>NaN</td>\n",
       "      <td>605.0</td>\n",
       "    </tr>\n",
       "    <tr>\n",
       "      <th>3</th>\n",
       "      <td>66310712</td>\n",
       "      <td>NaN</td>\n",
       "      <td>35000.0</td>\n",
       "      <td>35000.0</td>\n",
       "      <td>35000.0</td>\n",
       "      <td>60 months</td>\n",
       "      <td>14.85</td>\n",
       "      <td>829.90</td>\n",
       "      <td>C</td>\n",
       "      <td>C5</td>\n",
       "      <td>...</td>\n",
       "      <td>NaN</td>\n",
       "      <td>NaN</td>\n",
       "      <td>NaN</td>\n",
       "      <td>NaN</td>\n",
       "      <td>debt consolidation</td>\n",
       "      <td>NaN</td>\n",
       "      <td>NaN</td>\n",
       "      <td>NaN</td>\n",
       "      <td>NaN</td>\n",
       "      <td>76.0</td>\n",
       "    </tr>\n",
       "    <tr>\n",
       "      <th>4</th>\n",
       "      <td>68476807</td>\n",
       "      <td>NaN</td>\n",
       "      <td>10400.0</td>\n",
       "      <td>10400.0</td>\n",
       "      <td>10400.0</td>\n",
       "      <td>60 months</td>\n",
       "      <td>22.45</td>\n",
       "      <td>289.91</td>\n",
       "      <td>F</td>\n",
       "      <td>F1</td>\n",
       "      <td>...</td>\n",
       "      <td>NaN</td>\n",
       "      <td>NaN</td>\n",
       "      <td>NaN</td>\n",
       "      <td>NaN</td>\n",
       "      <td>NaN</td>\n",
       "      <td>NaN</td>\n",
       "      <td>NaN</td>\n",
       "      <td>NaN</td>\n",
       "      <td>NaN</td>\n",
       "      <td>174.0</td>\n",
       "    </tr>\n",
       "  </tbody>\n",
       "</table>\n",
       "<p>5 rows × 156 columns</p>\n",
       "</div>"
      ],
      "text/plain": [
       "         id  member_id  loan_amnt  funded_amnt  funded_amnt_inv        term  \\\n",
       "0  68407277        NaN     3600.0       3600.0           3600.0   36 months   \n",
       "1  68355089        NaN    24700.0      24700.0          24700.0   36 months   \n",
       "2  68341763        NaN    20000.0      20000.0          20000.0   60 months   \n",
       "3  66310712        NaN    35000.0      35000.0          35000.0   60 months   \n",
       "4  68476807        NaN    10400.0      10400.0          10400.0   60 months   \n",
       "\n",
       "   int_rate  installment grade sub_grade  ... settlement_date  \\\n",
       "0     13.99       123.03     C        C4  ...             NaN   \n",
       "1     11.99       820.28     C        C1  ...             NaN   \n",
       "2     10.78       432.66     B        B4  ...             NaN   \n",
       "3     14.85       829.90     C        C5  ...             NaN   \n",
       "4     22.45       289.91     F        F1  ...             NaN   \n",
       "\n",
       "  settlement_amount settlement_percentage  settlement_term  \\\n",
       "0               NaN                   NaN              NaN   \n",
       "1               NaN                   NaN              NaN   \n",
       "2               NaN                   NaN              NaN   \n",
       "3               NaN                   NaN              NaN   \n",
       "4               NaN                   NaN              NaN   \n",
       "\n",
       "       consolidations refinancing business_loans home_loans auto_loans  \\\n",
       "0  debt consolidation         NaN            NaN        NaN        NaN   \n",
       "1                 NaN         NaN       business        NaN        NaN   \n",
       "2                 NaN         NaN            NaN        NaN        NaN   \n",
       "3  debt consolidation         NaN            NaN        NaN        NaN   \n",
       "4                 NaN         NaN            NaN        NaN        NaN   \n",
       "\n",
       "  zip_prefix  \n",
       "0      190.0  \n",
       "1      577.0  \n",
       "2      605.0  \n",
       "3       76.0  \n",
       "4      174.0  \n",
       "\n",
       "[5 rows x 156 columns]"
      ]
     },
     "execution_count": 56,
     "metadata": {},
     "output_type": "execute_result"
    }
   ],
   "source": [
    "accepted_df_v2.head()"
   ]
  },
  {
   "cell_type": "code",
   "execution_count": 58,
   "id": "fe7fcf42",
   "metadata": {},
   "outputs": [
    {
     "name": "stdout",
     "output_type": "stream",
     "text": [
      "member_id successfuly dropped\n"
     ]
    }
   ],
   "source": [
    "# Drop member_id column \n",
    "# All values for memeber_id are missing\n",
    "\n",
    "accepted_df_v2.drop('member_id', axis = 1, inplace = True)\n",
    "\n",
    "print('member_id successfuly dropped')"
   ]
  },
  {
   "cell_type": "code",
   "execution_count": 59,
   "id": "8ba4d209",
   "metadata": {},
   "outputs": [
    {
     "data": {
      "text/plain": [
       "id                       0\n",
       "loan_amnt                0\n",
       "funded_amnt              0\n",
       "funded_amnt_inv          0\n",
       "term                     0\n",
       "                    ...   \n",
       "refinancing        1761731\n",
       "business_loans     2237020\n",
       "home_loans         2101322\n",
       "auto_loans         2259943\n",
       "zip_prefix               1\n",
       "Length: 155, dtype: int64"
      ]
     },
     "execution_count": 59,
     "metadata": {},
     "output_type": "execute_result"
    }
   ],
   "source": [
    "accepted_df_v2.isna().sum()"
   ]
  },
  {
   "cell_type": "code",
   "execution_count": 61,
   "id": "b8d42133",
   "metadata": {},
   "outputs": [
    {
     "data": {
      "text/html": [
       "<div>\n",
       "<style scoped>\n",
       "    .dataframe tbody tr th:only-of-type {\n",
       "        vertical-align: middle;\n",
       "    }\n",
       "\n",
       "    .dataframe tbody tr th {\n",
       "        vertical-align: top;\n",
       "    }\n",
       "\n",
       "    .dataframe thead th {\n",
       "        text-align: right;\n",
       "    }\n",
       "</style>\n",
       "<table border=\"1\" class=\"dataframe\">\n",
       "  <thead>\n",
       "    <tr style=\"text-align: right;\">\n",
       "      <th></th>\n",
       "      <th>id</th>\n",
       "      <th>loan_amnt</th>\n",
       "      <th>funded_amnt</th>\n",
       "      <th>funded_amnt_inv</th>\n",
       "      <th>term</th>\n",
       "      <th>int_rate</th>\n",
       "      <th>installment</th>\n",
       "      <th>grade</th>\n",
       "      <th>sub_grade</th>\n",
       "      <th>emp_title</th>\n",
       "      <th>...</th>\n",
       "      <th>settlement_date</th>\n",
       "      <th>settlement_amount</th>\n",
       "      <th>settlement_percentage</th>\n",
       "      <th>settlement_term</th>\n",
       "      <th>consolidations</th>\n",
       "      <th>refinancing</th>\n",
       "      <th>business_loans</th>\n",
       "      <th>home_loans</th>\n",
       "      <th>auto_loans</th>\n",
       "      <th>zip_prefix</th>\n",
       "    </tr>\n",
       "  </thead>\n",
       "  <tbody>\n",
       "    <tr>\n",
       "      <th>1735927</th>\n",
       "      <td>96387212</td>\n",
       "      <td>5600.0</td>\n",
       "      <td>5600.0</td>\n",
       "      <td>5600.0</td>\n",
       "      <td>36 months</td>\n",
       "      <td>15.99</td>\n",
       "      <td>196.86</td>\n",
       "      <td>C</td>\n",
       "      <td>C5</td>\n",
       "      <td>electrician</td>\n",
       "      <td>...</td>\n",
       "      <td>NaN</td>\n",
       "      <td>NaN</td>\n",
       "      <td>NaN</td>\n",
       "      <td>NaN</td>\n",
       "      <td>debt consolidation</td>\n",
       "      <td>NaN</td>\n",
       "      <td>NaN</td>\n",
       "      <td>NaN</td>\n",
       "      <td>NaN</td>\n",
       "      <td>NaN</td>\n",
       "    </tr>\n",
       "  </tbody>\n",
       "</table>\n",
       "<p>1 rows × 155 columns</p>\n",
       "</div>"
      ],
      "text/plain": [
       "               id  loan_amnt  funded_amnt  funded_amnt_inv        term  \\\n",
       "1735927  96387212     5600.0       5600.0           5600.0   36 months   \n",
       "\n",
       "         int_rate  installment grade sub_grade    emp_title  ...  \\\n",
       "1735927     15.99       196.86     C        C5  electrician  ...   \n",
       "\n",
       "        settlement_date settlement_amount  settlement_percentage  \\\n",
       "1735927             NaN               NaN                    NaN   \n",
       "\n",
       "        settlement_term      consolidations refinancing business_loans  \\\n",
       "1735927             NaN  debt consolidation         NaN            NaN   \n",
       "\n",
       "        home_loans auto_loans zip_prefix  \n",
       "1735927        NaN        NaN        NaN  \n",
       "\n",
       "[1 rows x 155 columns]"
      ]
     },
     "execution_count": 61,
     "metadata": {},
     "output_type": "execute_result"
    }
   ],
   "source": [
    "accepted_df_v2[accepted_df_v2['zip_code'].isna()]"
   ]
  },
  {
   "cell_type": "code",
   "execution_count": 65,
   "id": "c34ef9a0",
   "metadata": {},
   "outputs": [
    {
     "data": {
      "text/plain": [
       "0    34.0\n",
       "1    29.0\n",
       "2    65.0\n",
       "3    45.0\n",
       "4    78.0\n",
       "5    76.0\n",
       "6    74.0\n",
       "7    55.0\n",
       "8    46.0\n",
       "9    49.0\n",
       "Name: all_util, dtype: float64"
      ]
     },
     "execution_count": 65,
     "metadata": {},
     "output_type": "execute_result"
    }
   ],
   "source": [
    "accepted_df_v2['all_util']"
   ]
  },
  {
   "cell_type": "markdown",
   "id": "835ebf3f",
   "metadata": {},
   "source": [
    "## Export version 3 of dataframe"
   ]
  },
  {
   "cell_type": "code",
   "execution_count": 66,
   "id": "dbea8bab",
   "metadata": {},
   "outputs": [],
   "source": [
    "file_path = '/Users/abubakaral-faki/Documents/Data Project/MPV1/data/interim/v3_accepted_loans.csv'\n",
    "\n",
    "accepted_df_v2.to_csv(file_path, index = False)"
   ]
  },
  {
   "cell_type": "code",
   "execution_count": null,
   "id": "aa5d8940",
   "metadata": {},
   "outputs": [],
   "source": []
  }
 ],
 "metadata": {
  "kernelspec": {
   "display_name": "Python 3 (ipykernel)",
   "language": "python",
   "name": "python3"
  },
  "language_info": {
   "codemirror_mode": {
    "name": "ipython",
    "version": 3
   },
   "file_extension": ".py",
   "mimetype": "text/x-python",
   "name": "python",
   "nbconvert_exporter": "python",
   "pygments_lexer": "ipython3",
   "version": "3.11.5"
  }
 },
 "nbformat": 4,
 "nbformat_minor": 5
}
