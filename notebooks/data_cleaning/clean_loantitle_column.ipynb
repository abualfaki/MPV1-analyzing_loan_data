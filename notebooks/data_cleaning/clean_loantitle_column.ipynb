{
 "cells": [
  {
   "cell_type": "markdown",
   "id": "0d97984b",
   "metadata": {},
   "source": [
    "# Clean title column"
   ]
  },
  {
   "cell_type": "markdown",
   "id": "d32bc735",
   "metadata": {},
   "source": [
    "### Title column is the purpose of the loan given by a user"
   ]
  },
  {
   "cell_type": "code",
   "execution_count": 2,
   "id": "41daddd1",
   "metadata": {},
   "outputs": [
    {
     "name": "stderr",
     "output_type": "stream",
     "text": [
      "/var/folders/yj/v54tzbn14gb70ts6s0j5s3xm0000gn/T/ipykernel_1685/169166819.py:3: DtypeWarning: Columns (17,47,57,116,127,128,129,132,133,134,137,143,144,145) have mixed types. Specify dtype option on import or set low_memory=False.\n",
      "  accepted_df_v1 = pd.read_csv(\"/Users/abubakaral-faki/Documents/Data Project/MPV1/data/interim/v1-accepted.csv\")\n"
     ]
    }
   ],
   "source": [
    "import pandas as pd\n",
    "\n",
    "accepted_df_v1 = pd.read_csv(\"/Users/abubakaral-faki/Documents/Data Project/MPV1/data/interim/v1-accepted.csv\")"
   ]
  },
  {
   "cell_type": "code",
   "execution_count": 4,
   "id": "0665d6cc",
   "metadata": {},
   "outputs": [
    {
     "name": "stdout",
     "output_type": "stream",
     "text": [
      "<class 'pandas.core.series.Series'>\n",
      "RangeIndex: 2027964 entries, 0 to 2027963\n",
      "Series name: title\n",
      "Non-Null Count    Dtype \n",
      "--------------    ----- \n",
      "2004995 non-null  object\n",
      "dtypes: object(1)\n",
      "memory usage: 15.5+ MB\n",
      "None\n",
      "count                2004995\n",
      "unique                 63154\n",
      "top       Debt consolidation\n",
      "freq                 1025175\n",
      "Name: title, dtype: object\n"
     ]
    }
   ],
   "source": [
    "print(accepted_df_v1['title'].info())\n",
    "print(accepted_df_v1['title'].describe())"
   ]
  },
  {
   "cell_type": "code",
   "execution_count": 6,
   "id": "9853a6b3-d652-41c7-b051-e538f5877405",
   "metadata": {},
   "outputs": [
    {
     "data": {
      "text/plain": [
       "title\n",
       "Debt consolidation             1025175\n",
       "Credit card refinancing         422086\n",
       "Home improvement                120563\n",
       "Other                           108712\n",
       "Major purchase                   38895\n",
       "                                ...   \n",
       "Home buys                            1\n",
       "Credit Card Family Recovery          1\n",
       "help pay bill                        1\n",
       "Credit Home Improvement              1\n",
       "debt reduction/hone updates          1\n",
       "Name: count, Length: 63154, dtype: int64"
      ]
     },
     "execution_count": 6,
     "metadata": {},
     "output_type": "execute_result"
    }
   ],
   "source": [
    "# get number of categories and Distribution of categores\n",
    "accepted_df_v1['title'].value_counts()"
   ]
  },
  {
   "cell_type": "code",
   "execution_count": 8,
   "id": "fd6612e5-3547-42d5-b63f-a467ca5ead68",
   "metadata": {},
   "outputs": [
    {
     "data": {
      "text/html": [
       "<div>\n",
       "<style scoped>\n",
       "    .dataframe tbody tr th:only-of-type {\n",
       "        vertical-align: middle;\n",
       "    }\n",
       "\n",
       "    .dataframe tbody tr th {\n",
       "        vertical-align: top;\n",
       "    }\n",
       "\n",
       "    .dataframe thead th {\n",
       "        text-align: right;\n",
       "    }\n",
       "</style>\n",
       "<table border=\"1\" class=\"dataframe\">\n",
       "  <thead>\n",
       "    <tr style=\"text-align: right;\">\n",
       "      <th></th>\n",
       "      <th>title</th>\n",
       "      <th>count</th>\n",
       "    </tr>\n",
       "  </thead>\n",
       "  <tbody>\n",
       "    <tr>\n",
       "      <th>0</th>\n",
       "      <td>Debt consolidation</td>\n",
       "      <td>1025175</td>\n",
       "    </tr>\n",
       "    <tr>\n",
       "      <th>1</th>\n",
       "      <td>Credit card refinancing</td>\n",
       "      <td>422086</td>\n",
       "    </tr>\n",
       "    <tr>\n",
       "      <th>2</th>\n",
       "      <td>Home improvement</td>\n",
       "      <td>120563</td>\n",
       "    </tr>\n",
       "    <tr>\n",
       "      <th>3</th>\n",
       "      <td>Other</td>\n",
       "      <td>108712</td>\n",
       "    </tr>\n",
       "    <tr>\n",
       "      <th>4</th>\n",
       "      <td>Major purchase</td>\n",
       "      <td>38895</td>\n",
       "    </tr>\n",
       "    <tr>\n",
       "      <th>5</th>\n",
       "      <td>Medical expenses</td>\n",
       "      <td>21827</td>\n",
       "    </tr>\n",
       "    <tr>\n",
       "      <th>6</th>\n",
       "      <td>Business</td>\n",
       "      <td>18002</td>\n",
       "    </tr>\n",
       "    <tr>\n",
       "      <th>7</th>\n",
       "      <td>Car financing</td>\n",
       "      <td>17851</td>\n",
       "    </tr>\n",
       "    <tr>\n",
       "      <th>8</th>\n",
       "      <td>Debt Consolidation</td>\n",
       "      <td>15763</td>\n",
       "    </tr>\n",
       "    <tr>\n",
       "      <th>9</th>\n",
       "      <td>Vacation</td>\n",
       "      <td>12615</td>\n",
       "    </tr>\n",
       "    <tr>\n",
       "      <th>10</th>\n",
       "      <td>Moving and relocation</td>\n",
       "      <td>12015</td>\n",
       "    </tr>\n",
       "    <tr>\n",
       "      <th>11</th>\n",
       "      <td>Home buying</td>\n",
       "      <td>10743</td>\n",
       "    </tr>\n",
       "    <tr>\n",
       "      <th>12</th>\n",
       "      <td>Consolidation</td>\n",
       "      <td>5385</td>\n",
       "    </tr>\n",
       "    <tr>\n",
       "      <th>13</th>\n",
       "      <td>debt consolidation</td>\n",
       "      <td>4837</td>\n",
       "    </tr>\n",
       "    <tr>\n",
       "      <th>14</th>\n",
       "      <td>Debt Consolidation Loan</td>\n",
       "      <td>3804</td>\n",
       "    </tr>\n",
       "    <tr>\n",
       "      <th>15</th>\n",
       "      <td>Credit Card Consolidation</td>\n",
       "      <td>2360</td>\n",
       "    </tr>\n",
       "    <tr>\n",
       "      <th>16</th>\n",
       "      <td>consolidation</td>\n",
       "      <td>2175</td>\n",
       "    </tr>\n",
       "    <tr>\n",
       "      <th>17</th>\n",
       "      <td>Personal Loan</td>\n",
       "      <td>2133</td>\n",
       "    </tr>\n",
       "    <tr>\n",
       "      <th>18</th>\n",
       "      <td>Consolidation Loan</td>\n",
       "      <td>1778</td>\n",
       "    </tr>\n",
       "    <tr>\n",
       "      <th>19</th>\n",
       "      <td>Home Improvement</td>\n",
       "      <td>1773</td>\n",
       "    </tr>\n",
       "    <tr>\n",
       "      <th>20</th>\n",
       "      <td>Credit Card Refinance</td>\n",
       "      <td>1468</td>\n",
       "    </tr>\n",
       "    <tr>\n",
       "      <th>21</th>\n",
       "      <td>Credit Card Payoff</td>\n",
       "      <td>1386</td>\n",
       "    </tr>\n",
       "    <tr>\n",
       "      <th>22</th>\n",
       "      <td>Consolidate</td>\n",
       "      <td>1268</td>\n",
       "    </tr>\n",
       "    <tr>\n",
       "      <th>23</th>\n",
       "      <td>Personal</td>\n",
       "      <td>1185</td>\n",
       "    </tr>\n",
       "    <tr>\n",
       "      <th>24</th>\n",
       "      <td>Green loan</td>\n",
       "      <td>1052</td>\n",
       "    </tr>\n",
       "  </tbody>\n",
       "</table>\n",
       "</div>"
      ],
      "text/plain": [
       "                        title    count\n",
       "0          Debt consolidation  1025175\n",
       "1     Credit card refinancing   422086\n",
       "2            Home improvement   120563\n",
       "3                       Other   108712\n",
       "4              Major purchase    38895\n",
       "5            Medical expenses    21827\n",
       "6                    Business    18002\n",
       "7               Car financing    17851\n",
       "8          Debt Consolidation    15763\n",
       "9                    Vacation    12615\n",
       "10      Moving and relocation    12015\n",
       "11                Home buying    10743\n",
       "12              Consolidation     5385\n",
       "13         debt consolidation     4837\n",
       "14    Debt Consolidation Loan     3804\n",
       "15  Credit Card Consolidation     2360\n",
       "16              consolidation     2175\n",
       "17              Personal Loan     2133\n",
       "18         Consolidation Loan     1778\n",
       "19           Home Improvement     1773\n",
       "20      Credit Card Refinance     1468\n",
       "21         Credit Card Payoff     1386\n",
       "22                Consolidate     1268\n",
       "23                   Personal     1185\n",
       "24                 Green loan     1052"
      ]
     },
     "execution_count": 8,
     "metadata": {},
     "output_type": "execute_result"
    }
   ],
   "source": [
    "loan_purpose = accepted_df_v1['title'].value_counts().reset_index()\n",
    "\n",
    "loan_purpose[:25]"
   ]
  },
  {
   "cell_type": "code",
   "execution_count": 10,
   "id": "2400aa8b-1a4c-4346-955f-100e6143e30b",
   "metadata": {},
   "outputs": [
    {
     "data": {
      "text/plain": [
       "22969"
      ]
     },
     "execution_count": 10,
     "metadata": {},
     "output_type": "execute_result"
    }
   ],
   "source": [
    "# Count Number of Missing Values\n",
    "accepted_df_v1['title'].isna().sum()"
   ]
  },
  {
   "cell_type": "markdown",
   "id": "8ee71ec8",
   "metadata": {},
   "source": [
    "## Normalize titles"
   ]
  },
  {
   "cell_type": "code",
   "execution_count": 13,
   "id": "0440867f",
   "metadata": {},
   "outputs": [
    {
     "name": "stdout",
     "output_type": "stream",
     "text": [
      "63155\n"
     ]
    }
   ],
   "source": [
    "# Number of unique job titles before normalizing\n",
    "print(len(accepted_df_v1['title'].unique()))"
   ]
  },
  {
   "cell_type": "code",
   "execution_count": 15,
   "id": "1eb71adc",
   "metadata": {},
   "outputs": [],
   "source": [
    "# Strip Whitespace and normalize Job titles\n",
    "accepted_df_v1['title'] = accepted_df_v1['title'].fillna(\"\").apply(lambda x: str(x).lower().strip())"
   ]
  },
  {
   "cell_type": "code",
   "execution_count": 17,
   "id": "78b1a6ee",
   "metadata": {},
   "outputs": [
    {
     "name": "stdout",
     "output_type": "stream",
     "text": [
      "51792\n"
     ]
    }
   ],
   "source": [
    "# Number of unique job titles after normalizing\n",
    "print(len(accepted_df_v1['title'].unique()))"
   ]
  },
  {
   "cell_type": "markdown",
   "id": "fc625aba",
   "metadata": {},
   "source": [
    "## Save All Unique Loan titles for manual inspection"
   ]
  },
  {
   "cell_type": "code",
   "execution_count": 20,
   "id": "b58c157b",
   "metadata": {},
   "outputs": [],
   "source": [
    "# Get uque Loan titles and their value counts\n",
    "loan_titles = accepted_df_v1['title'].value_counts().reset_index()\n",
    "loan_titles.columns = ['loan_purpose', 'count']\n",
    "\n",
    "# Save unique loan titles to csv for manual inspection\n",
    "loan_titles.to_csv('/Users/abubakaral-faki/Documents/Data Project/MPV1/temp_files/loan_titles_cleaned.csv', index = False)"
   ]
  },
  {
   "cell_type": "markdown",
   "id": "1a16cf8f-3981-4e7d-9d95-6ebe71338a28",
   "metadata": {},
   "source": [
    "# Redefining categories to reduce number of categories"
   ]
  },
  {
   "cell_type": "code",
   "execution_count": 23,
   "id": "c25bd8c5-f730-441b-9934-a15cb8ecf23b",
   "metadata": {},
   "outputs": [],
   "source": [
    "# Change 'debt consolidation loan' category to 'debt consolidation'\n",
    "accepted_df_v1.loc[accepted_df_v1['title'] == 'debt consolidation loan','title'] = 'debt consolidation'"
   ]
  },
  {
   "cell_type": "code",
   "execution_count": 25,
   "id": "fb20a9f9-a74a-42ef-aeb5-63d006e97d62",
   "metadata": {},
   "outputs": [],
   "source": [
    "# Change 'consolidation' & 'consolidate' category to 'consolidation loan'\n",
    "\n",
    "consolidation_loans = ['consolidation', 'consolidate']\n",
    "accepted_df_v1.loc[accepted_df_v1['title'].isin(consolidation_loans), 'title'] = 'consolidation loan'"
   ]
  },
  {
   "cell_type": "code",
   "execution_count": 27,
   "id": "d62943ec-c270-4f98-9bc0-5d64770670f9",
   "metadata": {},
   "outputs": [],
   "source": [
    "# Combine 'credit card refinance' & 'credit card payoff' & 'credit card consolidation' into existing category 'credit card refinancing'\n",
    "\n",
    "credit_card_loans = ['credit card refinance', 'credit card payoff', 'credit card consolidation', 'credit cards', 'credit consolidation',\n",
    "                    'credit card refi', 'credit card debt', 'credit card pay off','cc consolidation', 'cc payoff', \n",
    "                     'credit card debt consolidation', 'cc loan', 'cc refinance', 'cc refi', 'credit payoff', 'cards', 'credit loan', 'credit card payment']\n",
    "accepted_df_v1.loc[accepted_df_v1['title'].isin(credit_card_loans), 'title'] = 'credit card refinancing'"
   ]
  },
  {
   "cell_type": "code",
   "execution_count": 29,
   "id": "b209d212-f2d0-441c-8160-43fd59a03bf1",
   "metadata": {},
   "outputs": [],
   "source": [
    "# Combine 'personal' category to existing category 'personal loan'\n",
    "accepted_df_v1.loc[accepted_df_v1['title'].isin(['personal']), 'title'] = 'personal loan'"
   ]
  },
  {
   "cell_type": "code",
   "execution_count": 38,
   "id": "9e1156de-45e0-4059-9908-87991ed18306",
   "metadata": {},
   "outputs": [
    {
     "data": {
      "text/plain": [
       "title\n",
       "debt consolidation         1052511\n",
       "credit card refinancing     438263\n",
       "home improvement            123312\n",
       "other                       108805\n",
       "major purchase               39208\n",
       "                             22969\n",
       "medical expenses             21942\n",
       "business                     18120\n",
       "car financing                17878\n",
       "consolidation loan           13023\n",
       "vacation                     12824\n",
       "moving and relocation        12024\n",
       "home buying                  10762\n",
       "personal loan                 5572\n",
       "loan                          1636\n",
       "payoff                        1463\n",
       "debt                          1422\n",
       "freedom                       1326\n",
       "credit card                   1281\n",
       "my loan                       1209\n",
       "Name: count, dtype: int64"
      ]
     },
     "execution_count": 38,
     "metadata": {},
     "output_type": "execute_result"
    }
   ],
   "source": [
    "accepted_df_v1['title'].value_counts()[:20]"
   ]
  },
  {
   "cell_type": "code",
   "execution_count": 40,
   "id": "47dfdcd8-d825-480e-8a22-d9d4a8e1c731",
   "metadata": {},
   "outputs": [
    {
     "name": "stdout",
     "output_type": "stream",
     "text": [
      "51770\n"
     ]
    }
   ],
   "source": [
    "# Number of unique job titles after re-categorizing\n",
    "print(len(accepted_df_v1['title'].unique()))"
   ]
  },
  {
   "cell_type": "markdown",
   "id": "067e55a2",
   "metadata": {},
   "source": [
    "There are appear to be numbers and dates which don't make sense. so we will be leaving them blank"
   ]
  },
  {
   "cell_type": "markdown",
   "id": "7ed02b0c",
   "metadata": {},
   "source": [
    "## Remove pure numbers in loan title"
   ]
  },
  {
   "cell_type": "code",
   "execution_count": 44,
   "id": "df6c06d6",
   "metadata": {},
   "outputs": [],
   "source": [
    "accepted_df_v1 = accepted_df_v1[~accepted_df_v1['title'].str.match(r'\\d+$', '', na = False)]"
   ]
  },
  {
   "cell_type": "code",
   "execution_count": 45,
   "id": "e691e105",
   "metadata": {},
   "outputs": [
    {
     "data": {
      "text/plain": [
       "1791260                                                \"ccc\"\n",
       "1645481    \"discover\" ing i no longer want to \"chase\" aft...\n",
       "1624103                     \"for those that said i couldn't\"\n",
       "1830587                                           \"freedom!\"\n",
       "1938497                               \"funeral expenses loan\n",
       "1624722                                    \"get out of debt\"\n",
       "1789661                 \"get out of debt\" consolidation loan\n",
       "1647738                      \"getting ahead on my debt\" loan\n",
       "1811382             \"getting over the hump\" debt consolidatn\n",
       "1651661                                          \"good loan\"\n",
       "1840308                          \"good to great\" investments\n",
       "1906389                                   \"goodbye apr high\"\n",
       "1784591                                \"happy if successful\"\n",
       "1629555                                    \"happy to return\"\n",
       "1830685                                          \"moving on\"\n",
       "1760463                                \"my home improvement\"\n",
       "1799943                                          \"new start\"\n",
       "1905540                      \"pay it down\" lending club loan\n",
       "1838661                    \"paying off my credit cards\" loan\n",
       "1805883                                       \"save my life\"\n",
       "Name: title, dtype: object"
      ]
     },
     "execution_count": 45,
     "metadata": {},
     "output_type": "execute_result"
    }
   ],
   "source": [
    "accepted_df_v1[~(accepted_df_v1['title'] == '')]['title'].sort_values(ascending = True)[:20]"
   ]
  },
  {
   "cell_type": "markdown",
   "id": "adac4ffc",
   "metadata": {},
   "source": [
    "## Identify debt consolidation loans"
   ]
  },
  {
   "cell_type": "code",
   "execution_count": 47,
   "id": "2b906e2a-c367-4336-a21f-6b2792d911a0",
   "metadata": {},
   "outputs": [],
   "source": [
    "# Remove all spaces from title columns\n",
    "accepted_df_v1['c_title'] = accepted_df_v1['title'].str.strip().str.replace(\"_\", \"\", regex=False)"
   ]
  },
  {
   "cell_type": "code",
   "execution_count": 48,
   "id": "98b54075-01db-4c89-ac46-d2f557a294e5",
   "metadata": {},
   "outputs": [
    {
     "data": {
      "text/plain": [
       "c_title\n",
       "debt consolidation         1052511\n",
       "credit card refinancing     438263\n",
       "home improvement            123312\n",
       "other                       108805\n",
       "major purchase               39208\n",
       "                             22969\n",
       "medical expenses             21942\n",
       "business                     18120\n",
       "car financing                17878\n",
       "consolidation loan           13023\n",
       "vacation                     12824\n",
       "moving and relocation        12024\n",
       "home buying                  10762\n",
       "personal loan                 5572\n",
       "loan                          1636\n",
       "payoff                        1464\n",
       "debt                          1422\n",
       "freedom                       1326\n",
       "credit card                   1281\n",
       "my loan                       1209\n",
       "Name: count, dtype: int64"
      ]
     },
     "execution_count": 48,
     "metadata": {},
     "output_type": "execute_result"
    }
   ],
   "source": [
    "accepted_df_v1['c_title'].value_counts()[:20]"
   ]
  },
  {
   "cell_type": "code",
   "execution_count": 89,
   "id": "9bb8b1c0",
   "metadata": {},
   "outputs": [
    {
     "name": "stdout",
     "output_type": "stream",
     "text": [
      "ul:  ['debt consolidation' 'debtc' 'debt payoff' 'debt pay off' 'debt clean up']\n",
      "Finding loan titles close to debt consolidation\n",
      "matches:  [('debt consolidation', 100), ('debt-consolidation', 100), ('debt consolidation..', 100), ('debt consolidation.', 100), ('debt consolidation-', 100)]\n",
      "\n",
      "debt consolidation.csv file saved for manual inspection\n",
      "             loan_title  similarity_score\n",
      "0    debt consolidation               100\n",
      "1    debt-consolidation               100\n",
      "2  debt consolidation..               100\n",
      "3   debt consolidation.               100\n",
      "4   debt consolidation-               100\n",
      "\n",
      "✅ Mapping Applied in 0.24 seconds\n"
     ]
    }
   ],
   "source": [
    "from thefuzz import process\n",
    "import time\n",
    "\n",
    "# Remove titles tha contain the word card so we don't match for Credit card Consolidate\n",
    "accepted_df_debt = accepted_df_v1[~accepted_df_v1['c_title'].str.contains(r\"card|cc|credit|c/c|c.c.|c.c\", case=False, na=False)]\n",
    "accepted_df_debt = accepted_df_v1[accepted_df_v1['c_title'].str.contains(\"debt\", case=False, na=False)]\n",
    "\n",
    "# Start Timer\n",
    "start_timer = time.time()\n",
    "\n",
    "# Get unique titles containing debt\n",
    "unique_loans = accepted_df_debt['c_title'].dropna().unique()\n",
    "print('ul: ', unique_loans[:5])\n",
    "\n",
    "\n",
    "# Define title to match\n",
    "match_title = 'debt consolidation'\n",
    "print(f\"Finding loan titles close to {match_title}\")\n",
    "\n",
    "# Find matches close to match_title\n",
    "matches = process.extract(match_title, unique_loans, limit = len(unique_loans))\n",
    "print('matches: ', matches[:5])\n",
    "\n",
    "\n",
    "# Export matches to csv for manual inspection\n",
    "file_path = f'/Users/abubakaral-faki/Documents/Data Project/MPV1/temp_files/{match_title}.csv'\n",
    "matches_df = pd.DataFrame(matches, columns = ['loan_title', 'similarity_score'])\n",
    "matches_df.to_csv(file_path, index = False)\n",
    "\n",
    "\n",
    "print(\"\")\n",
    "print(f'{match_title}.csv file saved for manual inspection')\n",
    "\n",
    "print(matches_df.head())\n",
    "\n",
    "# === 🔹 Optimized Dictionary Mapping ===\n",
    "# Create a mapping dictionary to replace incorrect titles with 'debtconsolidation'\n",
    "correction_map = {title: match_title for title in matches_df['loan_title']}\n",
    "\n",
    "# print('correction Map:', correction_map)\n",
    "\n",
    "# Efficiently update values using `.map()`\n",
    "accepted_df_v1.loc[accepted_df_v1['c_title'].isin(correction_map.keys()), 'c_title'] = accepted_df_v1['c_title'].map(correction_map)\n",
    "\n",
    "# End Timer\n",
    "end_timer = time.time()\n",
    "\n",
    "print(f\"\\n✅ Mapping Applied in {round(end_timer - start_timer, 2)} seconds\")"
   ]
  },
  {
   "attachments": {},
   "cell_type": "markdown",
   "id": "0a627715",
   "metadata": {},
   "source": [
    "Some title like 'consolidation' will be considered as 'debt consolidation'\n",
    "\n",
    "Some titles like 'debt' will be considered 'debt consolidation'\n",
    "\n",
    "Some titles like 'debtsucks','loan4debt', 'debtclearence', 'paybakdebt', 'lookingtogetdebtfree' will be considered 'debt consolidation', \n",
    "\n",
    "Dual purpose loans like 'medicalandothermiscdebt' and 'homerepairanddebtpayoff' will be considered debt consolidation\n",
    "\n",
    "There will be erros while cleaning because Fuzzyy matching is not context and menaing aware"
   ]
  },
  {
   "cell_type": "code",
   "execution_count": 92,
   "id": "63546162",
   "metadata": {},
   "outputs": [
    {
     "data": {
      "text/plain": [
       "c_title\n",
       "debt consolidation         1076622\n",
       "credit card refinancing     458335\n",
       "home improvement            123312\n",
       "other                       108805\n",
       "major purchase               39208\n",
       "medical expenses             23652\n",
       "                             22969\n",
       "business                     18182\n",
       "car financing                17878\n",
       "consolidation loan           13023\n",
       "vacation                     12824\n",
       "moving and relocation        12024\n",
       "home buying                  10762\n",
       "personal loan                 5572\n",
       "loan                          1636\n",
       "payoff                        1464\n",
       "freedom                       1326\n",
       "my loan                       1209\n",
       "green loan                    1067\n",
       "home improvement loan          777\n",
       "Name: count, dtype: int64"
      ]
     },
     "execution_count": 92,
     "metadata": {},
     "output_type": "execute_result"
    }
   ],
   "source": [
    "# Check Value counts\n",
    "accepted_df_v1['c_title'].value_counts()[:20]"
   ]
  },
  {
   "cell_type": "code",
   "execution_count": 94,
   "id": "ed2307da",
   "metadata": {},
   "outputs": [
    {
     "name": "stdout",
     "output_type": "stream",
     "text": [
      "35648\n"
     ]
    }
   ],
   "source": [
    "# Number of unique value counts\n",
    "print(len(accepted_df_v1['c_title'].unique()))"
   ]
  },
  {
   "cell_type": "markdown",
   "id": "2338a4e3-67e7-4e6b-b1d5-7cdf5762aec9",
   "metadata": {},
   "source": [
    "# Identify all loan titles with cc and change them to 'credit card refinancing' category\n",
    "\n",
    "Why?\n",
    " - I would like to reduce the number of categories in the loan_title column for more a more accurate risk model"
   ]
  },
  {
   "cell_type": "code",
   "execution_count": 97,
   "id": "1d866fae-e51c-4d55-b0fc-287482cbcc77",
   "metadata": {},
   "outputs": [],
   "source": [
    "from thefuzz import process\n",
    "\n",
    "unique_loan_titles = accepted_df_v1['c_title'].dropna().unique()\n",
    "\n",
    "find_keyword = 'cc'\n",
    "\n",
    "matches = process.extract(find_keyword, unique_loan_titles, limit = len(unique_loan_titles))\n",
    "\n",
    "# Convert to DataFrame\n",
    "matches_df = pd.DataFrame(matches, columns = ['loan_title', 'similarity_score'])\n",
    "\n",
    "#Export matches_df to .csv file\n",
    "file_path = '/Users/abubakaral-faki/Documents/Data Project/MPV1/temp_files/cc_loans.csv'\n",
    "matches_df.to_csv(file_path, index = False) # Score of 86 seems to be the best threshold\n"
   ]
  },
  {
   "cell_type": "code",
   "execution_count": 99,
   "id": "f222b818-796f-4480-800e-fef89e1cd171",
   "metadata": {},
   "outputs": [
    {
     "name": "stdout",
     "output_type": "stream",
     "text": [
      "c_title\n",
      "debt consolidation                         1076622\n",
      "credit card refinancing                     459000\n",
      "home improvement                            123312\n",
      "other                                       108805\n",
      "major purchase                               39208\n",
      "                                            ...   \n",
      "getting away from washington mutual              1\n",
      "ebay business expansion                          1\n",
      "reducing interest pmnts on high apr ccs          1\n",
      "350 rich. terrace                                1\n",
      "takeitaway                                       1\n",
      "Name: count, Length: 35383, dtype: int64\n"
     ]
    }
   ],
   "source": [
    "# Dictionary Map\n",
    "matches_df_86 = matches_df[matches_df['similarity_score'] >= 86]\n",
    "\n",
    "# remove 'transacct' from list\n",
    "matches_df_86 = matches_df_86[matches_df_86['loan_title'] != 'transacct']\n",
    "\n",
    "#correction_map to chage titles with 'c\n",
    "credit_correction_map = {mismatched_title: 'credit card refinancing' for mismatched_title in matches_df_86['loan_title']}\n",
    "\n",
    "\n",
    "# Efficiently update values using `.map()`\n",
    "accepted_df_v1.loc[accepted_df_v1['c_title'].isin(credit_correction_map.keys()), 'c_title'] = accepted_df_v1['c_title'].map(credit_correction_map)\n",
    "\n",
    "print(accepted_df_v1['c_title'].value_counts())"
   ]
  },
  {
   "cell_type": "markdown",
   "id": "093a4c45-498a-4bab-827d-13d8b82872e8",
   "metadata": {},
   "source": [
    "## Identify all loan titles with the word credit and change them to 'credit card refinancing' category"
   ]
  },
  {
   "cell_type": "code",
   "execution_count": 102,
   "id": "15c83c7a-7412-4135-8c8d-d5041802af01",
   "metadata": {},
   "outputs": [
    {
     "name": "stdout",
     "output_type": "stream",
     "text": [
      "c_title\n",
      "debt consolidation                          1076622\n",
      "credit card refinancing                      460062\n",
      "home improvement                             123312\n",
      "other                                        108805\n",
      "major purchase                                39208\n",
      "                                             ...   \n",
      "2007tax                                           1\n",
      "help pay the bills                                1\n",
      "to finance tax payments                           1\n",
      "payng off higher rate at fixed rate/term          1\n",
      "takeitaway                                        1\n",
      "Name: count, Length: 34909, dtype: int64\n"
     ]
    }
   ],
   "source": [
    "keyword = 'credit'\n",
    "\n",
    "unique_loan_titles = accepted_df_v1['c_title'].dropna().unique()\n",
    "\n",
    "matches = process.extract(keyword, unique_loan_titles, limit = len(unique_loan_titles))\n",
    "\n",
    "matches_df = pd.DataFrame(matches, columns = ['loan_title', 'similarity_score'])\n",
    "\n",
    "#Export to csv\n",
    "file_path = '/Users/abubakaral-faki/Documents/Data Project/MPV1/temp_files/credit_card_loan.csv'\n",
    "matches_df.to_csv(file_path, index = False)\n",
    "\n",
    "#Filer for titled with a score equal to or greater than 71\n",
    "matched_df_filtered = matches_df[matches_df['similarity_score'] >= 71]\n",
    "\n",
    "# Remove the false posittives\n",
    "matched_df_filtered = matched_df_filtered[~matched_df_filtered['loan_title'].isin(['incredible','redirect of funds', 'pay dedit', 'car'])]\n",
    "\n",
    "# Correction Map\n",
    "credit_correction_map = {mismatched_title: 'credit card refinancing' for mismatched_title in matched_df_filtered['loan_title']}\n",
    "\n",
    "# Apply Correction map \n",
    "accepted_df_v1.loc[accepted_df_v1['c_title'].isin(credit_correction_map.keys()), 'c_title'] = accepted_df_v1['c_title'].map(credit_correction_map)\n",
    "\n",
    "print(accepted_df_v1['c_title'].value_counts())"
   ]
  },
  {
   "cell_type": "code",
   "execution_count": 104,
   "id": "2d2bdc1a-7f72-4724-8c1a-352cc0b869a7",
   "metadata": {},
   "outputs": [
    {
     "name": "stdout",
     "output_type": "stream",
     "text": [
      "Number of Unique categries:  34909\n"
     ]
    }
   ],
   "source": [
    "# Check number of unique categories\n",
    "print('Number of Unique categries: ', len(accepted_df_v1['c_title'].unique()))"
   ]
  },
  {
   "cell_type": "code",
   "execution_count": 106,
   "id": "e10e0858-2652-4c84-be2d-3ae3a25c8693",
   "metadata": {},
   "outputs": [
    {
     "name": "stdout",
     "output_type": "stream",
     "text": [
      "c_title\n",
      "debt consolidation         1076622\n",
      "credit card refinancing     461012\n",
      "home improvement            123312\n",
      "other                       108805\n",
      "major purchase               39208\n",
      "medical expenses             23652\n",
      "                             22969\n",
      "business                     18182\n",
      "car financing                17878\n",
      "consolidation loan           13023\n",
      "vacation                     12824\n",
      "moving and relocation        12024\n",
      "home buying                  10762\n",
      "personal loan                 5572\n",
      "loan                          1636\n",
      "Name: count, dtype: int64\n"
     ]
    }
   ],
   "source": [
    "keyword = 'card'\n",
    "\n",
    "unique_loan_titles = accepted_df_v1['c_title'].dropna().unique()\n",
    "\n",
    "matches = process.extract(keyword, unique_loan_titles, limit = len(unique_loan_titles))\n",
    "\n",
    "matches_df = pd.DataFrame(matches, columns = ['loan_title', 'similarity_score'])\n",
    "\n",
    "#Export to csv\n",
    "file_path = '/Users/abubakaral-faki/Documents/Data Project/MPV1/temp_files/card_loan.csv'\n",
    "matches_df.to_csv(file_path, index = False)\n",
    "\n",
    "#Filer for titles with a score equal to or greater than 89\n",
    "matched_df_filtered = matches_df[matches_df['similarity_score'] >= 89]\n",
    "\n",
    "# Remove the false posittive\n",
    "matched_df_filtered = matched_df_filtered[~matched_df_filtered['loan_title'].isin(['ar'])]\n",
    "\n",
    "# Correction Map\n",
    "credit_correction_map = {mismatched_title: 'credit card refinancing' for mismatched_title in matched_df_filtered['loan_title']}\n",
    "\n",
    "# Apply Correction map \n",
    "accepted_df_v1.loc[accepted_df_v1['c_title'].isin(credit_correction_map.keys()), 'c_title'] = accepted_df_v1['c_title'].map(credit_correction_map)\n",
    "\n",
    "print(accepted_df_v1['c_title'].value_counts()[:15])"
   ]
  },
  {
   "cell_type": "code",
   "execution_count": 108,
   "id": "c4b50619-63b6-4370-ab08-6e3166b48c10",
   "metadata": {},
   "outputs": [
    {
     "name": "stdout",
     "output_type": "stream",
     "text": [
      "Number of Unique categories:  34373\n"
     ]
    }
   ],
   "source": [
    "print('Number of Unique categories: ', len(accepted_df_v1['c_title'].unique()))"
   ]
  },
  {
   "cell_type": "markdown",
   "id": "1dcd7c93-9556-413e-862b-4d5cc3057e2f",
   "metadata": {},
   "source": [
    "## Identify home Improvent loans"
   ]
  },
  {
   "cell_type": "code",
   "execution_count": 111,
   "id": "da41f7af",
   "metadata": {
    "scrolled": true
   },
   "outputs": [
    {
     "name": "stdout",
     "output_type": "stream",
     "text": [
      "Finding loan titles close to home improvement\n",
      "            loan_title  similarity_score\n",
      "0     home improvement               100\n",
      "1  home improvement...               100\n",
      "2    home improvement.               100\n",
      "3    home improvements                97\n",
      "4    home  improvement                97\n",
      "\n",
      "✅ Mapping Applied in 0.45 seconds\n"
     ]
    }
   ],
   "source": [
    "from thefuzz import process\n",
    "import time\n",
    "\n",
    "#Make sure the word hom\n",
    "home_improvement = accepted_df_v1[accepted_df_v1['c_title'].str.contains(r'improvement|home', case = False, na = False)]\n",
    "home_improvement = accepted_df_v1[~accepted_df_v1['c_title'].str.contains(r'loan|refinance|repair|buy|building|bills|new', case = False, na = False)]\n",
    "\n",
    "# Start Timer\n",
    "start_timer = time.time()\n",
    "\n",
    "# Get unique titles\n",
    "unique_loans = home_improvement['c_title'].dropna().unique()\n",
    "\n",
    "# Define title to match\n",
    "match_title = 'home improvement'\n",
    "print(f\"Finding loan titles close to {match_title}\")\n",
    "\n",
    "# Find matches close to match_title\n",
    "matches = process.extract(match_title, unique_loans, limit = len(unique_loans))\n",
    "\n",
    "# Export matches to csv for manual inspection\n",
    "file_path = f'/Users/abubakaral-faki/Documents/Data Project/MPV1/temp_files/{match_title}1111.csv'\n",
    "matches_df = pd.DataFrame(matches, columns = ['loan_title', 'similarity_score'])\n",
    "matches_df.to_csv(file_path, index = False)\n",
    "\n",
    "print(matches_df.head())\n",
    "\n",
    "# Remove False Positives\n",
    "false_positives = ['primaryhomeinvestment']\n",
    "matches_df = matches_df[~matches_df['loan_title'].isin([false_positives])]\n",
    "\n",
    "# Filter for matching with a score of 60 and above and that have the word debt in them\n",
    "filtered_matches_df = matches_df[matches_df['similarity_score'] >= 87]\n",
    "\n",
    "# === 🔹 Optimized Dictionary Mapping ===\n",
    "# Create a mapping dictionary to replace incorrect titles with 'debtconsolidation'\n",
    "correction_map = {title: 'home improvement' for title in filtered_matches_df['loan_title']}\n",
    "\n",
    "# Efficiently update values using `.map()`\n",
    "accepted_df_v1.loc[accepted_df_v1['c_title'].isin(correction_map.keys()), 'c_title'] = accepted_df_v1['c_title'].map(correction_map)\n",
    "\n",
    "# End Timer\n",
    "end_timer = time.time()\n",
    "\n",
    "# End Timer\n",
    "end_timer = time.time()\n",
    "\n",
    "print(f\"\\n✅ Mapping Applied in {round(end_timer - start_timer, 2)} seconds\")"
   ]
  },
  {
   "cell_type": "code",
   "execution_count": 112,
   "id": "3b541eb1-fe69-4e2b-b306-f47698d630bc",
   "metadata": {},
   "outputs": [
    {
     "name": "stdout",
     "output_type": "stream",
     "text": [
      "c_title\n",
      "debt consolidation         1076622\n",
      "credit card refinancing     461012\n",
      "home improvement            125167\n",
      "other                       108805\n",
      "major purchase               39208\n",
      "                            ...   \n",
      "lc loan                        117\n",
      "taxes                          117\n",
      "bill payoff                    115\n",
      "money                          114\n",
      "motorcycle loan                111\n",
      "Name: count, Length: 70, dtype: int64\n"
     ]
    }
   ],
   "source": [
    "print(accepted_df_v1['c_title'].value_counts()[:70])"
   ]
  },
  {
   "cell_type": "code",
   "execution_count": 113,
   "id": "d2b60893-b068-4e09-a51d-95c08e7b26d7",
   "metadata": {},
   "outputs": [
    {
     "name": "stdout",
     "output_type": "stream",
     "text": [
      "Number of Unique categories:  33889\n"
     ]
    }
   ],
   "source": [
    "print('Number of Unique categories: ', len(accepted_df_v1['c_title'].unique()))"
   ]
  },
  {
   "cell_type": "markdown",
   "id": "463ec8af-eb33-4627-b479-427557e5ecdd",
   "metadata": {},
   "source": [
    "## Identify 'medical' titles"
   ]
  },
  {
   "cell_type": "code",
   "execution_count": 118,
   "id": "21effda3-6210-4009-91c6-e6ac8278c208",
   "metadata": {},
   "outputs": [
    {
     "name": "stdout",
     "output_type": "stream",
     "text": [
      "Finding loan titles close to medical expense\n",
      "[('medical expenses', 97), ('ahmed', 68), ('multimedia  expansion', 61), ('remedy', 60), ('king media', 60)]\n",
      "\n",
      "✅ Mapping Applied in 0.09 seconds\n"
     ]
    }
   ],
   "source": [
    "## Identify medical\n",
    "\n",
    "from thefuzz import process\n",
    "import time\n",
    "#Filter accepted_df_v1 for medical bills\n",
    "medical_loans = accepted_df_v1[accepted_df_v1['c_title'].str.contains(r'medic|medical|medic|med|medx', case = False, na = False)]\n",
    "\n",
    "# Start Timer\n",
    "start_timer = time.time()\n",
    "\n",
    "# Get unique titles\n",
    "unique_loans = medical_loans['c_title'].dropna().unique()\n",
    "\n",
    "# Define title to match\n",
    "match_title = 'medical expense'\n",
    "print(f\"Finding loan titles close to {match_title}\")\n",
    "\n",
    "# Find matches close to match_title\n",
    "matches = process.extract(match_title, unique_loans, limit = len(unique_loans))\n",
    "print(matches[:5])\n",
    "\n",
    "# Export matches to csv for manual inspection\n",
    "file_path = f'/Users/abubakaral-faki/Documents/Data Project/MPV1/temp_files/{match_title}.csv'\n",
    "matches_df = pd.DataFrame(matches, columns = ['loan_title', 'similarity_score'])\n",
    "matches_df.to_csv(file_path, index = False)\n",
    "\n",
    "#Remove False Positives\n",
    "false_positives = ['goodbye homedepot', 'goodbye homedepot', 'reformed unhappy shopper', 'reformed','xelamed','odymeds', 'homedeposit', 'remedy','confirmed', 'homedepot'\n",
    "                   'discover/homedepot consolidation', 'ahmed', 'overwhelmed by bills', 'stanford medstudent seekinginvestment$$', '20th anniversary mediterranean cruise',\n",
    "                   'i was scammed and now recovering','nchomedream', 'someday i will pay it forward - thanks', 'i dreamed a dream','king media', 'home \"remediation',\n",
    "                   'rapidly growing internet media business', 'high interest remediation', 'dept remediation', 'need car for transportation immediately',\n",
    "                   'immediate repayment for a personal loan', 'new way yoga and meditation', 'moving loan for immediate moving costs', 'paramedic school loan (ncti)',\n",
    "                   'business loan for media design startup','remote site paramedicine contractor', 'immediate loan relief','paramedic school', 'multimedia  expansion',\n",
    "                   'bofa,homedept,tax', 'paysomedepts', 'stress remedy & dream propellant', 'from a small to medium size business', 'remote site paramedicine contractor',\n",
    "                   'paysomedepts'\n",
    "                  ]\n",
    "filtered_matches_df = matches_df[~matches_df['loan_title'].isin(false_positives)]\n",
    "\n",
    "# === 🔹 Optimized Dictionary Mapping ===\n",
    "# Create a mapping dictionary to replace incorrect titles with 'debtconsolidation'\n",
    "correction_map = {title: 'medical expenses' for title in filtered_matches_df['loan_title']}\n",
    "\n",
    "# Efficiently update values using `.map()`\n",
    "accepted_df_v1.loc[accepted_df_v1['c_title'].isin(correction_map.keys()), 'c_title'] = accepted_df_v1['c_title'].map(correction_map)\n",
    "\n",
    "# End Timer\n",
    "end_timer = time.time()\n",
    "\n",
    "# End Timer\n",
    "end_timer = time.time()\n",
    "\n",
    "print(f\"\\n✅ Mapping Applied in {round(end_timer - start_timer, 2)} seconds\")"
   ]
  },
  {
   "cell_type": "code",
   "execution_count": 119,
   "id": "e25671eb-4fb7-4188-8237-5c14cb55423e",
   "metadata": {},
   "outputs": [
    {
     "name": "stdout",
     "output_type": "stream",
     "text": [
      "Number of Unique categories:  33889\n"
     ]
    }
   ],
   "source": [
    "print('Number of Unique categories: ', len(accepted_df_v1['c_title'].unique()))"
   ]
  },
  {
   "cell_type": "code",
   "execution_count": 120,
   "id": "c7884e84-4b6a-4855-8ea6-6f5a2fef297b",
   "metadata": {},
   "outputs": [
    {
     "name": "stdout",
     "output_type": "stream",
     "text": [
      "c_title\n",
      "debt consolidation         1076622\n",
      "credit card refinancing     461012\n",
      "home improvement            125167\n",
      "other                       108805\n",
      "major purchase               39208\n",
      "medical expenses             23652\n",
      "                             22969\n",
      "business                     18182\n",
      "car financing                17878\n",
      "consolidation loan           13023\n",
      "vacation                     12824\n",
      "moving and relocation        12024\n",
      "home buying                  10762\n",
      "personal loan                 5572\n",
      "loan                          1636\n",
      "payoff                        1464\n",
      "freedom                       1326\n",
      "my loan                       1209\n",
      "green loan                    1067\n",
      "home improvement loan          777\n",
      "refinance                      691\n",
      "pay off                        681\n",
      "wedding                        668\n",
      "bill consolidation             585\n",
      "wedding loan                   577\n",
      "small business loan            524\n",
      "car loan                       505\n",
      "bills                          487\n",
      "loan consolidation             445\n",
      "lending club                   384\n",
      "Name: count, dtype: int64\n"
     ]
    }
   ],
   "source": [
    "print(accepted_df_v1['c_title'].value_counts()[:30])"
   ]
  },
  {
   "cell_type": "code",
   "execution_count": 122,
   "id": "1798a0d5-272c-4643-8aa3-92a1fd0a072c",
   "metadata": {},
   "outputs": [],
   "source": [
    "loan_purpose = accepted_df_v1['title'].value_counts().reset_index()\n",
    "loan_purpose.to_csv('/Users/abubakaral-faki/Documents/Data Project/MPV1/temp_files/loan_titles_extraclean.csv', index = False)"
   ]
  },
  {
   "cell_type": "markdown",
   "id": "e8decdc1-a61a-4561-8c9f-71400e84f966",
   "metadata": {},
   "source": [
    "# Clean titles Fuzzy Matching didn't Identify"
   ]
  },
  {
   "cell_type": "code",
   "execution_count": 127,
   "id": "cd8686f9-b941-4e93-9a8c-44f543afefe7",
   "metadata": {},
   "outputs": [],
   "source": [
    "# Get all unique titles after cleaning\n",
    "semi_cleaned_titles = accepted_df_v1['c_title'].value_counts().reset_index()\n",
    "semi_cleaned_titles.columns = ['loan_purpose', 'count']\n",
    "\n",
    "# Save unique_titles_cleaned\n",
    "file_path = '/Users/abubakaral-faki/Documents/Data Project/MPV1/temp_files/semi_cleaned_titles.csv'\n",
    "semi_cleaned_titles.to_csv(file_path, index = False)"
   ]
  },
  {
   "cell_type": "code",
   "execution_count": 129,
   "id": "7082f506-152b-47d0-a7b8-741ca0c19f56",
   "metadata": {},
   "outputs": [],
   "source": [
    "# Identify Loans used to to help with credit card debt\n",
    "credit_card_loans = semi_cleaned_titles[semi_cleaned_titles['loan_purpose'].str.contains(r'\\bcc\\b|\\bcard\\b|\\bcredit\\b|\\bccr\\b', case = False, na = False, regex = True)]\n",
    "\n",
    "file_path = '/Users/abubakaral-faki/Documents/Data Project/MPV1/temp_files/credit_cards_left.csv'\n",
    "credit_card_loans.to_csv(file_path, index = False)"
   ]
  },
  {
   "cell_type": "code",
   "execution_count": 131,
   "id": "1f1b932d-180a-4900-a686-d19ca57bc776",
   "metadata": {},
   "outputs": [],
   "source": [
    "# Dictionary map to change titles of credit card related loans to 'credit card refinancing'\n",
    "credit_map = {credit_title: 'credit card refinancing' for credit_title in credit_card_loans['loan_purpose']}\n",
    "\n",
    "#Effiency replace titles of credit card related loans to 'credit card refinancing' using vectrorized operations\n",
    "accepted_df_v1.loc[accepted_df_v1['c_title'].isin(credit_map.keys()), 'c_title'] = accepted_df_v1['c_title'].map(credit_map)"
   ]
  },
  {
   "cell_type": "code",
   "execution_count": 133,
   "id": "bbe87e55-2587-432b-a547-f6deafe11ed7",
   "metadata": {},
   "outputs": [
    {
     "name": "stdout",
     "output_type": "stream",
     "text": [
      "Number of Unique categories:  33889\n"
     ]
    }
   ],
   "source": [
    "print('Number of Unique categories: ', len(accepted_df_v1['c_title'].unique()))"
   ]
  },
  {
   "cell_type": "markdown",
   "id": "4f0de886-05f8-44c4-b6eb-3b2e3ef4ebcc",
   "metadata": {},
   "source": [
    "# Identify Business Loans"
   ]
  },
  {
   "cell_type": "code",
   "execution_count": 136,
   "id": "701c0e36-abef-40e3-b037-ece9b9c20712",
   "metadata": {},
   "outputs": [],
   "source": [
    "# Get all unique titles after cleaning\n",
    "semi_cleaned_titles = accepted_df_v1['c_title'].value_counts().reset_index()\n",
    "semi_cleaned_titles.columns = ['loan_purpose', 'count']\n",
    "\n",
    "# Save unique_titles_cleaned\n",
    "#file_path = '/Users/abubakaral-faki/Documents/Data Project/MPV1/temp_files/semi_cleaned_titles.csv'\n",
    "#semi_cleaned_titles.to_csv(file_path, index = False)"
   ]
  },
  {
   "cell_type": "code",
   "execution_count": 138,
   "id": "2ec445ce-acd0-47c0-aa01-f1c04139688f",
   "metadata": {},
   "outputs": [],
   "source": [
    "# Identify Loans used to to help with credit card debt\n",
    "business_loans = semi_cleaned_titles[semi_cleaned_titles['loan_purpose'].str.contains(r'bussiness|biz|\\busines', case = False, na = False, regex = True)]\n",
    "\n",
    "file_path = '/Users/abubakaral-faki/Documents/Data Project/MPV1/temp_files/business_loans_left.csv'\n",
    "business_loans.to_csv(file_path, index = False)"
   ]
  },
  {
   "cell_type": "code",
   "execution_count": 140,
   "id": "2b309869-b184-415d-b622-8d5a0b783557",
   "metadata": {},
   "outputs": [],
   "source": [
    "# Dictionary map to change titles of credit card related loans to 'credit card refinancing'\n",
    "business_map = {business_title: 'business' for business_title in business_loans['loan_purpose']}\n",
    "\n",
    "#Effiency replace titles of credit card related loans to 'credit card refinancing' using vectrorized operations\n",
    "accepted_df_v1.loc[accepted_df_v1['c_title'].isin(business_map.keys()), 'c_title'] = accepted_df_v1['c_title'].map(business_map)"
   ]
  },
  {
   "cell_type": "code",
   "execution_count": 145,
   "id": "9ef8de23-53a8-4c45-9dd0-83a8b4cf112a",
   "metadata": {},
   "outputs": [
    {
     "name": "stdout",
     "output_type": "stream",
     "text": [
      "Number of Unique categories:  33889\n"
     ]
    }
   ],
   "source": [
    "print('Number of Unique categories: ', len(accepted_df_v1['c_title'].unique()))"
   ]
  },
  {
   "cell_type": "code",
   "execution_count": 155,
   "id": "dcfc7935-4841-46a4-8482-8aa551a977d3",
   "metadata": {},
   "outputs": [
    {
     "name": "stdout",
     "output_type": "stream",
     "text": [
      "<class 'pandas.core.series.Series'>\n",
      "Index: 2027841 entries, 0 to 2027963\n",
      "Series name: c_title\n",
      "Non-Null Count    Dtype \n",
      "--------------    ----- \n",
      "2027841 non-null  object\n",
      "dtypes: object(1)\n",
      "memory usage: 95.4+ MB\n"
     ]
    }
   ],
   "source": [
    "accepted_df_v1['c_title'].info()"
   ]
  },
  {
   "cell_type": "markdown",
   "id": "70390391-eee2-4893-b50e-9cf75add7991",
   "metadata": {},
   "source": [
    "# Export cleaned Dataframe"
   ]
  },
  {
   "cell_type": "code",
   "execution_count": 161,
   "id": "df264224-eb94-4857-b81f-f48e0eb4a9e4",
   "metadata": {},
   "outputs": [
    {
     "name": "stdout",
     "output_type": "stream",
     "text": [
      "Dataframe successfully saved as accepted_df_v2.csv\n"
     ]
    }
   ],
   "source": [
    "file_path = '/Users/abubakaral-faki/Documents/Data Project/MPV1/data/processed/accepted_df_v2.csv'\n",
    "accepted_df_v1.to_csv(file_path, index = False)\n",
    "\n",
    "print('Dataframe successfully saved as accepted_df_v2.csv')"
   ]
  }
 ],
 "metadata": {
  "kernelspec": {
   "display_name": "Python [conda env:base] *",
   "language": "python",
   "name": "conda-base-py"
  },
  "language_info": {
   "codemirror_mode": {
    "name": "ipython",
    "version": 3
   },
   "file_extension": ".py",
   "mimetype": "text/x-python",
   "name": "python",
   "nbconvert_exporter": "python",
   "pygments_lexer": "ipython3",
   "version": "3.11.5"
  }
 },
 "nbformat": 4,
 "nbformat_minor": 5
}
