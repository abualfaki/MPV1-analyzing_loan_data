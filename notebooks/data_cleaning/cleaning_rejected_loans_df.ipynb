{
 "cells": [
  {
   "cell_type": "code",
   "execution_count": 53,
   "id": "bbea45b0",
   "metadata": {},
   "outputs": [],
   "source": [
    "import pandas as pd\n",
    "\n",
    "# Convert rejected loans csv to dataframe\n",
    "rejected_loans_df = pd.read_csv('/Users/abubakaral-faki/Documents/Data Project/MPV1/data/raw/rejected_2007_to_2018Q4.csv')"
   ]
  },
  {
   "cell_type": "markdown",
   "id": "45f8e195",
   "metadata": {},
   "source": [
    "## Explore dataset and variable data types"
   ]
  },
  {
   "cell_type": "code",
   "execution_count": 54,
   "id": "3dace9be",
   "metadata": {},
   "outputs": [
    {
     "data": {
      "text/html": [
       "<div>\n",
       "<style scoped>\n",
       "    .dataframe tbody tr th:only-of-type {\n",
       "        vertical-align: middle;\n",
       "    }\n",
       "\n",
       "    .dataframe tbody tr th {\n",
       "        vertical-align: top;\n",
       "    }\n",
       "\n",
       "    .dataframe thead th {\n",
       "        text-align: right;\n",
       "    }\n",
       "</style>\n",
       "<table border=\"1\" class=\"dataframe\">\n",
       "  <thead>\n",
       "    <tr style=\"text-align: right;\">\n",
       "      <th></th>\n",
       "      <th>Amount Requested</th>\n",
       "      <th>Application Date</th>\n",
       "      <th>Loan Title</th>\n",
       "      <th>Risk_Score</th>\n",
       "      <th>Debt-To-Income Ratio</th>\n",
       "      <th>Zip Code</th>\n",
       "      <th>State</th>\n",
       "      <th>Employment Length</th>\n",
       "      <th>Policy Code</th>\n",
       "    </tr>\n",
       "  </thead>\n",
       "  <tbody>\n",
       "    <tr>\n",
       "      <th>0</th>\n",
       "      <td>1000.0</td>\n",
       "      <td>2007-05-26</td>\n",
       "      <td>Wedding Covered but No Honeymoon</td>\n",
       "      <td>693.0</td>\n",
       "      <td>10%</td>\n",
       "      <td>481xx</td>\n",
       "      <td>NM</td>\n",
       "      <td>4 years</td>\n",
       "      <td>0.0</td>\n",
       "    </tr>\n",
       "    <tr>\n",
       "      <th>1</th>\n",
       "      <td>1000.0</td>\n",
       "      <td>2007-05-26</td>\n",
       "      <td>Consolidating Debt</td>\n",
       "      <td>703.0</td>\n",
       "      <td>10%</td>\n",
       "      <td>010xx</td>\n",
       "      <td>MA</td>\n",
       "      <td>&lt; 1 year</td>\n",
       "      <td>0.0</td>\n",
       "    </tr>\n",
       "    <tr>\n",
       "      <th>2</th>\n",
       "      <td>11000.0</td>\n",
       "      <td>2007-05-27</td>\n",
       "      <td>Want to consolidate my debt</td>\n",
       "      <td>715.0</td>\n",
       "      <td>10%</td>\n",
       "      <td>212xx</td>\n",
       "      <td>MD</td>\n",
       "      <td>1 year</td>\n",
       "      <td>0.0</td>\n",
       "    </tr>\n",
       "    <tr>\n",
       "      <th>3</th>\n",
       "      <td>6000.0</td>\n",
       "      <td>2007-05-27</td>\n",
       "      <td>waksman</td>\n",
       "      <td>698.0</td>\n",
       "      <td>38.64%</td>\n",
       "      <td>017xx</td>\n",
       "      <td>MA</td>\n",
       "      <td>&lt; 1 year</td>\n",
       "      <td>0.0</td>\n",
       "    </tr>\n",
       "    <tr>\n",
       "      <th>4</th>\n",
       "      <td>1500.0</td>\n",
       "      <td>2007-05-27</td>\n",
       "      <td>mdrigo</td>\n",
       "      <td>509.0</td>\n",
       "      <td>9.43%</td>\n",
       "      <td>209xx</td>\n",
       "      <td>MD</td>\n",
       "      <td>&lt; 1 year</td>\n",
       "      <td>0.0</td>\n",
       "    </tr>\n",
       "  </tbody>\n",
       "</table>\n",
       "</div>"
      ],
      "text/plain": [
       "   Amount Requested Application Date                        Loan Title  \\\n",
       "0            1000.0       2007-05-26  Wedding Covered but No Honeymoon   \n",
       "1            1000.0       2007-05-26                Consolidating Debt   \n",
       "2           11000.0       2007-05-27       Want to consolidate my debt   \n",
       "3            6000.0       2007-05-27                           waksman   \n",
       "4            1500.0       2007-05-27                            mdrigo   \n",
       "\n",
       "   Risk_Score Debt-To-Income Ratio Zip Code State Employment Length  \\\n",
       "0       693.0                  10%    481xx    NM           4 years   \n",
       "1       703.0                  10%    010xx    MA          < 1 year   \n",
       "2       715.0                  10%    212xx    MD            1 year   \n",
       "3       698.0               38.64%    017xx    MA          < 1 year   \n",
       "4       509.0                9.43%    209xx    MD          < 1 year   \n",
       "\n",
       "   Policy Code  \n",
       "0          0.0  \n",
       "1          0.0  \n",
       "2          0.0  \n",
       "3          0.0  \n",
       "4          0.0  "
      ]
     },
     "execution_count": 54,
     "metadata": {},
     "output_type": "execute_result"
    }
   ],
   "source": [
    "rejected_loans_df.head()"
   ]
  },
  {
   "cell_type": "code",
   "execution_count": 55,
   "id": "01a8a8b9",
   "metadata": {},
   "outputs": [
    {
     "name": "stdout",
     "output_type": "stream",
     "text": [
      "Amount Requested        float64\n",
      "Application Date         object\n",
      "Loan Title               object\n",
      "Risk_Score              float64\n",
      "Debt-To-Income Ratio     object\n",
      "Zip Code                 object\n",
      "State                    object\n",
      "Employment Length        object\n",
      "Policy Code             float64\n",
      "dtype: object\n"
     ]
    }
   ],
   "source": [
    "# Check datatypes of all columns\n",
    "\n",
    "columns = rejected_loans_df.columns #store all columns in an iterable\n",
    "\n",
    "print(rejected_loans_df[columns].dtypes)"
   ]
  },
  {
   "cell_type": "markdown",
   "id": "2ed671f4",
   "metadata": {},
   "source": [
    "## Rename column to 'snake_case' format"
   ]
  },
  {
   "cell_type": "code",
   "execution_count": 56,
   "id": "39595df1",
   "metadata": {},
   "outputs": [
    {
     "name": "stdout",
     "output_type": "stream",
     "text": [
      "Index(['amount_requested', 'application_date', 'loan_title', 'risk_score',\n",
      "       'debt-to-income_ratio', 'zip_code', 'state', 'employment_length',\n",
      "       'policy_code'],\n",
      "      dtype='object')\n"
     ]
    }
   ],
   "source": [
    "# make column names lower case and replace spaces with '_' (underscores)\n",
    "\n",
    "rejected_loans_df.columns = rejected_loans_df.columns.str.lower().str.replace(' ', '_')\n",
    "\n",
    "print(rejected_loans_df.columns)"
   ]
  },
  {
   "cell_type": "code",
   "execution_count": 57,
   "id": "29265995",
   "metadata": {},
   "outputs": [
    {
     "name": "stdout",
     "output_type": "stream",
     "text": [
      "Index(['amount_requested', 'application_date', 'loan_title', 'risk_score',\n",
      "       'dti_ratio', 'zip_code', 'state', 'employment_length', 'policy_code'],\n",
      "      dtype='object')\n"
     ]
    }
   ],
   "source": [
    "#rename 'debt-to-income_ratio' to dti_ratio\n",
    "\n",
    "rejected_loans_df.rename(columns = {'debt-to-income_ratio': 'dti_ratio'}, inplace = True)\n",
    "\n",
    "print(rejected_loans_df.columns)"
   ]
  },
  {
   "cell_type": "code",
   "execution_count": 58,
   "id": "88438ea6",
   "metadata": {},
   "outputs": [],
   "source": [
    "# Convert application_date into date data type\n",
    "\n",
    "date_format = '%Y-%m-%d'\n",
    "\n",
    "rejected_loans_df['application_date'] = pd.to_datetime(rejected_loans_df['application_date'], format = date_format, errors = 'coerce')"
   ]
  },
  {
   "cell_type": "code",
   "execution_count": 59,
   "id": "a3355ad0",
   "metadata": {},
   "outputs": [
    {
     "name": "stdout",
     "output_type": "stream",
     "text": [
      "Datatype of 'application_date' column: datetime64[ns]\n"
     ]
    }
   ],
   "source": [
    "# confirm datatype of all 'application_date'\n",
    "\n",
    "print('Datatype of \\'application_date\\' column:', rejected_loans_df['application_date'].dtypes)"
   ]
  },
  {
   "cell_type": "markdown",
   "id": "be72da62",
   "metadata": {},
   "source": []
  },
  {
   "cell_type": "code",
   "execution_count": 60,
   "id": "1c49ad11",
   "metadata": {},
   "outputs": [
    {
     "data": {
      "text/plain": [
       "0"
      ]
     },
     "execution_count": 60,
     "metadata": {},
     "output_type": "execute_result"
    }
   ],
   "source": [
    "# Check for missing values in 'application_date column'\n",
    "\n",
    "rejected_loans_df['application_date'].isna().sum()"
   ]
  },
  {
   "cell_type": "markdown",
   "id": "b83287d5",
   "metadata": {},
   "source": [
    "No null values in application_date column"
   ]
  },
  {
   "cell_type": "markdown",
   "id": "58c733e8",
   "metadata": {},
   "source": [
    "## Check for missing values all columns"
   ]
  },
  {
   "cell_type": "code",
   "execution_count": 61,
   "id": "1b1d38c5",
   "metadata": {
    "scrolled": true
   },
   "outputs": [],
   "source": [
    "missing_values = rejected_loans_df.isna().sum()"
   ]
  },
  {
   "cell_type": "code",
   "execution_count": 62,
   "id": "b344fa0f",
   "metadata": {},
   "outputs": [
    {
     "name": "stdout",
     "output_type": "stream",
     "text": [
      "amount_requested            0\n",
      "application_date            0\n",
      "loan_title               1305\n",
      "risk_score           18497630\n",
      "dti_ratio                   0\n",
      "zip_code                  293\n",
      "state                      22\n",
      "employment_length      951355\n",
      "policy_code               918\n",
      "dtype: int64\n"
     ]
    }
   ],
   "source": [
    "print(missing_values)"
   ]
  },
  {
   "cell_type": "code",
   "execution_count": 63,
   "id": "f8a3360f",
   "metadata": {},
   "outputs": [
    {
     "name": "stdout",
     "output_type": "stream",
     "text": [
      "                   missing_count  percentage_missing\n",
      "loan_title                  1305               0.005\n",
      "risk_score              18497630              66.902\n",
      "zip_code                     293               0.001\n",
      "state                         22               0.000\n",
      "employment_length         951355               3.441\n",
      "policy_code                  918               0.003\n"
     ]
    }
   ],
   "source": [
    "# Convert missing_values to Dataframe\n",
    "missing_values_df = missing_values.to_frame(name = 'missing_count')\n",
    "\n",
    "# Compute percentage of missing values in of a column\n",
    "missing_values_df['percentage_missing'] = round((missing_values_df['missing_count']/rejected_loans_df.shape[0]) * 100,3)\n",
    "\n",
    "# Show only columns that have missing values\n",
    "print(missing_values_df[missing_values_df['missing_count'] != 0])"
   ]
  },
  {
   "cell_type": "markdown",
   "id": "3cca175d",
   "metadata": {},
   "source": [
    "we can see that risk_score has a 67% of its values missing which is significant compared to the whole datatset"
   ]
  },
  {
   "cell_type": "code",
   "execution_count": 64,
   "id": "01b96164",
   "metadata": {},
   "outputs": [
    {
     "data": {
      "text/plain": [
       "1305"
      ]
     },
     "execution_count": 64,
     "metadata": {},
     "output_type": "execute_result"
    }
   ],
   "source": [
    "rejected_loans_df['loan_title'].isna().sum()"
   ]
  },
  {
   "cell_type": "code",
   "execution_count": 65,
   "id": "d23de19d",
   "metadata": {},
   "outputs": [
    {
     "data": {
      "text/html": [
       "<div>\n",
       "<style scoped>\n",
       "    .dataframe tbody tr th:only-of-type {\n",
       "        vertical-align: middle;\n",
       "    }\n",
       "\n",
       "    .dataframe tbody tr th {\n",
       "        vertical-align: top;\n",
       "    }\n",
       "\n",
       "    .dataframe thead th {\n",
       "        text-align: right;\n",
       "    }\n",
       "</style>\n",
       "<table border=\"1\" class=\"dataframe\">\n",
       "  <thead>\n",
       "    <tr style=\"text-align: right;\">\n",
       "      <th></th>\n",
       "      <th>amount_requested</th>\n",
       "      <th>application_date</th>\n",
       "      <th>loan_title</th>\n",
       "      <th>risk_score</th>\n",
       "      <th>dti_ratio</th>\n",
       "      <th>zip_code</th>\n",
       "      <th>state</th>\n",
       "      <th>employment_length</th>\n",
       "      <th>policy_code</th>\n",
       "    </tr>\n",
       "  </thead>\n",
       "  <tbody>\n",
       "    <tr>\n",
       "      <th>13863</th>\n",
       "      <td>25000.0</td>\n",
       "      <td>2008-04-06</td>\n",
       "      <td>NaN</td>\n",
       "      <td>643.0</td>\n",
       "      <td>17.33%</td>\n",
       "      <td>681xx</td>\n",
       "      <td>NE</td>\n",
       "      <td>1 year</td>\n",
       "      <td>0.0</td>\n",
       "    </tr>\n",
       "    <tr>\n",
       "      <th>31073</th>\n",
       "      <td>15000.0</td>\n",
       "      <td>2009-01-03</td>\n",
       "      <td>NaN</td>\n",
       "      <td>511.0</td>\n",
       "      <td>12.92%</td>\n",
       "      <td>631xx</td>\n",
       "      <td>MO</td>\n",
       "      <td>5 years</td>\n",
       "      <td>0.0</td>\n",
       "    </tr>\n",
       "    <tr>\n",
       "      <th>31076</th>\n",
       "      <td>10000.0</td>\n",
       "      <td>2009-01-03</td>\n",
       "      <td>NaN</td>\n",
       "      <td>621.0</td>\n",
       "      <td>2.31%</td>\n",
       "      <td>631xx</td>\n",
       "      <td>MO</td>\n",
       "      <td>5 years</td>\n",
       "      <td>0.0</td>\n",
       "    </tr>\n",
       "    <tr>\n",
       "      <th>31976</th>\n",
       "      <td>5000.0</td>\n",
       "      <td>2009-01-12</td>\n",
       "      <td>NaN</td>\n",
       "      <td>626.0</td>\n",
       "      <td>9.06%</td>\n",
       "      <td>631xx</td>\n",
       "      <td>MO</td>\n",
       "      <td>1 year</td>\n",
       "      <td>0.0</td>\n",
       "    </tr>\n",
       "    <tr>\n",
       "      <th>31979</th>\n",
       "      <td>2000.0</td>\n",
       "      <td>2009-01-12</td>\n",
       "      <td>NaN</td>\n",
       "      <td>0.0</td>\n",
       "      <td>0%</td>\n",
       "      <td>631xx</td>\n",
       "      <td>MO</td>\n",
       "      <td>3 years</td>\n",
       "      <td>0.0</td>\n",
       "    </tr>\n",
       "  </tbody>\n",
       "</table>\n",
       "</div>"
      ],
      "text/plain": [
       "       amount_requested application_date loan_title  risk_score dti_ratio  \\\n",
       "13863           25000.0       2008-04-06        NaN       643.0    17.33%   \n",
       "31073           15000.0       2009-01-03        NaN       511.0    12.92%   \n",
       "31076           10000.0       2009-01-03        NaN       621.0     2.31%   \n",
       "31976            5000.0       2009-01-12        NaN       626.0     9.06%   \n",
       "31979            2000.0       2009-01-12        NaN         0.0        0%   \n",
       "\n",
       "      zip_code state employment_length  policy_code  \n",
       "13863    681xx    NE            1 year          0.0  \n",
       "31073    631xx    MO           5 years          0.0  \n",
       "31076    631xx    MO           5 years          0.0  \n",
       "31976    631xx    MO            1 year          0.0  \n",
       "31979    631xx    MO           3 years          0.0  "
      ]
     },
     "execution_count": 65,
     "metadata": {},
     "output_type": "execute_result"
    }
   ],
   "source": [
    "#Identify rows with missing values\n",
    "\n",
    "rejected_loans_df[rejected_loans_df['loan_title'].isna()].head()\n",
    "\n"
   ]
  },
  {
   "cell_type": "markdown",
   "id": "d03d1da7",
   "metadata": {},
   "source": [
    "## Create new feature from zip_code column"
   ]
  },
  {
   "cell_type": "markdown",
   "id": "1d26ed34",
   "metadata": {},
   "source": [
    "The last 3 numbers in the zip_code column have been blanked out with 'xxx'.\n",
    "\n",
    "I want to create a new variable named \"zip_code_prefix\" containing the first 3 letters and then converting it into a categorical variable."
   ]
  },
  {
   "cell_type": "code",
   "execution_count": 66,
   "id": "8e5a356d",
   "metadata": {},
   "outputs": [
    {
     "name": "stdout",
     "output_type": "stream",
     "text": [
      "0    481\n",
      "1    010\n",
      "2    212\n",
      "3    017\n",
      "4    209\n",
      "Name: zip_code_prefix, dtype: object\n"
     ]
    }
   ],
   "source": [
    "# create a zip_code_prefix column to contain the first numbers of a zip_code\n",
    "\n",
    "rejected_loans_df['zip_code_prefix'] = rejected_loans_df['zip_code'].str[:3]\n",
    "\n",
    "print(rejected_loans_df['zip_code_prefix'].head())"
   ]
  },
  {
   "cell_type": "code",
   "execution_count": 67,
   "id": "eac17f89",
   "metadata": {},
   "outputs": [
    {
     "name": "stdout",
     "output_type": "stream",
     "text": [
      "object\n"
     ]
    }
   ],
   "source": [
    "# Check data type of 'zip_code_prefix'\n",
    "\n",
    "print(rejected_loans_df['zip_code_prefix'].dtype)"
   ]
  },
  {
   "cell_type": "code",
   "execution_count": 68,
   "id": "f249958e",
   "metadata": {},
   "outputs": [
    {
     "name": "stdout",
     "output_type": "stream",
     "text": [
      "True\n"
     ]
    }
   ],
   "source": [
    "# Check number if missing values of zip_code_prefix is the same as zip_code\n",
    "\n",
    "print(rejected_loans_df['zip_code_prefix'].isna().sum() == rejected_loans_df['zip_code'].isna().sum())"
   ]
  },
  {
   "cell_type": "code",
   "execution_count": 69,
   "id": "7de448b4",
   "metadata": {},
   "outputs": [
    {
     "name": "stdout",
     "output_type": "stream",
     "text": [
      "       amount_requested application_date                  loan_title  \\\n",
      "10521            2000.0       2008-03-07  help credit cards problems   \n",
      "10553            7500.0       2008-03-07   Looking for better rates!   \n",
      "10572            7000.0       2008-03-07               PERSONAL LOAN   \n",
      "10578            7000.0       2008-03-07              Paying of debt   \n",
      "10588           15000.0       2008-03-07                Loan request   \n",
      "\n",
      "       risk_score dti_ratio zip_code state employment_length  policy_code  \\\n",
      "10521       673.0       -1%      NaN   NaN          < 1 year          0.0   \n",
      "10553       614.0       -1%      NaN   NaN          < 1 year          0.0   \n",
      "10572       612.0       -1%      NaN   NaN          < 1 year          0.0   \n",
      "10578       733.0       -1%      NaN   NaN          < 1 year          0.0   \n",
      "10588       672.0       -1%      NaN   NaN          < 1 year          0.0   \n",
      "\n",
      "      zip_code_prefix  \n",
      "10521             NaN  \n",
      "10553             NaN  \n",
      "10572             NaN  \n",
      "10578             NaN  \n",
      "10588             NaN  \n"
     ]
    }
   ],
   "source": [
    "# Explore rows of zip_code_prefix that have missing data\n",
    "\n",
    "print(rejected_loans_df[rejected_loans_df['zip_code_prefix'].isna()].head())"
   ]
  },
  {
   "cell_type": "markdown",
   "id": "ec4abf86",
   "metadata": {},
   "source": [
    "Looks like we have '-1%' dti_ratio (Debt to income ratio) for rows that have missing values in the zip_code_prefix columns"
   ]
  },
  {
   "cell_type": "markdown",
   "id": "b21ebfce",
   "metadata": {},
   "source": [
    "### Convert 'zip_code_prefix' into categorical variable"
   ]
  },
  {
   "cell_type": "code",
   "execution_count": 70,
   "id": "414ecb99",
   "metadata": {},
   "outputs": [],
   "source": [
    "# Convert zip_code_prefix column in to categorical variable\n",
    "\n",
    "rejected_loans_df['zip_code_prefix'] = rejected_loans_df['zip_code_prefix'].astype('category')"
   ]
  },
  {
   "cell_type": "code",
   "execution_count": 71,
   "id": "ef20e3e4",
   "metadata": {},
   "outputs": [
    {
     "data": {
      "text/plain": [
       "count     27648448\n",
       "unique        1001\n",
       "top            112\n",
       "freq        267102\n",
       "Name: zip_code_prefix, dtype: object"
      ]
     },
     "execution_count": 71,
     "metadata": {},
     "output_type": "execute_result"
    }
   ],
   "source": [
    "rejected_loans_df['zip_code_prefix'].describe()"
   ]
  },
  {
   "cell_type": "code",
   "execution_count": 72,
   "id": "2de5cbd3",
   "metadata": {},
   "outputs": [
    {
     "name": "stdout",
     "output_type": "stream",
     "text": [
      "category\n"
     ]
    }
   ],
   "source": [
    "print(rejected_loans_df['zip_code_prefix'].dtype)"
   ]
  },
  {
   "cell_type": "code",
   "execution_count": 73,
   "id": "c1743584",
   "metadata": {},
   "outputs": [
    {
     "name": "stdout",
     "output_type": "stream",
     "text": [
      "1001\n"
     ]
    }
   ],
   "source": [
    "#Number of zip code in the zip_code_prefix columns\n",
    "print(len(rejected_loans_df['zip_code_prefix'].cat.categories))"
   ]
  },
  {
   "cell_type": "markdown",
   "id": "b782d56f",
   "metadata": {},
   "source": [
    "## Cleaning dti_ratio (Debt-to-Income Ratio)"
   ]
  },
  {
   "cell_type": "markdown",
   "id": "14e04a04",
   "metadata": {},
   "source": [
    "The dti_ration column has percentage signs we need to remove to we can run mathematical operations such as mean, median, standare deviation etc."
   ]
  },
  {
   "cell_type": "code",
   "execution_count": 74,
   "id": "2d5d4fe0",
   "metadata": {},
   "outputs": [
    {
     "data": {
      "text/plain": [
       "count     27648741\n",
       "unique      126145\n",
       "top           100%\n",
       "freq       1362556\n",
       "Name: dti_ratio, dtype: object"
      ]
     },
     "execution_count": 74,
     "metadata": {},
     "output_type": "execute_result"
    }
   ],
   "source": [
    "# Exlore dti_ratio\n",
    "\n",
    "rejected_loans_df['dti_ratio'].describe()"
   ]
  },
  {
   "cell_type": "code",
   "execution_count": 76,
   "id": "ac7b1b42",
   "metadata": {},
   "outputs": [
    {
     "name": "stdout",
     "output_type": "stream",
     "text": [
      "<class 'pandas.core.series.Series'>\n",
      "RangeIndex: 27648741 entries, 0 to 27648740\n",
      "Series name: dti_ratio\n",
      "Non-Null Count     Dtype \n",
      "--------------     ----- \n",
      "27648741 non-null  object\n",
      "dtypes: object(1)\n",
      "memory usage: 210.9+ MB\n"
     ]
    }
   ],
   "source": [
    "rejected_loans_df['dti_ratio'].info()"
   ]
  },
  {
   "cell_type": "markdown",
   "id": "aeeacf47",
   "metadata": {},
   "source": [
    "### Remove percetage sign from dti_ratio"
   ]
  },
  {
   "cell_type": "code",
   "execution_count": 77,
   "id": "f36867f3",
   "metadata": {},
   "outputs": [],
   "source": [
    "# Remoe percetage symbol(%) from sti_ratio\n",
    "\n",
    "#rejected_loans_df['dti_ratio'] = rejected_loans_df['dti_ratio'].apply(lambda num: num[:len(num) - 2])"
   ]
  },
  {
   "cell_type": "code",
   "execution_count": 78,
   "id": "5fff5396",
   "metadata": {},
   "outputs": [],
   "source": [
    "# Remoe percetage symbol(%) from sti_ratio\n",
    "\n",
    "rejected_loans_df['dti_ratio'] = rejected_loans_df['dti_ratio'].str.replace('%','')"
   ]
  },
  {
   "cell_type": "code",
   "execution_count": 80,
   "id": "ebd8c5e7",
   "metadata": {},
   "outputs": [
    {
     "name": "stdout",
     "output_type": "stream",
     "text": [
      "0        10\n",
      "1        10\n",
      "2        10\n",
      "3     38.64\n",
      "4      9.43\n",
      "      ...  \n",
      "95     0.86\n",
      "96    39.79\n",
      "97     6.55\n",
      "98      1.6\n",
      "99     22.5\n",
      "Name: dti_ratio, Length: 100, dtype: object\n"
     ]
    }
   ],
   "source": [
    "# Check is changes '%' were removed as expected\n",
    "\n",
    "print(rejected_loans_df['dti_ratio'].head(100))"
   ]
  },
  {
   "cell_type": "markdown",
   "id": "beefc4a5",
   "metadata": {},
   "source": [
    "### Convert 'dti_ratio' to float"
   ]
  },
  {
   "cell_type": "code",
   "execution_count": 83,
   "id": "8314675b",
   "metadata": {},
   "outputs": [],
   "source": [
    "# convert dti_ratio to float\n",
    "\n",
    "rejected_loans_df['dti_ratio'] = rejected_loans_df['dti_ratio'].astype('float')"
   ]
  },
  {
   "cell_type": "code",
   "execution_count": 85,
   "id": "7f4045e9",
   "metadata": {},
   "outputs": [
    {
     "name": "stdout",
     "output_type": "stream",
     "text": [
      "float64\n"
     ]
    }
   ],
   "source": [
    "# Confirm dti_ration was converted to float\n",
    "\n",
    "print(rejected_loans_df['dti_ratio'].dtype)"
   ]
  },
  {
   "cell_type": "markdown",
   "id": "5a12a553",
   "metadata": {},
   "source": [
    "### Explore dti_ratio"
   ]
  },
  {
   "cell_type": "code",
   "execution_count": 87,
   "id": "3b2f04ce",
   "metadata": {},
   "outputs": [
    {
     "data": {
      "text/plain": [
       "count    2.764874e+07\n",
       "mean     1.433401e+02\n",
       "std      1.053916e+04\n",
       "min     -1.000000e+00\n",
       "25%      8.060000e+00\n",
       "50%      1.998000e+01\n",
       "75%      3.661000e+01\n",
       "max      5.000003e+07\n",
       "Name: dti_ratio, dtype: float64"
      ]
     },
     "execution_count": 87,
     "metadata": {},
     "output_type": "execute_result"
    }
   ],
   "source": [
    "rejected_loans_df['dti_ratio'].describe()"
   ]
  },
  {
   "cell_type": "markdown",
   "id": "1bf4c6bd",
   "metadata": {},
   "source": [
    "seems we have -1 for debt_to_income ratio"
   ]
  },
  {
   "cell_type": "code",
   "execution_count": 89,
   "id": "968b344c",
   "metadata": {},
   "outputs": [
    {
     "data": {
      "text/html": [
       "<div>\n",
       "<style scoped>\n",
       "    .dataframe tbody tr th:only-of-type {\n",
       "        vertical-align: middle;\n",
       "    }\n",
       "\n",
       "    .dataframe tbody tr th {\n",
       "        vertical-align: top;\n",
       "    }\n",
       "\n",
       "    .dataframe thead th {\n",
       "        text-align: right;\n",
       "    }\n",
       "</style>\n",
       "<table border=\"1\" class=\"dataframe\">\n",
       "  <thead>\n",
       "    <tr style=\"text-align: right;\">\n",
       "      <th></th>\n",
       "      <th>amount_requested</th>\n",
       "      <th>application_date</th>\n",
       "      <th>loan_title</th>\n",
       "      <th>risk_score</th>\n",
       "      <th>dti_ratio</th>\n",
       "      <th>zip_code</th>\n",
       "      <th>state</th>\n",
       "      <th>employment_length</th>\n",
       "      <th>policy_code</th>\n",
       "      <th>zip_code_prefix</th>\n",
       "    </tr>\n",
       "  </thead>\n",
       "  <tbody>\n",
       "    <tr>\n",
       "      <th>10521</th>\n",
       "      <td>2000.0</td>\n",
       "      <td>2008-03-07</td>\n",
       "      <td>help credit cards problems</td>\n",
       "      <td>673.0</td>\n",
       "      <td>-1.0</td>\n",
       "      <td>NaN</td>\n",
       "      <td>NaN</td>\n",
       "      <td>&lt; 1 year</td>\n",
       "      <td>0.0</td>\n",
       "      <td>NaN</td>\n",
       "    </tr>\n",
       "    <tr>\n",
       "      <th>10553</th>\n",
       "      <td>7500.0</td>\n",
       "      <td>2008-03-07</td>\n",
       "      <td>Looking for better rates!</td>\n",
       "      <td>614.0</td>\n",
       "      <td>-1.0</td>\n",
       "      <td>NaN</td>\n",
       "      <td>NaN</td>\n",
       "      <td>&lt; 1 year</td>\n",
       "      <td>0.0</td>\n",
       "      <td>NaN</td>\n",
       "    </tr>\n",
       "    <tr>\n",
       "      <th>10559</th>\n",
       "      <td>5000.0</td>\n",
       "      <td>2008-03-07</td>\n",
       "      <td>buying car for work</td>\n",
       "      <td>NaN</td>\n",
       "      <td>-1.0</td>\n",
       "      <td>203xx</td>\n",
       "      <td>DC</td>\n",
       "      <td>&lt; 1 year</td>\n",
       "      <td>0.0</td>\n",
       "      <td>203</td>\n",
       "    </tr>\n",
       "    <tr>\n",
       "      <th>10565</th>\n",
       "      <td>25000.0</td>\n",
       "      <td>2008-03-07</td>\n",
       "      <td>Looking to Grow My Business</td>\n",
       "      <td>NaN</td>\n",
       "      <td>-1.0</td>\n",
       "      <td>919xx</td>\n",
       "      <td>CA</td>\n",
       "      <td>2 years</td>\n",
       "      <td>0.0</td>\n",
       "      <td>919</td>\n",
       "    </tr>\n",
       "    <tr>\n",
       "      <th>10570</th>\n",
       "      <td>2000.0</td>\n",
       "      <td>2008-03-07</td>\n",
       "      <td>Medical Fee</td>\n",
       "      <td>NaN</td>\n",
       "      <td>-1.0</td>\n",
       "      <td>906xx</td>\n",
       "      <td>CA</td>\n",
       "      <td>1 year</td>\n",
       "      <td>0.0</td>\n",
       "      <td>906</td>\n",
       "    </tr>\n",
       "  </tbody>\n",
       "</table>\n",
       "</div>"
      ],
      "text/plain": [
       "       amount_requested application_date                   loan_title  \\\n",
       "10521            2000.0       2008-03-07   help credit cards problems   \n",
       "10553            7500.0       2008-03-07    Looking for better rates!   \n",
       "10559            5000.0       2008-03-07          buying car for work   \n",
       "10565           25000.0       2008-03-07  Looking to Grow My Business   \n",
       "10570            2000.0       2008-03-07                  Medical Fee   \n",
       "\n",
       "       risk_score  dti_ratio zip_code state employment_length  policy_code  \\\n",
       "10521       673.0       -1.0      NaN   NaN          < 1 year          0.0   \n",
       "10553       614.0       -1.0      NaN   NaN          < 1 year          0.0   \n",
       "10559         NaN       -1.0    203xx    DC          < 1 year          0.0   \n",
       "10565         NaN       -1.0    919xx    CA           2 years          0.0   \n",
       "10570         NaN       -1.0    906xx    CA            1 year          0.0   \n",
       "\n",
       "      zip_code_prefix  \n",
       "10521             NaN  \n",
       "10553             NaN  \n",
       "10559             203  \n",
       "10565             919  \n",
       "10570             906  "
      ]
     },
     "execution_count": 89,
     "metadata": {},
     "output_type": "execute_result"
    }
   ],
   "source": [
    "# Explore rows where dti_ratio equals '-1'\n",
    "\n",
    "rejected_loans_df[rejected_loans_df['dti_ratio'] == -1].head()"
   ]
  },
  {
   "cell_type": "code",
   "execution_count": 97,
   "id": "3550eedb",
   "metadata": {},
   "outputs": [
    {
     "name": "stdout",
     "output_type": "stream",
     "text": [
      "Number of rows in dti_ratio equal to -1: 1203063\n",
      "This is  4.35 % of the dataset.\n"
     ]
    }
   ],
   "source": [
    "#Check number of rows that have dti_ratio eual to '-1'\n",
    "\n",
    "print('Number of rows in dti_ratio equal to -1:', (rejected_loans_df['dti_ratio'] == -1).sum())\n",
    "print('This is ', round((((rejected_loans_df['dti_ratio'] == -1).sum())/rejected_loans_df.shape[0]) * 100, 2), '% of the dataset.')"
   ]
  },
  {
   "cell_type": "code",
   "execution_count": 98,
   "id": "f7ca7e52",
   "metadata": {},
   "outputs": [
    {
     "data": {
      "text/html": [
       "<div>\n",
       "<style scoped>\n",
       "    .dataframe tbody tr th:only-of-type {\n",
       "        vertical-align: middle;\n",
       "    }\n",
       "\n",
       "    .dataframe tbody tr th {\n",
       "        vertical-align: top;\n",
       "    }\n",
       "\n",
       "    .dataframe thead th {\n",
       "        text-align: right;\n",
       "    }\n",
       "</style>\n",
       "<table border=\"1\" class=\"dataframe\">\n",
       "  <thead>\n",
       "    <tr style=\"text-align: right;\">\n",
       "      <th></th>\n",
       "      <th>amount_requested</th>\n",
       "      <th>application_date</th>\n",
       "      <th>loan_title</th>\n",
       "      <th>risk_score</th>\n",
       "      <th>dti_ratio</th>\n",
       "      <th>zip_code</th>\n",
       "      <th>state</th>\n",
       "      <th>employment_length</th>\n",
       "      <th>policy_code</th>\n",
       "      <th>zip_code_prefix</th>\n",
       "    </tr>\n",
       "  </thead>\n",
       "  <tbody>\n",
       "    <tr>\n",
       "      <th>5</th>\n",
       "      <td>15000.0</td>\n",
       "      <td>2007-05-27</td>\n",
       "      <td>Trinfiniti</td>\n",
       "      <td>645.0</td>\n",
       "      <td>0.0</td>\n",
       "      <td>105xx</td>\n",
       "      <td>NY</td>\n",
       "      <td>3 years</td>\n",
       "      <td>0.0</td>\n",
       "      <td>105</td>\n",
       "    </tr>\n",
       "    <tr>\n",
       "      <th>30</th>\n",
       "      <td>1000.0</td>\n",
       "      <td>2007-05-30</td>\n",
       "      <td>ashtru</td>\n",
       "      <td>695.0</td>\n",
       "      <td>0.0</td>\n",
       "      <td>443xx</td>\n",
       "      <td>OH</td>\n",
       "      <td>&lt; 1 year</td>\n",
       "      <td>0.0</td>\n",
       "      <td>443</td>\n",
       "    </tr>\n",
       "    <tr>\n",
       "      <th>41</th>\n",
       "      <td>3000.0</td>\n",
       "      <td>2007-05-31</td>\n",
       "      <td>danthe83</td>\n",
       "      <td>536.0</td>\n",
       "      <td>0.0</td>\n",
       "      <td>551xx</td>\n",
       "      <td>MN</td>\n",
       "      <td>&lt; 1 year</td>\n",
       "      <td>0.0</td>\n",
       "      <td>551</td>\n",
       "    </tr>\n",
       "    <tr>\n",
       "      <th>57</th>\n",
       "      <td>1200.0</td>\n",
       "      <td>2007-06-01</td>\n",
       "      <td>jflack</td>\n",
       "      <td>524.0</td>\n",
       "      <td>0.0</td>\n",
       "      <td>720xx</td>\n",
       "      <td>AR</td>\n",
       "      <td>4 years</td>\n",
       "      <td>0.0</td>\n",
       "      <td>720</td>\n",
       "    </tr>\n",
       "    <tr>\n",
       "      <th>58</th>\n",
       "      <td>4000.0</td>\n",
       "      <td>2007-06-01</td>\n",
       "      <td>ceodiva</td>\n",
       "      <td>460.0</td>\n",
       "      <td>0.0</td>\n",
       "      <td>302xx</td>\n",
       "      <td>GA</td>\n",
       "      <td>&lt; 1 year</td>\n",
       "      <td>0.0</td>\n",
       "      <td>302</td>\n",
       "    </tr>\n",
       "  </tbody>\n",
       "</table>\n",
       "</div>"
      ],
      "text/plain": [
       "    amount_requested application_date  loan_title  risk_score  dti_ratio  \\\n",
       "5            15000.0       2007-05-27  Trinfiniti       645.0        0.0   \n",
       "30            1000.0       2007-05-30      ashtru       695.0        0.0   \n",
       "41            3000.0       2007-05-31    danthe83       536.0        0.0   \n",
       "57            1200.0       2007-06-01      jflack       524.0        0.0   \n",
       "58            4000.0       2007-06-01     ceodiva       460.0        0.0   \n",
       "\n",
       "   zip_code state employment_length  policy_code zip_code_prefix  \n",
       "5     105xx    NY           3 years          0.0             105  \n",
       "30    443xx    OH          < 1 year          0.0             443  \n",
       "41    551xx    MN          < 1 year          0.0             551  \n",
       "57    720xx    AR           4 years          0.0             720  \n",
       "58    302xx    GA          < 1 year          0.0             302  "
      ]
     },
     "execution_count": 98,
     "metadata": {},
     "output_type": "execute_result"
    }
   ],
   "source": [
    "#Let's check if there is rows of dti_ratio equal to zero\n",
    "\n",
    "rejected_loans_df[rejected_loans_df['dti_ratio'] == 0].head()"
   ]
  },
  {
   "cell_type": "code",
   "execution_count": 100,
   "id": "6b187f47",
   "metadata": {},
   "outputs": [
    {
     "name": "stdout",
     "output_type": "stream",
     "text": [
      "Number of rows in dti_ratio equal to 0: 1045102\n",
      "This is  3.78 % of the dataset.\n"
     ]
    }
   ],
   "source": [
    "#Check number of rows that have dti_ratio eual to '0'\n",
    "\n",
    "print('Number of rows in dti_ratio equal to 0:', (rejected_loans_df['dti_ratio'] == 0).sum())\n",
    "print('This is ', round((((rejected_loans_df['dti_ratio'] == 0).sum())/rejected_loans_df.shape[0]) * 100, 2), '% of the dataset.')"
   ]
  },
  {
   "cell_type": "code",
   "execution_count": 88,
   "id": "34dfee6e",
   "metadata": {},
   "outputs": [
    {
     "name": "stdout",
     "output_type": "stream",
     "text": [
      "<class 'pandas.core.series.Series'>\n",
      "RangeIndex: 27648741 entries, 0 to 27648740\n",
      "Series name: dti_ratio\n",
      "Non-Null Count     Dtype  \n",
      "--------------     -----  \n",
      "27648741 non-null  float64\n",
      "dtypes: float64(1)\n",
      "memory usage: 210.9 MB\n"
     ]
    }
   ],
   "source": [
    "rejected_loans_df['dti_ratio'].info()"
   ]
  }
 ],
 "metadata": {
  "kernelspec": {
   "display_name": "Python 3 (ipykernel)",
   "language": "python",
   "name": "python3"
  },
  "language_info": {
   "codemirror_mode": {
    "name": "ipython",
    "version": 3
   },
   "file_extension": ".py",
   "mimetype": "text/x-python",
   "name": "python",
   "nbconvert_exporter": "python",
   "pygments_lexer": "ipython3",
   "version": "3.11.5"
  }
 },
 "nbformat": 4,
 "nbformat_minor": 5
}
